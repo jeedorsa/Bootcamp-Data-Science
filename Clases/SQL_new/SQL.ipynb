{
 "cells": [
  {
   "cell_type": "markdown",
   "metadata": {},
   "source": [
    "<br/>\n",
    "<img src=\"images/cd-logo-blue-600x600.png\" alt=\"\" width=\"130px\" align=\"left\"/>\n",
    "<img src=\"images/cd-logo-blue-600x600.png\" alt=\"\" width=\"130px\" align=\"right\"/>\n",
    "<div align=\"center\">\n",
    "<h2>Bootcamp Data Science - Módulo 3</h2><br/>\n",
    "<h1>Python y SQL</h1>\n",
    "<br/><br/>\n",
    "    <b>Instructor Principal:</b> Jesús Ortiz jortiz@codingdojo.la <br/>\n",
    "    <b>Instructor Asistente:</b> Daniela Blanco dblanco@codingdojo.la<br/><br/>\n",
    "    <b>Coding Dojo</b>\n",
    "</div>\n",
    "<br>\n"
   ]
  },
  {
   "cell_type": "markdown",
   "metadata": {},
   "source": [
    "# Clase de Introducción a SQL con Python\n",
    "\n",
    "## Objetivos de la Clase\n",
    "\n",
    "- Entender qué es SQL y para qué se utiliza\n",
    "- Aprender cómo interactuar con una base de datos SQL utilizando Python\n",
    "- Familiarizarse con los comandos básicos de SQL: SELECT, WHERE, ORDER BY, JOIN, GROUP BY\n",
    "\n",
    "## ¿Qué es SQL?\n",
    "\n",
    "SQL (Structured Query Language) es un lenguaje de programación utilizado para comunicarse con y manipular bases de datos. \n",
    "\n",
    "## Interactuando con SQL usando Python\n",
    "\n",
    "Python proporciona varias bibliotecas para interactuar con bases de datos SQL. En esta clase, utilizaremos `sqlite3`, que permite interactuar con una base de datos SQLite.\n",
    "\n",
    "Primero, necesitamos importar la biblioteca y conectar a la base de datos.\n",
    "\n",
    "```python\n",
    "import sqlite3\n",
    "\n",
    "conn = sqlite3.connect('bookstore.db')\n",
    "```\n",
    "\n",
    "## Creando una Base de Datos\n",
    "\n",
    "Vamos a crear una base de datos para una tienda de libros. Nuestra base de datos tendrá una tabla llamada `books` con las siguientes columnas: `id`, `title`, `author`, `genre`, `price`.\n",
    "\n",
    "```python\n",
    "c = conn.cursor()\n",
    "\n",
    "c.execute(\"\"\"\n",
    "    CREATE TABLE books (\n",
    "        id INTEGER PRIMARY KEY,\n",
    "        title TEXT,\n",
    "        author TEXT,\n",
    "        genre TEXT,\n",
    "        price REAL\n",
    "    )\n",
    "\"\"\")\n",
    "\n",
    "conn.commit()\n",
    "```\n",
    "\n",
    "Ahora, vamos a insertar algunos libros en nuestra tabla.\n",
    "\n",
    "```python\n",
    "books = [\n",
    "    ('To Kill a Mockingbird', 'Harper Lee', 'Fiction', 18.99),\n",
    "    ('1984', 'George Orwell', 'Dystopian', 8.99),\n",
    "    ('The Great Gatsby', 'F. Scott Fitzgerald', 'Classic', 14.99),\n",
    "]\n",
    "\n",
    "c.executemany(\"INSERT INTO books (title, author, genre, price) VALUES (?, ?, ?, ?)\", books)\n",
    "\n",
    "conn.commit()\n",
    "```\n",
    "\n",
    "## Consultando Datos con SELECT\n",
    "\n",
    "El comando SELECT se utiliza para seleccionar datos de una base de datos. Los datos devueltos se almacenan en una tabla de resultados.\n",
    "\n",
    "```python\n",
    "c.execute(\"SELECT * FROM books\")\n",
    "print(c.fetchall())\n",
    "```\n",
    "\n",
    "## Filtrando Datos con WHERE\n",
    "\n",
    "El comando WHERE se utiliza para filtrar registros.\n",
    "\n",
    "```python\n",
    "c.execute(\"SELECT * FROM books WHERE genre = 'Fiction'\")\n",
    "print(c.fetchall())\n",
    "```\n",
    "\n",
    "## Ordenando Datos con ORDER BY\n",
    "\n",
    "El comando ORDER BY se utiliza para ordenar los registros en los resultados de una consulta.\n",
    "\n",
    "```python\n",
    "c.execute(\"SELECT * FROM books ORDER BY price DESC\")\n",
    "print(c.fetchall())\n",
    "```\n",
    "\n",
    "## Uniendo Tablas con JOIN\n",
    "\n",
    "El comando JOIN se utiliza para combinar filas de dos o más tablas.\n",
    "\n",
    "Primero, vamos a crear una segunda tabla `sales` y luego realizaremos una consulta JOIN.\n",
    "\n",
    "```python\n",
    "c.execute(\"\"\"\n",
    "    CREATE TABLE sales (\n",
    "        id INTEGER PRIMARY KEY,\n",
    "        book_id INTEGER,\n",
    "        sale_date TEXT,\n",
    "        quantity INTEGER,\n",
    "        FOREIGN KEY(book_id) REFERENCES books(id)\n",
    "    )\n",
    "\"\"\")\n",
    "\n",
    "sales = [\n",
    "    (1, '2022-01-01', 2),\n",
    "    (1, '2022-01-03', 1),\n",
    "    (2, '2022-01-03', 1),\n",
    "]\n",
    "\n",
    "c.executemany(\"INSERT INTO sales (book_id, sale_date, quantity) VALUES (?, ?, ?)\", sales)\n",
    "\n",
    "conn.commit()\n",
    "\n",
    "c.execute(\"\"\"\n",
    "    SELECT books.title, sales.sale_date, sales.quantity \n",
    "    FROM books \n",
    "    JOIN sales ON books.id = sales.book_id\n",
    "\"\"\")\n",
    "print(c.fetchall())\n",
    "```\n",
    "\n",
    "## Agrupando Datos con GROUP BY\n",
    "\n",
    "El comando GROUP BY se utiliza junto con funciones agregadas (COUNT, MAX, MIN, SUM, AVG) para agrupar el conjunto de resultados por una o más columnas.\n",
    "\n",
    "```python\n",
    "c.execute(\"\"\"\n",
    "    SELECT books.title, SUM(sales.quantity) \n",
    "    FROM books \n",
    "    JOIN sales ON books.id = sales.book_id \n",
    "    GROUP BY books.title\n",
    "\"\"\")\n",
    "print(c.fetchall())\n",
    "```\n",
    "\n",
    "Finalmente, no olvides cerrar la conexión a la base de datos.\n",
    "\n",
    "```python\n",
    "conn.close()\n",
    "```\n"
   ]
  },
  {
   "cell_type": "code",
   "execution_count": 1,
   "metadata": {},
   "outputs": [],
   "source": [
    "import sqlite3\n",
    "\n",
    "conn = sqlite3.connect('bookstore.db')\n"
   ]
  },
  {
   "cell_type": "code",
   "execution_count": 3,
   "metadata": {},
   "outputs": [],
   "source": [
    "c = conn.cursor()\n",
    "\n",
    "c.execute(\"\"\"\n",
    "    CREATE TABLE books_new (\n",
    "        id INTEGER PRIMARY KEY,\n",
    "        title TEXT,\n",
    "        author TEXT,\n",
    "        genre TEXT,\n",
    "        price REAL\n",
    "    )\n",
    "\"\"\")\n",
    "\n",
    "conn.commit()\n"
   ]
  },
  {
   "cell_type": "code",
   "execution_count": 4,
   "metadata": {},
   "outputs": [
    {
     "data": {
      "text/plain": [
       "<sqlite3.Cursor at 0x105502c70>"
      ]
     },
     "execution_count": 4,
     "metadata": {},
     "output_type": "execute_result"
    }
   ],
   "source": [
    "c.execute(\"\"\"INSERT INTO books_new (title, author, genre, price) VALUES ('HPOF', 'J.K ROWLING', 'FICTION', 20)\"\"\")"
   ]
  },
  {
   "cell_type": "code",
   "execution_count": 5,
   "metadata": {},
   "outputs": [],
   "source": [
    "conn.commit()"
   ]
  },
  {
   "cell_type": "code",
   "execution_count": 7,
   "metadata": {},
   "outputs": [],
   "source": [
    "books = [\n",
    "    ('To Kill a Mockingbird', 'Harper Lee', 'Fiction', 18.99),\n",
    "    ('1984', 'George Orwell', 'Dystopian', 8.99),\n",
    "    ('The Great Gatsby', 'F. Scott Fitzgerald', 'Classic', 14.99),\n",
    "]\n",
    "\n",
    "c.executemany(\"INSERT INTO books_new (title, author, genre, price) VALUES (?, ?, ?, ?)\", books)\n",
    "\n",
    "conn.commit()\n"
   ]
  },
  {
   "cell_type": "code",
   "execution_count": 12,
   "metadata": {},
   "outputs": [
    {
     "name": "stdout",
     "output_type": "stream",
     "text": [
      "[(1, 'HPOF', 'J.K ROWLING', 'FICTION', 20.0), (2, 'To Kill a Mockingbird', 'Harper Lee', 'Fiction', 18.99), (3, '1984', 'George Orwell', 'Dystopian', 8.99), (4, 'The Great Gatsby', 'F. Scott Fitzgerald', 'Classic', 14.99)]\n"
     ]
    }
   ],
   "source": [
    "c.execute(\"SELECT * FROM books_new\")\n",
    "print(c.fetchall())\n"
   ]
  },
  {
   "cell_type": "code",
   "execution_count": 22,
   "metadata": {},
   "outputs": [
    {
     "name": "stdout",
     "output_type": "stream",
     "text": [
      "[(2, 'To Kill a Mockingbird', 'Harper Lee', 'Fiction', 18.99), (3, '1984', 'George Orwell', 'Dystopian', 8.99), (4, 'The Great Gatsby', 'F. Scott Fitzgerald', 'Classic', 14.99)]\n"
     ]
    }
   ],
   "source": [
    "c.execute(\"SELECT * FROM books_new WHERE price < 15 or genre = 'Fiction' \")\n",
    "print(c.fetchall())\n"
   ]
  },
  {
   "cell_type": "code",
   "execution_count": 26,
   "metadata": {},
   "outputs": [
    {
     "name": "stdout",
     "output_type": "stream",
     "text": [
      "[('1984', 8.99), ('The Great Gatsby', 14.99), ('To Kill a Mockingbird', 18.99), ('HPOF', 20.0)]\n"
     ]
    }
   ],
   "source": [
    "c.execute(\"SELECT title, price FROM books_new ORDER BY price ASC\")\n",
    "print(c.fetchall())\n"
   ]
  },
  {
   "cell_type": "code",
   "execution_count": 28,
   "metadata": {},
   "outputs": [],
   "source": [
    "c.execute(\"\"\"\n",
    "    CREATE TABLE sales_new (\n",
    "        id INTEGER PRIMARY KEY,\n",
    "        book_id INTEGER,\n",
    "        sale_date TEXT,\n",
    "        quantity INTEGER,\n",
    "        FOREIGN KEY(book_id) REFERENCES books(id)\n",
    "    )\n",
    "\"\"\")\n",
    "          \n",
    "conn.commit()          "
   ]
  },
  {
   "cell_type": "code",
   "execution_count": 35,
   "metadata": {},
   "outputs": [],
   "source": [
    "sales = [\n",
    "    (1, '2022-01-01', 10),\n",
    "    (1, '2022-01-02', 10),\n",
    "    (2, '2022-01-03', 2),\n",
    "     (3, '2022-01-01', 1),\n",
    "]\n",
    "\n",
    "c.executemany(\"INSERT INTO sales_new (book_id, sale_date, quantity) VALUES (?, ?, ?)\", sales)\n",
    "\n",
    "conn.commit()\n"
   ]
  },
  {
   "cell_type": "code",
   "execution_count": 33,
   "metadata": {},
   "outputs": [
    {
     "name": "stdout",
     "output_type": "stream",
     "text": [
      "[('HPOF', '2022-01-01', 10), ('HPOF', '2022-01-02', 10), ('To Kill a Mockingbird', '2022-01-03', 2), ('1984', '2022-01-01', 1)]\n"
     ]
    }
   ],
   "source": [
    "c.execute(\"\"\"\n",
    "    SELECT books_new.title, sales_new.sale_date, sales_new.quantity \n",
    "    FROM books_new \n",
    "    JOIN sales_new ON books_new.id = sales_new.book_id\n",
    "\"\"\")\n",
    "print(c.fetchall())\n"
   ]
  },
  {
   "cell_type": "code",
   "execution_count": 36,
   "metadata": {},
   "outputs": [
    {
     "name": "stdout",
     "output_type": "stream",
     "text": [
      "[('1984', 2), ('HPOF', 40), ('To Kill a Mockingbird', 4)]\n"
     ]
    }
   ],
   "source": [
    "c.execute(\"\"\"\n",
    "    SELECT books_new.title, SUM(sales_new.quantity) \n",
    "    FROM books_new \n",
    "    JOIN sales_new ON books_new.id = sales_new.book_id \n",
    "    GROUP BY books_new.title\n",
    "\"\"\")\n",
    "print(c.fetchall())\n"
   ]
  },
  {
   "cell_type": "code",
   "execution_count": 37,
   "metadata": {},
   "outputs": [],
   "source": [
    "conn.close()\n"
   ]
  },
  {
   "cell_type": "markdown",
   "metadata": {},
   "source": [
    "# Unidad 2: Funciones Incorporadas, Fechas, Horas y Nulls en SQL con Python\n",
    "\n",
    "## Objetivos de la Unidad\n",
    "\n",
    "- Aprender a usar funciones incorporadas en SQL\n",
    "- Entender cómo manejar fechas y horas en SQL\n",
    "- Aprender a manejar valores NULL en SQL\n",
    "\n",
    "## Funciones Incorporadas en SQL\n",
    "\n",
    "SQL proporciona una serie de funciones incorporadas que puedes utilizar para realizar cálculos en tus datos.\n",
    "\n",
    "### COUNT\n",
    "\n",
    "La función COUNT() devuelve el número de filas que coinciden con un criterio especificado.\n",
    "\n",
    "```python\n",
    "c.execute(\"SELECT COUNT(*) FROM books\")\n",
    "print(c.fetchall())\n",
    "```\n",
    "\n",
    "### SUM\n",
    "\n",
    "La función SUM() devuelve la suma total de una columna numérica.\n",
    "\n",
    "```python\n",
    "c.execute(\"SELECT SUM(price) FROM books\")\n",
    "print(c.fetchall())\n",
    "```\n",
    "\n",
    "### AVG\n",
    "\n",
    "La función AVG() devuelve el valor promedio de una columna numérica.\n",
    "\n",
    "```python\n",
    "c.execute(\"SELECT AVG(price) FROM books\")\n",
    "print(c.fetchall())\n",
    "```\n",
    "\n",
    "### MIN y MAX\n",
    "\n",
    "Las funciones MIN() y MAX() devuelven el valor más bajo y más alto de una columna numérica, respectivamente.\n",
    "\n",
    "```python\n",
    "c.execute(\"SELECT MIN(price), MAX(price) FROM books\")\n",
    "print(c.fetchall())\n",
    "```\n",
    "\n",
    "## Manejo de Fechas y Horas en SQL\n",
    "\n",
    "SQLite no tiene un tipo de dato separado para almacenar fechas y/o tiempos, pero SQLite es capaz de almacenar fechas y horas como TEXT, REAL o INTEGER.\n",
    "\n",
    "En nuestro ejemplo, almacenamos las fechas de venta como TEXT en el formato 'YYYY-MM-DD'. Podemos usar la función DATE() para manipular estos datos.\n",
    "\n",
    "Por ejemplo, para obtener todas las ventas realizadas en enero de 2022, podríamos hacer lo siguiente:\n",
    "\n",
    "```python\n",
    "c.execute(\"\"\"\n",
    "    SELECT * \n",
    "    FROM sales \n",
    "    WHERE DATE(sale_date) BETWEEN '2022-01-01' AND '2022-01-31'\n",
    "\"\"\")\n",
    "print(c.fetchall())\n",
    "```\n",
    "\n",
    "## Manejo de Valores NULL en SQL\n",
    "\n",
    "Un valor NULL en SQL significa que no se ha ingresado ningún valor en ese campo. Es diferente de un campo vacío o un campo con un valor de cero.\n",
    "\n",
    "Podemos usar IS NULL o IS NOT NULL para filtrar registros con valores NULL.\n",
    "\n",
    "Por ejemplo, si queremos encontrar todos los libros que no tienen un precio asignado, podríamos hacer lo siguiente:\n",
    "\n",
    "```python\n",
    "c.execute(\"SELECT * FROM books WHERE price IS NULL\")\n",
    "print(c.fetchall())\n",
    "```\n",
    "\n",
    "Y eso concluye nuestra segunda unidad sobre SQL con Python. ¡Espero que hayas encontrado esta información útil!"
   ]
  },
  {
   "cell_type": "code",
   "execution_count": 15,
   "metadata": {},
   "outputs": [
    {
     "name": "stdout",
     "output_type": "stream",
     "text": [
      "[(3,)]\n"
     ]
    }
   ],
   "source": [
    "c.execute(\"SELECT COUNT(*) FROM books\")\n",
    "print(c.fetchall())\n"
   ]
  },
  {
   "cell_type": "code",
   "execution_count": 16,
   "metadata": {},
   "outputs": [
    {
     "name": "stdout",
     "output_type": "stream",
     "text": [
      "[(42.97,)]\n"
     ]
    }
   ],
   "source": [
    "c.execute(\"SELECT SUM(price) FROM books\")\n",
    "print(c.fetchall())\n"
   ]
  },
  {
   "cell_type": "code",
   "execution_count": 17,
   "metadata": {},
   "outputs": [
    {
     "name": "stdout",
     "output_type": "stream",
     "text": [
      "[(14.323333333333332,)]\n"
     ]
    }
   ],
   "source": [
    "c.execute(\"SELECT AVG(price) FROM books\")\n",
    "print(c.fetchall())\n"
   ]
  },
  {
   "cell_type": "code",
   "execution_count": 18,
   "metadata": {},
   "outputs": [
    {
     "name": "stdout",
     "output_type": "stream",
     "text": [
      "[(8.99, 18.99)]\n"
     ]
    }
   ],
   "source": [
    "c.execute(\"SELECT MIN(price), MAX(price) FROM books\")\n",
    "print(c.fetchall())\n"
   ]
  },
  {
   "cell_type": "code",
   "execution_count": 19,
   "metadata": {},
   "outputs": [
    {
     "name": "stdout",
     "output_type": "stream",
     "text": [
      "[(1, 1, '2022-01-01', 2), (2, 1, '2022-01-03', 1), (3, 2, '2022-01-03', 1)]\n"
     ]
    }
   ],
   "source": [
    "c.execute(\"\"\"\n",
    "    SELECT * \n",
    "    FROM sales \n",
    "    WHERE DATE(sale_date) BETWEEN '2022-01-01' AND '2022-01-31'\n",
    "\"\"\")\n",
    "print(c.fetchall())\n"
   ]
  },
  {
   "cell_type": "code",
   "execution_count": 20,
   "metadata": {},
   "outputs": [
    {
     "name": "stdout",
     "output_type": "stream",
     "text": [
      "[]\n"
     ]
    }
   ],
   "source": [
    "c.execute(\"SELECT * FROM books WHERE price IS NULL\")\n",
    "print(c.fetchall())\n"
   ]
  },
  {
   "cell_type": "markdown",
   "metadata": {},
   "source": [
    "# Unidad 3: Filtros, WHERE y UNION en SQL con Python\n",
    "\n",
    "Para interactuar con una base de datos SQL desde Python, puedes usar la biblioteca `sqlite3` que viene incluida con Python. A continuación, se muestran ejemplos de cómo usar filtros, WHERE y UNION con esta biblioteca.\n",
    "\n",
    "## Filtros y WHERE\n",
    "\n",
    "Primero, necesitas conectar a tu base de datos y crear un cursor:\n",
    "\n",
    "```python\n",
    "import sqlite3\n",
    "\n",
    "conn = sqlite3.connect('libros.db')\n",
    "c = conn.cursor()\n",
    "```\n",
    "\n",
    "Ahora, puedes ejecutar consultas SQL. Por ejemplo, para obtener los libros publicados después del año 2000:\n",
    "\n",
    "```python\n",
    "c.execute(\"SELECT * FROM libros WHERE año_publicacion > 2000\")\n",
    "print(c.fetchall())\n",
    "```\n",
    "\n",
    "Si quieres filtrar por más de una condición, puedes usar `AND` y `OR`. Por ejemplo, para obtener los libros publicados después del año 2000 por \"Autor X\":\n",
    "\n",
    "```python\n",
    "c.execute(\"\"\"\n",
    "SELECT * FROM libros \n",
    "WHERE año_publicacion > 2000 AND autor = 'Autor X'\n",
    "\"\"\")\n",
    "print(c.fetchall())\n",
    "```\n",
    "\n",
    "## UNION\n",
    "\n",
    "Para combinar los resultados de dos tablas, puedes usar `UNION`. Supongamos que tienes dos tablas, `libros_ficcion` y `libros_no_ficcion`. Aquí está cómo podrías obtener una lista de todos los libros:\n",
    "\n",
    "```python\n",
    "c.execute(\"\"\"\n",
    "SELECT * FROM libros_ficcion \n",
    "UNION \n",
    "SELECT * FROM libros_no_ficcion\n",
    "\"\"\")\n",
    "print(c.fetchall())\n",
    "```\n",
    "\n",
    "Recuerda cerrar la conexión cuando hayas terminado:\n",
    "\n",
    "```python\n",
    "conn.close()\n",
    "```\n",
    "\n",
    "Estos son solo ejemplos básicos. En la práctica, querrás manejar errores y quizás usar la biblioteca `sqlite3` en el contexto de un programa más grande. Pero espero que esto te dé una idea de cómo puedes trabajar con SQL en Python."
   ]
  }
 ],
 "metadata": {
  "kernelspec": {
   "display_name": "Python 3",
   "language": "python",
   "name": "python3"
  },
  "language_info": {
   "codemirror_mode": {
    "name": "ipython",
    "version": 3
   },
   "file_extension": ".py",
   "mimetype": "text/x-python",
   "name": "python",
   "nbconvert_exporter": "python",
   "pygments_lexer": "ipython3",
   "version": "3.9.6"
  },
  "orig_nbformat": 4
 },
 "nbformat": 4,
 "nbformat_minor": 2
}
