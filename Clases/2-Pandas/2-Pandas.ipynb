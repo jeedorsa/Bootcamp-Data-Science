{
 "cells": [
  {
   "cell_type": "markdown",
   "id": "ed8fa137",
   "metadata": {
    "slideshow": {
     "slide_type": "slide"
    }
   },
   "source": [
    "<br/>\n",
    "<img src=\"images/new_logo.png\" alt=\"\" width=\"230px\" align=\"left\"/>\n",
    "<img src=\"images/new_logo.png\" alt=\"\" width=\"230px\" align=\"right\"/>\n",
    "<div align=\"center\">\n",
    "<h2>Bootcamp Data Science - Módulo 1</h2><br/>\n",
    "<h1>Biblioteca Pandas</h1>\n",
    "<br/><br/>\n",
    "    <b>Instructor Principal:</b> Jesús Ortiz jortiz@codingdojo.cl <br/>\n",
    "    <b>Instructor Asistente:</b> Marco Fernandini mfernandini@codingdojo.la <br/><br/>\n",
    "    <b>Coding Dojo</b>\n",
    "</div>"
   ]
  },
  {
   "cell_type": "markdown",
   "id": "125a4c10",
   "metadata": {
    "slideshow": {
     "slide_type": "slide"
    }
   },
   "source": [
    "# ¿Qué es Pandas?\n"
   ]
  },
  {
   "cell_type": "markdown",
   "id": "85d9d7da",
   "metadata": {
    "slideshow": {
     "slide_type": "fragment"
    }
   },
   "source": [
    "- **Pandas** es una herramienta open source (código abierto) rápida, poderosa, flexible y fácil de utilizar para análisis y manipulación de datos. \n",
    "- Construida sobre el lenguaje de programación **Python**\n",
    "- Al ser una biblioteca, esta debe ser **importada** en nuestro código para su utilización.\n",
    "-  Si está trabajando en su entorno local, previo a su importación debe ser **instalada** \n",
    "    - ```pip install pandas``` si usa ```pip```\n",
    "    - ```conda install pandas``` si usa ```conda```"
   ]
  },
  {
   "cell_type": "code",
   "execution_count": null,
   "id": "92f49b64",
   "metadata": {
    "slideshow": {
     "slide_type": "fragment"
    }
   },
   "outputs": [],
   "source": [
    "# Código para importar biblioteca pandas. \n",
    "# Antes de usar pandas se DEBE importar (sino lanzará error!!!!)\n",
    "import pandas as pd"
   ]
  },
  {
   "cell_type": "markdown",
   "id": "de31985b",
   "metadata": {
    "slideshow": {
     "slide_type": "slide"
    }
   },
   "source": [
    "# ¿Por qué Pandas?"
   ]
  },
  {
   "cell_type": "markdown",
   "id": "e714ecdd",
   "metadata": {
    "slideshow": {
     "slide_type": "fragment"
    }
   },
   "source": [
    "<center>\n",
    "<img src=\"images/pros-cons-pandas.jpg\" width=\"800px\" >\n",
    "</center>\n",
    "\n",
    "Fuente: https://data-flair.training/blogs/advantages-of-python-pandas/"
   ]
  },
  {
   "cell_type": "markdown",
   "id": "0b66f94e",
   "metadata": {
    "slideshow": {
     "slide_type": "slide"
    }
   },
   "source": [
    "# Estructuras de datos Pandas: Series "
   ]
  },
  {
   "cell_type": "markdown",
   "id": "53b122d5",
   "metadata": {
    "slideshow": {
     "slide_type": "fragment"
    }
   },
   "source": [
    "- Permite almacenar elementos en un arreglo **unidimensional**. Cada elemento puede estar asociado a un índice el cual puede o no ser definido\n",
    "- Sintáxis más común\n",
    "\n",
    "```python\n",
    "s = pd.Series(data, index=myindex)\n",
    "```\n",
    "donde ```data``` representa un conjunto unidimensional de elementos e ```myindex``` una lista del mismo largo de ```data``` que representa los índices\n",
    "- ```data``` puede ser tanto\n",
    "    - Diccionarios (llaves se transforman en índices y valores en datos)\n",
    "    - Arreglos n-dimensionales (listas, tuplas o numpy arrays)\n",
    "    - Valores escalares (ej. 5)\n",
    "\n",
    "Fuente: https://pandas.pydata.org/pandas-docs/stable/user_guide/dsintro.html"
   ]
  },
  {
   "cell_type": "code",
   "execution_count": 3,
   "id": "4e64b2c7",
   "metadata": {
    "slideshow": {
     "slide_type": "fragment"
    }
   },
   "outputs": [
    {
     "name": "stdout",
     "output_type": "stream",
     "text": [
      "p    (1+5j)\n",
      "q         1\n",
      "r         a\n",
      "dtype: object\n"
     ]
    },
    {
     "data": {
      "text/plain": [
       "1"
      ]
     },
     "execution_count": 3,
     "metadata": {},
     "output_type": "execute_result"
    }
   ],
   "source": [
    "# Ejemplo# Estructuras de datos Pandas: Series \n",
    "import pandas as pd\n",
    "\n",
    "x = pd.Series((1+5j,1,'a'), index=[\"p\", \"q\", \"r\"])\n",
    "print(x)"
   ]
  },
  {
   "cell_type": "markdown",
   "id": "10d70287",
   "metadata": {
    "slideshow": {
     "slide_type": "slide"
    }
   },
   "source": [
    "# Estructuras de datos Pandas: Dataframes"
   ]
  },
  {
   "cell_type": "markdown",
   "id": "0da1b9be",
   "metadata": {
    "slideshow": {
     "slide_type": "fragment"
    }
   },
   "source": [
    "- Es una estructura de datos **bi-dimensional**.\n",
    "- Es el objeto Pandas más común.\n",
    "- Utiliza una lógica de almacenamiento tipo **tabla**, similar a la de tablas SQL o la existente en hojas de cálculo (ej. MS. Excel, Libre Office Calc, Google Sheets, etc.).\n",
    "- Al igual que las series, también tiene índices asociados. Adicionalmente se le pueden pasar las etiquetas de las columnas\n",
    "- Sintáxis más común\n",
    "```python\n",
    "df = pd.DataFrame(data, index=myindex, columns=mycolumns)\n",
    "```\n",
    "donde ```data``` representa un conjunto bidimensional de elementos e ```myindex``` y ```mycolumns``` una lista del mismo largo de ```data``` que representa los índices y las etiquetas de las columnas respectivamente.\n",
    "- ```data``` puede ser tanto\n",
    "    - Diccionario de arreglos 1-dimensionales, listas, diccionarios o series\n",
    "    - Arreglos numpy de dos dimensiones\n",
    "    - Arreglos n-dimensionales\n",
    "    - Series\n",
    "    - Otros dataframe\n",
    "\n",
    "Fuente: https://pandas.pydata.org/pandas-docs/stable/user_guide/dsintro.html"
   ]
  },
  {
   "cell_type": "code",
   "execution_count": 21,
   "id": "1974f920",
   "metadata": {},
   "outputs": [
    {
     "name": "stdout",
     "output_type": "stream",
     "text": [
      "[[1, 2, 3], [4, 5, 6.7], [7, 8, 9]]\n"
     ]
    }
   ],
   "source": [
    "p=[[1,2,3],[4,5,6.7],[7,8,9]]\n",
    "print(p)\n",
    "# La variable p sería el equivalente a una matriz con la siguiente disposición\n",
    "# 1 2 3\n",
    "# 4 5 6.7\n",
    "# 7 8 9"
   ]
  },
  {
   "cell_type": "code",
   "execution_count": 71,
   "id": "70df4f85",
   "metadata": {},
   "outputs": [
    {
     "name": "stdout",
     "output_type": "stream",
     "text": [
      "   p  q    r\n",
      "a  1  2  3.0\n",
      "b  4  5  6.7\n",
      "c  7  8  9.0\n"
     ]
    }
   ],
   "source": [
    "import pandas as pd\n",
    "\n",
    "df = pd.DataFrame(p, \n",
    "                  index=[\"a\", \"b\", \"c\"],\n",
    "                  columns=[\"p\", \"q\", \"r\"])\n",
    "print(df)"
   ]
  },
  {
   "cell_type": "code",
   "execution_count": 72,
   "id": "33748031",
   "metadata": {},
   "outputs": [
    {
     "data": {
      "text/html": [
       "<div>\n",
       "<style scoped>\n",
       "    .dataframe tbody tr th:only-of-type {\n",
       "        vertical-align: middle;\n",
       "    }\n",
       "\n",
       "    .dataframe tbody tr th {\n",
       "        vertical-align: top;\n",
       "    }\n",
       "\n",
       "    .dataframe thead th {\n",
       "        text-align: right;\n",
       "    }\n",
       "</style>\n",
       "<table border=\"1\" class=\"dataframe\">\n",
       "  <thead>\n",
       "    <tr style=\"text-align: right;\">\n",
       "      <th></th>\n",
       "      <th>p</th>\n",
       "      <th>q</th>\n",
       "      <th>r</th>\n",
       "    </tr>\n",
       "  </thead>\n",
       "  <tbody>\n",
       "    <tr>\n",
       "      <th>a</th>\n",
       "      <td>1</td>\n",
       "      <td>2</td>\n",
       "      <td>3.0</td>\n",
       "    </tr>\n",
       "    <tr>\n",
       "      <th>b</th>\n",
       "      <td>4</td>\n",
       "      <td>5</td>\n",
       "      <td>6.7</td>\n",
       "    </tr>\n",
       "    <tr>\n",
       "      <th>c</th>\n",
       "      <td>7</td>\n",
       "      <td>8</td>\n",
       "      <td>9.0</td>\n",
       "    </tr>\n",
       "  </tbody>\n",
       "</table>\n",
       "</div>"
      ],
      "text/plain": [
       "   p  q    r\n",
       "a  1  2  3.0\n",
       "b  4  5  6.7\n",
       "c  7  8  9.0"
      ]
     },
     "execution_count": 72,
     "metadata": {},
     "output_type": "execute_result"
    }
   ],
   "source": [
    "# Visualizando el contenido del dataframe\n",
    "df"
   ]
  },
  {
   "cell_type": "markdown",
   "id": "e7aca8de",
   "metadata": {
    "slideshow": {
     "slide_type": "slide"
    }
   },
   "source": [
    "# Anexo - Cargando datos en Google Colab"
   ]
  },
  {
   "cell_type": "markdown",
   "id": "a0c6bfd2",
   "metadata": {
    "slideshow": {
     "slide_type": "fragment"
    }
   },
   "source": [
    "- El uso de datos en Google Colab, requier subir esos datos a la nube de Google antes de poder utilizarlos (en caso de no encontrarse en línea) \n",
    "- https://login.codingdojo.com/m/502/12396/86599"
   ]
  },
  {
   "cell_type": "markdown",
   "id": "b832010d",
   "metadata": {
    "slideshow": {
     "slide_type": "slide"
    }
   },
   "source": [
    "# Pandas para lectura de datos"
   ]
  },
  {
   "cell_type": "markdown",
   "id": "39ba9f06",
   "metadata": {
    "slideshow": {
     "slide_type": "fragment"
    }
   },
   "source": [
    "- Pandas permite una lectura sencilla con múltiples tipos de datos (Revisar: https://pandas.pydata.org/pandas-docs/stable/user_guide/io.html para distintos tipos de archivos).\n",
    "- Ejemplo"
   ]
  },
  {
   "cell_type": "code",
   "execution_count": 24,
   "id": "f50267f1",
   "metadata": {
    "slideshow": {
     "slide_type": "fragment"
    }
   },
   "outputs": [
    {
     "data": {
      "text/html": [
       "<div>\n",
       "<style scoped>\n",
       "    .dataframe tbody tr th:only-of-type {\n",
       "        vertical-align: middle;\n",
       "    }\n",
       "\n",
       "    .dataframe tbody tr th {\n",
       "        vertical-align: top;\n",
       "    }\n",
       "\n",
       "    .dataframe thead th {\n",
       "        text-align: right;\n",
       "    }\n",
       "</style>\n",
       "<table border=\"1\" class=\"dataframe\">\n",
       "  <thead>\n",
       "    <tr style=\"text-align: right;\">\n",
       "      <th></th>\n",
       "      <th>RM</th>\n",
       "      <th>LSTAT</th>\n",
       "      <th>PTRATIO</th>\n",
       "      <th>target</th>\n",
       "    </tr>\n",
       "  </thead>\n",
       "  <tbody>\n",
       "    <tr>\n",
       "      <th>0</th>\n",
       "      <td>6.575</td>\n",
       "      <td>4.98</td>\n",
       "      <td>15.3</td>\n",
       "      <td>24.0</td>\n",
       "    </tr>\n",
       "    <tr>\n",
       "      <th>1</th>\n",
       "      <td>6.421</td>\n",
       "      <td>9.14</td>\n",
       "      <td>17.8</td>\n",
       "      <td>21.6</td>\n",
       "    </tr>\n",
       "    <tr>\n",
       "      <th>2</th>\n",
       "      <td>7.185</td>\n",
       "      <td>4.03</td>\n",
       "      <td>17.8</td>\n",
       "      <td>34.7</td>\n",
       "    </tr>\n",
       "    <tr>\n",
       "      <th>3</th>\n",
       "      <td>6.998</td>\n",
       "      <td>2.94</td>\n",
       "      <td>18.7</td>\n",
       "      <td>33.4</td>\n",
       "    </tr>\n",
       "    <tr>\n",
       "      <th>4</th>\n",
       "      <td>7.147</td>\n",
       "      <td>5.33</td>\n",
       "      <td>18.7</td>\n",
       "      <td>36.2</td>\n",
       "    </tr>\n",
       "    <tr>\n",
       "      <th>...</th>\n",
       "      <td>...</td>\n",
       "      <td>...</td>\n",
       "      <td>...</td>\n",
       "      <td>...</td>\n",
       "    </tr>\n",
       "    <tr>\n",
       "      <th>501</th>\n",
       "      <td>6.593</td>\n",
       "      <td>9.67</td>\n",
       "      <td>21.0</td>\n",
       "      <td>22.4</td>\n",
       "    </tr>\n",
       "    <tr>\n",
       "      <th>502</th>\n",
       "      <td>6.120</td>\n",
       "      <td>9.08</td>\n",
       "      <td>21.0</td>\n",
       "      <td>20.6</td>\n",
       "    </tr>\n",
       "    <tr>\n",
       "      <th>503</th>\n",
       "      <td>6.976</td>\n",
       "      <td>5.64</td>\n",
       "      <td>21.0</td>\n",
       "      <td>23.9</td>\n",
       "    </tr>\n",
       "    <tr>\n",
       "      <th>504</th>\n",
       "      <td>6.794</td>\n",
       "      <td>6.48</td>\n",
       "      <td>21.0</td>\n",
       "      <td>22.0</td>\n",
       "    </tr>\n",
       "    <tr>\n",
       "      <th>505</th>\n",
       "      <td>6.030</td>\n",
       "      <td>7.88</td>\n",
       "      <td>21.0</td>\n",
       "      <td>11.9</td>\n",
       "    </tr>\n",
       "  </tbody>\n",
       "</table>\n",
       "<p>506 rows × 4 columns</p>\n",
       "</div>"
      ],
      "text/plain": [
       "        RM  LSTAT  PTRATIO  target\n",
       "0    6.575   4.98     15.3    24.0\n",
       "1    6.421   9.14     17.8    21.6\n",
       "2    7.185   4.03     17.8    34.7\n",
       "3    6.998   2.94     18.7    33.4\n",
       "4    7.147   5.33     18.7    36.2\n",
       "..     ...    ...      ...     ...\n",
       "501  6.593   9.67     21.0    22.4\n",
       "502  6.120   9.08     21.0    20.6\n",
       "503  6.976   5.64     21.0    23.9\n",
       "504  6.794   6.48     21.0    22.0\n",
       "505  6.030   7.88     21.0    11.9\n",
       "\n",
       "[506 rows x 4 columns]"
      ]
     },
     "execution_count": 24,
     "metadata": {},
     "output_type": "execute_result"
    }
   ],
   "source": [
    "import pandas as pd\n",
    "filename = \"data/bostonHousing1978.xlsx\" \n",
    "# Para apertura de archivos excel, instalación de biblioteca openpyxl es necesaria en entorno local\n",
    "df = pd.read_excel(filename) \n",
    "df # Esta línea muestra el contenido de la variable df en jupyter notebook\n",
    "# Si deseas leer un archivo con extensión .csv, se debe utilizar la función pandas\n",
    "# pd.read_csv(filename) donde filename es una variable con la ruta de tu archivo .csv"
   ]
  },
  {
   "cell_type": "markdown",
   "id": "60ab9276",
   "metadata": {
    "slideshow": {
     "slide_type": "slide"
    }
   },
   "source": [
    "# Pandas: Operaciones básicas"
   ]
  },
  {
   "cell_type": "code",
   "execution_count": 28,
   "id": "90c393e4",
   "metadata": {
    "slideshow": {
     "slide_type": "fragment"
    }
   },
   "outputs": [
    {
     "data": {
      "text/html": [
       "<div>\n",
       "<style scoped>\n",
       "    .dataframe tbody tr th:only-of-type {\n",
       "        vertical-align: middle;\n",
       "    }\n",
       "\n",
       "    .dataframe tbody tr th {\n",
       "        vertical-align: top;\n",
       "    }\n",
       "\n",
       "    .dataframe thead th {\n",
       "        text-align: right;\n",
       "    }\n",
       "</style>\n",
       "<table border=\"1\" class=\"dataframe\">\n",
       "  <thead>\n",
       "    <tr style=\"text-align: right;\">\n",
       "      <th></th>\n",
       "      <th>RM</th>\n",
       "      <th>LSTAT</th>\n",
       "      <th>PTRATIO</th>\n",
       "      <th>target</th>\n",
       "    </tr>\n",
       "  </thead>\n",
       "  <tbody>\n",
       "    <tr>\n",
       "      <th>0</th>\n",
       "      <td>6.575</td>\n",
       "      <td>4.98</td>\n",
       "      <td>15.3</td>\n",
       "      <td>24.0</td>\n",
       "    </tr>\n",
       "    <tr>\n",
       "      <th>1</th>\n",
       "      <td>6.421</td>\n",
       "      <td>9.14</td>\n",
       "      <td>17.8</td>\n",
       "      <td>21.6</td>\n",
       "    </tr>\n",
       "    <tr>\n",
       "      <th>2</th>\n",
       "      <td>7.185</td>\n",
       "      <td>4.03</td>\n",
       "      <td>17.8</td>\n",
       "      <td>34.7</td>\n",
       "    </tr>\n",
       "    <tr>\n",
       "      <th>3</th>\n",
       "      <td>6.998</td>\n",
       "      <td>2.94</td>\n",
       "      <td>18.7</td>\n",
       "      <td>33.4</td>\n",
       "    </tr>\n",
       "    <tr>\n",
       "      <th>4</th>\n",
       "      <td>7.147</td>\n",
       "      <td>5.33</td>\n",
       "      <td>18.7</td>\n",
       "      <td>36.2</td>\n",
       "    </tr>\n",
       "    <tr>\n",
       "      <th>5</th>\n",
       "      <td>6.430</td>\n",
       "      <td>5.21</td>\n",
       "      <td>18.7</td>\n",
       "      <td>28.7</td>\n",
       "    </tr>\n",
       "    <tr>\n",
       "      <th>6</th>\n",
       "      <td>6.012</td>\n",
       "      <td>12.43</td>\n",
       "      <td>15.2</td>\n",
       "      <td>22.9</td>\n",
       "    </tr>\n",
       "    <tr>\n",
       "      <th>7</th>\n",
       "      <td>6.172</td>\n",
       "      <td>19.15</td>\n",
       "      <td>15.2</td>\n",
       "      <td>27.1</td>\n",
       "    </tr>\n",
       "    <tr>\n",
       "      <th>8</th>\n",
       "      <td>5.631</td>\n",
       "      <td>29.93</td>\n",
       "      <td>15.2</td>\n",
       "      <td>16.5</td>\n",
       "    </tr>\n",
       "    <tr>\n",
       "      <th>9</th>\n",
       "      <td>6.004</td>\n",
       "      <td>17.10</td>\n",
       "      <td>15.2</td>\n",
       "      <td>18.9</td>\n",
       "    </tr>\n",
       "  </tbody>\n",
       "</table>\n",
       "</div>"
      ],
      "text/plain": [
       "      RM  LSTAT  PTRATIO  target\n",
       "0  6.575   4.98     15.3    24.0\n",
       "1  6.421   9.14     17.8    21.6\n",
       "2  7.185   4.03     17.8    34.7\n",
       "3  6.998   2.94     18.7    33.4\n",
       "4  7.147   5.33     18.7    36.2\n",
       "5  6.430   5.21     18.7    28.7\n",
       "6  6.012  12.43     15.2    22.9\n",
       "7  6.172  19.15     15.2    27.1\n",
       "8  5.631  29.93     15.2    16.5\n",
       "9  6.004  17.10     15.2    18.9"
      ]
     },
     "execution_count": 28,
     "metadata": {},
     "output_type": "execute_result"
    }
   ],
   "source": [
    "# Seleccione el número N superior de registros (default = 5)\n",
    "df.head(n=10)"
   ]
  },
  {
   "cell_type": "code",
   "execution_count": 31,
   "id": "8aee21fa",
   "metadata": {
    "slideshow": {
     "slide_type": "fragment"
    }
   },
   "outputs": [
    {
     "data": {
      "text/html": [
       "<div>\n",
       "<style scoped>\n",
       "    .dataframe tbody tr th:only-of-type {\n",
       "        vertical-align: middle;\n",
       "    }\n",
       "\n",
       "    .dataframe tbody tr th {\n",
       "        vertical-align: top;\n",
       "    }\n",
       "\n",
       "    .dataframe thead th {\n",
       "        text-align: right;\n",
       "    }\n",
       "</style>\n",
       "<table border=\"1\" class=\"dataframe\">\n",
       "  <thead>\n",
       "    <tr style=\"text-align: right;\">\n",
       "      <th></th>\n",
       "      <th>RM</th>\n",
       "      <th>LSTAT</th>\n",
       "      <th>PTRATIO</th>\n",
       "      <th>target</th>\n",
       "    </tr>\n",
       "  </thead>\n",
       "  <tbody>\n",
       "    <tr>\n",
       "      <th>496</th>\n",
       "      <td>5.390</td>\n",
       "      <td>21.14</td>\n",
       "      <td>19.2</td>\n",
       "      <td>19.7</td>\n",
       "    </tr>\n",
       "    <tr>\n",
       "      <th>497</th>\n",
       "      <td>5.794</td>\n",
       "      <td>14.10</td>\n",
       "      <td>19.2</td>\n",
       "      <td>18.3</td>\n",
       "    </tr>\n",
       "    <tr>\n",
       "      <th>498</th>\n",
       "      <td>6.019</td>\n",
       "      <td>12.92</td>\n",
       "      <td>19.2</td>\n",
       "      <td>21.2</td>\n",
       "    </tr>\n",
       "    <tr>\n",
       "      <th>499</th>\n",
       "      <td>5.569</td>\n",
       "      <td>15.10</td>\n",
       "      <td>19.2</td>\n",
       "      <td>17.5</td>\n",
       "    </tr>\n",
       "    <tr>\n",
       "      <th>500</th>\n",
       "      <td>6.027</td>\n",
       "      <td>14.33</td>\n",
       "      <td>19.2</td>\n",
       "      <td>16.8</td>\n",
       "    </tr>\n",
       "    <tr>\n",
       "      <th>501</th>\n",
       "      <td>6.593</td>\n",
       "      <td>9.67</td>\n",
       "      <td>21.0</td>\n",
       "      <td>22.4</td>\n",
       "    </tr>\n",
       "    <tr>\n",
       "      <th>502</th>\n",
       "      <td>6.120</td>\n",
       "      <td>9.08</td>\n",
       "      <td>21.0</td>\n",
       "      <td>20.6</td>\n",
       "    </tr>\n",
       "    <tr>\n",
       "      <th>503</th>\n",
       "      <td>6.976</td>\n",
       "      <td>5.64</td>\n",
       "      <td>21.0</td>\n",
       "      <td>23.9</td>\n",
       "    </tr>\n",
       "    <tr>\n",
       "      <th>504</th>\n",
       "      <td>6.794</td>\n",
       "      <td>6.48</td>\n",
       "      <td>21.0</td>\n",
       "      <td>22.0</td>\n",
       "    </tr>\n",
       "    <tr>\n",
       "      <th>505</th>\n",
       "      <td>6.030</td>\n",
       "      <td>7.88</td>\n",
       "      <td>21.0</td>\n",
       "      <td>11.9</td>\n",
       "    </tr>\n",
       "  </tbody>\n",
       "</table>\n",
       "</div>"
      ],
      "text/plain": [
       "        RM  LSTAT  PTRATIO  target\n",
       "496  5.390  21.14     19.2    19.7\n",
       "497  5.794  14.10     19.2    18.3\n",
       "498  6.019  12.92     19.2    21.2\n",
       "499  5.569  15.10     19.2    17.5\n",
       "500  6.027  14.33     19.2    16.8\n",
       "501  6.593   9.67     21.0    22.4\n",
       "502  6.120   9.08     21.0    20.6\n",
       "503  6.976   5.64     21.0    23.9\n",
       "504  6.794   6.48     21.0    22.0\n",
       "505  6.030   7.88     21.0    11.9"
      ]
     },
     "execution_count": 31,
     "metadata": {},
     "output_type": "execute_result"
    }
   ],
   "source": [
    "# Seleccione el número N inferior de registros (default = 5)\n",
    "df.tail(n=10)"
   ]
  },
  {
   "cell_type": "code",
   "execution_count": 32,
   "id": "f71fa1d3",
   "metadata": {
    "slideshow": {
     "slide_type": "fragment"
    }
   },
   "outputs": [
    {
     "data": {
      "text/plain": [
       "RM         float64\n",
       "LSTAT      float64\n",
       "PTRATIO    float64\n",
       "target     float64\n",
       "dtype: object"
      ]
     },
     "execution_count": 32,
     "metadata": {},
     "output_type": "execute_result"
    }
   ],
   "source": [
    "# Verifica los tipos de datos de la columna usando el atributo dtypes\n",
    "df.dtypes"
   ]
  },
  {
   "cell_type": "code",
   "execution_count": 40,
   "id": "a2885734",
   "metadata": {
    "scrolled": true,
    "slideshow": {
     "slide_type": "fragment"
    }
   },
   "outputs": [
    {
     "data": {
      "text/plain": [
       "(506, 4)"
      ]
     },
     "execution_count": 40,
     "metadata": {},
     "output_type": "execute_result"
    }
   ],
   "source": [
    "# Use el atributo shape para obtener el número de filas y columnas en tu marco de datos\n",
    "df.shape"
   ]
  },
  {
   "cell_type": "code",
   "execution_count": 34,
   "id": "8856fa11",
   "metadata": {
    "slideshow": {
     "slide_type": "fragment"
    }
   },
   "outputs": [
    {
     "name": "stdout",
     "output_type": "stream",
     "text": [
      "<class 'pandas.core.frame.DataFrame'>\n",
      "RangeIndex: 506 entries, 0 to 505\n",
      "Data columns (total 4 columns):\n",
      " #   Column   Non-Null Count  Dtype  \n",
      "---  ------   --------------  -----  \n",
      " 0   RM       506 non-null    float64\n",
      " 1   LSTAT    506 non-null    float64\n",
      " 2   PTRATIO  506 non-null    float64\n",
      " 3   target   506 non-null    float64\n",
      "dtypes: float64(4)\n",
      "memory usage: 15.9 KB\n"
     ]
    }
   ],
   "source": [
    "# El método info da a la columna tipos de datos + el número de valores no nulos\n",
    "# Ten esto en cuenta en caso de que alguna vez quieras verificar si hay valores perdidos\n",
    "df.info()"
   ]
  },
  {
   "cell_type": "markdown",
   "id": "5859ae0a",
   "metadata": {
    "slideshow": {
     "slide_type": "slide"
    }
   },
   "source": [
    "# Pandas: Rebanar (slice)"
   ]
  },
  {
   "cell_type": "code",
   "execution_count": 41,
   "id": "12dfed5b",
   "metadata": {
    "slideshow": {
     "slide_type": "fragment"
    }
   },
   "outputs": [
    {
     "data": {
      "text/html": [
       "<div>\n",
       "<style scoped>\n",
       "    .dataframe tbody tr th:only-of-type {\n",
       "        vertical-align: middle;\n",
       "    }\n",
       "\n",
       "    .dataframe tbody tr th {\n",
       "        vertical-align: top;\n",
       "    }\n",
       "\n",
       "    .dataframe thead th {\n",
       "        text-align: right;\n",
       "    }\n",
       "</style>\n",
       "<table border=\"1\" class=\"dataframe\">\n",
       "  <thead>\n",
       "    <tr style=\"text-align: right;\">\n",
       "      <th></th>\n",
       "      <th>RM</th>\n",
       "    </tr>\n",
       "  </thead>\n",
       "  <tbody>\n",
       "    <tr>\n",
       "      <th>0</th>\n",
       "      <td>6.575</td>\n",
       "    </tr>\n",
       "    <tr>\n",
       "      <th>1</th>\n",
       "      <td>6.421</td>\n",
       "    </tr>\n",
       "    <tr>\n",
       "      <th>2</th>\n",
       "      <td>7.185</td>\n",
       "    </tr>\n",
       "    <tr>\n",
       "      <th>3</th>\n",
       "      <td>6.998</td>\n",
       "    </tr>\n",
       "    <tr>\n",
       "      <th>4</th>\n",
       "      <td>7.147</td>\n",
       "    </tr>\n",
       "  </tbody>\n",
       "</table>\n",
       "</div>"
      ],
      "text/plain": [
       "      RM\n",
       "0  6.575\n",
       "1  6.421\n",
       "2  7.185\n",
       "3  6.998\n",
       "4  7.147"
      ]
     },
     "execution_count": 41,
     "metadata": {},
     "output_type": "execute_result"
    }
   ],
   "source": [
    "# Seleccionar una columna usando llaves dobles\n",
    "df[['RM']].head() # Esto es un DataFrame pandas"
   ]
  },
  {
   "cell_type": "code",
   "execution_count": 42,
   "id": "b0ab5f6e",
   "metadata": {
    "slideshow": {
     "slide_type": "fragment"
    }
   },
   "outputs": [
    {
     "data": {
      "text/html": [
       "<div>\n",
       "<style scoped>\n",
       "    .dataframe tbody tr th:only-of-type {\n",
       "        vertical-align: middle;\n",
       "    }\n",
       "\n",
       "    .dataframe tbody tr th {\n",
       "        vertical-align: top;\n",
       "    }\n",
       "\n",
       "    .dataframe thead th {\n",
       "        text-align: right;\n",
       "    }\n",
       "</style>\n",
       "<table border=\"1\" class=\"dataframe\">\n",
       "  <thead>\n",
       "    <tr style=\"text-align: right;\">\n",
       "      <th></th>\n",
       "      <th>RM</th>\n",
       "      <th>target</th>\n",
       "    </tr>\n",
       "  </thead>\n",
       "  <tbody>\n",
       "    <tr>\n",
       "      <th>0</th>\n",
       "      <td>6.575</td>\n",
       "      <td>24.0</td>\n",
       "    </tr>\n",
       "    <tr>\n",
       "      <th>1</th>\n",
       "      <td>6.421</td>\n",
       "      <td>21.6</td>\n",
       "    </tr>\n",
       "    <tr>\n",
       "      <th>2</th>\n",
       "      <td>7.185</td>\n",
       "      <td>34.7</td>\n",
       "    </tr>\n",
       "    <tr>\n",
       "      <th>3</th>\n",
       "      <td>6.998</td>\n",
       "      <td>33.4</td>\n",
       "    </tr>\n",
       "    <tr>\n",
       "      <th>4</th>\n",
       "      <td>7.147</td>\n",
       "      <td>36.2</td>\n",
       "    </tr>\n",
       "  </tbody>\n",
       "</table>\n",
       "</div>"
      ],
      "text/plain": [
       "      RM  target\n",
       "0  6.575    24.0\n",
       "1  6.421    21.6\n",
       "2  7.185    34.7\n",
       "3  6.998    33.4\n",
       "4  7.147    36.2"
      ]
     },
     "execution_count": 42,
     "metadata": {},
     "output_type": "execute_result"
    }
   ],
   "source": [
    "# Seleccionar múltiple columnas usando llaves dobles\n",
    "df[['RM', 'target']].head()"
   ]
  },
  {
   "cell_type": "code",
   "execution_count": 43,
   "id": "180e7c24",
   "metadata": {
    "slideshow": {
     "slide_type": "fragment"
    }
   },
   "outputs": [
    {
     "data": {
      "text/plain": [
       "0    6.575\n",
       "1    6.421\n",
       "2    7.185\n",
       "3    6.998\n",
       "4    7.147\n",
       "Name: RM, dtype: float64"
      ]
     },
     "execution_count": 43,
     "metadata": {},
     "output_type": "execute_result"
    }
   ],
   "source": [
    "# Selecciona una columna usando llaves simples\n",
    "# Esto produce una serie pandas que es una matriz de una dimensión de datos indexados\n",
    "df['RM'].head()"
   ]
  },
  {
   "cell_type": "code",
   "execution_count": 48,
   "id": "530c1c62",
   "metadata": {
    "slideshow": {
     "slide_type": "fragment"
    }
   },
   "outputs": [
    {
     "ename": "KeyError",
     "evalue": "('RM', 'target')",
     "output_type": "error",
     "traceback": [
      "\u001b[0;31m---------------------------------------------------------------------------\u001b[0m",
      "\u001b[0;31mKeyError\u001b[0m                                  Traceback (most recent call last)",
      "File \u001b[0;32m~/anaconda3/envs/DataScience/lib/python3.8/site-packages/pandas/core/indexes/base.py:3803\u001b[0m, in \u001b[0;36mIndex.get_loc\u001b[0;34m(self, key, method, tolerance)\u001b[0m\n\u001b[1;32m   3802\u001b[0m \u001b[38;5;28;01mtry\u001b[39;00m:\n\u001b[0;32m-> 3803\u001b[0m     \u001b[38;5;28;01mreturn\u001b[39;00m \u001b[38;5;28;43mself\u001b[39;49m\u001b[38;5;241;43m.\u001b[39;49m\u001b[43m_engine\u001b[49m\u001b[38;5;241;43m.\u001b[39;49m\u001b[43mget_loc\u001b[49m\u001b[43m(\u001b[49m\u001b[43mcasted_key\u001b[49m\u001b[43m)\u001b[49m\n\u001b[1;32m   3804\u001b[0m \u001b[38;5;28;01mexcept\u001b[39;00m \u001b[38;5;167;01mKeyError\u001b[39;00m \u001b[38;5;28;01mas\u001b[39;00m err:\n",
      "File \u001b[0;32m~/anaconda3/envs/DataScience/lib/python3.8/site-packages/pandas/_libs/index.pyx:138\u001b[0m, in \u001b[0;36mpandas._libs.index.IndexEngine.get_loc\u001b[0;34m()\u001b[0m\n",
      "File \u001b[0;32m~/anaconda3/envs/DataScience/lib/python3.8/site-packages/pandas/_libs/index.pyx:165\u001b[0m, in \u001b[0;36mpandas._libs.index.IndexEngine.get_loc\u001b[0;34m()\u001b[0m\n",
      "File \u001b[0;32mpandas/_libs/hashtable_class_helper.pxi:5745\u001b[0m, in \u001b[0;36mpandas._libs.hashtable.PyObjectHashTable.get_item\u001b[0;34m()\u001b[0m\n",
      "File \u001b[0;32mpandas/_libs/hashtable_class_helper.pxi:5753\u001b[0m, in \u001b[0;36mpandas._libs.hashtable.PyObjectHashTable.get_item\u001b[0;34m()\u001b[0m\n",
      "\u001b[0;31mKeyError\u001b[0m: ('RM', 'target')",
      "\nThe above exception was the direct cause of the following exception:\n",
      "\u001b[0;31mKeyError\u001b[0m                                  Traceback (most recent call last)",
      "Cell \u001b[0;32mIn [48], line 3\u001b[0m\n\u001b[1;32m      1\u001b[0m \u001b[38;5;66;03m# Ten en cuenta que no puedes seleccionar columnas múltiples usando llaves simples\u001b[39;00m\n\u001b[1;32m      2\u001b[0m \u001b[38;5;66;03m# Error de llave (KeyError)\u001b[39;00m\n\u001b[0;32m----> 3\u001b[0m \u001b[43mdf\u001b[49m\u001b[43m[\u001b[49m\u001b[38;5;124;43m'\u001b[39;49m\u001b[38;5;124;43mRM\u001b[39;49m\u001b[38;5;124;43m'\u001b[39;49m\u001b[43m,\u001b[49m\u001b[43m \u001b[49m\u001b[38;5;124;43m'\u001b[39;49m\u001b[38;5;124;43mtarget\u001b[39;49m\u001b[38;5;124;43m'\u001b[39;49m\u001b[43m]\u001b[49m\n",
      "File \u001b[0;32m~/anaconda3/envs/DataScience/lib/python3.8/site-packages/pandas/core/frame.py:3805\u001b[0m, in \u001b[0;36mDataFrame.__getitem__\u001b[0;34m(self, key)\u001b[0m\n\u001b[1;32m   3803\u001b[0m \u001b[38;5;28;01mif\u001b[39;00m \u001b[38;5;28mself\u001b[39m\u001b[38;5;241m.\u001b[39mcolumns\u001b[38;5;241m.\u001b[39mnlevels \u001b[38;5;241m>\u001b[39m \u001b[38;5;241m1\u001b[39m:\n\u001b[1;32m   3804\u001b[0m     \u001b[38;5;28;01mreturn\u001b[39;00m \u001b[38;5;28mself\u001b[39m\u001b[38;5;241m.\u001b[39m_getitem_multilevel(key)\n\u001b[0;32m-> 3805\u001b[0m indexer \u001b[38;5;241m=\u001b[39m \u001b[38;5;28;43mself\u001b[39;49m\u001b[38;5;241;43m.\u001b[39;49m\u001b[43mcolumns\u001b[49m\u001b[38;5;241;43m.\u001b[39;49m\u001b[43mget_loc\u001b[49m\u001b[43m(\u001b[49m\u001b[43mkey\u001b[49m\u001b[43m)\u001b[49m\n\u001b[1;32m   3806\u001b[0m \u001b[38;5;28;01mif\u001b[39;00m is_integer(indexer):\n\u001b[1;32m   3807\u001b[0m     indexer \u001b[38;5;241m=\u001b[39m [indexer]\n",
      "File \u001b[0;32m~/anaconda3/envs/DataScience/lib/python3.8/site-packages/pandas/core/indexes/base.py:3805\u001b[0m, in \u001b[0;36mIndex.get_loc\u001b[0;34m(self, key, method, tolerance)\u001b[0m\n\u001b[1;32m   3803\u001b[0m     \u001b[38;5;28;01mreturn\u001b[39;00m \u001b[38;5;28mself\u001b[39m\u001b[38;5;241m.\u001b[39m_engine\u001b[38;5;241m.\u001b[39mget_loc(casted_key)\n\u001b[1;32m   3804\u001b[0m \u001b[38;5;28;01mexcept\u001b[39;00m \u001b[38;5;167;01mKeyError\u001b[39;00m \u001b[38;5;28;01mas\u001b[39;00m err:\n\u001b[0;32m-> 3805\u001b[0m     \u001b[38;5;28;01mraise\u001b[39;00m \u001b[38;5;167;01mKeyError\u001b[39;00m(key) \u001b[38;5;28;01mfrom\u001b[39;00m \u001b[38;5;21;01merr\u001b[39;00m\n\u001b[1;32m   3806\u001b[0m \u001b[38;5;28;01mexcept\u001b[39;00m \u001b[38;5;167;01mTypeError\u001b[39;00m:\n\u001b[1;32m   3807\u001b[0m     \u001b[38;5;66;03m# If we have a listlike key, _check_indexing_error will raise\u001b[39;00m\n\u001b[1;32m   3808\u001b[0m     \u001b[38;5;66;03m#  InvalidIndexError. Otherwise we fall through and re-raise\u001b[39;00m\n\u001b[1;32m   3809\u001b[0m     \u001b[38;5;66;03m#  the TypeError.\u001b[39;00m\n\u001b[1;32m   3810\u001b[0m     \u001b[38;5;28mself\u001b[39m\u001b[38;5;241m.\u001b[39m_check_indexing_error(key)\n",
      "\u001b[0;31mKeyError\u001b[0m: ('RM', 'target')"
     ]
    }
   ],
   "source": [
    "# Ten en cuenta que no puedes seleccionar columnas múltiples usando llaves simples\n",
    "# Error de llave (KeyError)\n",
    "df['RM', 'target']"
   ]
  },
  {
   "cell_type": "code",
   "execution_count": 49,
   "id": "bdb83d5a",
   "metadata": {
    "slideshow": {
     "slide_type": "fragment"
    }
   },
   "outputs": [
    {
     "data": {
      "text/plain": [
       "0    6.575\n",
       "1    6.421\n",
       "2    7.185\n",
       "3    6.998\n",
       "4    7.147\n",
       "5    6.430\n",
       "6    6.012\n",
       "7    6.172\n",
       "8    5.631\n",
       "9    6.004\n",
       "Name: RM, dtype: float64"
      ]
     },
     "execution_count": 49,
     "metadata": {},
     "output_type": "execute_result"
    }
   ],
   "source": [
    "df['RM'][0:10] # Obtención de un subconjunto de los datos (similar a listas)"
   ]
  },
  {
   "cell_type": "code",
   "execution_count": 50,
   "id": "ddd67cbb",
   "metadata": {
    "slideshow": {
     "slide_type": "fragment"
    }
   },
   "outputs": [
    {
     "data": {
      "text/plain": [
       "0    6.575\n",
       "1    6.421\n",
       "2    7.185\n",
       "3    6.998\n",
       "4    7.147\n",
       "Name: RM, dtype: float64"
      ]
     },
     "execution_count": 50,
     "metadata": {},
     "output_type": "execute_result"
    }
   ],
   "source": [
    "# Seleccionar columna usando notación de puntos\n",
    "# Esto no es recomendable\n",
    "df.RM.head()"
   ]
  },
  {
   "cell_type": "code",
   "execution_count": 51,
   "id": "0a248c4b",
   "metadata": {
    "slideshow": {
     "slide_type": "subslide"
    }
   },
   "outputs": [
    {
     "data": {
      "text/html": [
       "<div>\n",
       "<style scoped>\n",
       "    .dataframe tbody tr th:only-of-type {\n",
       "        vertical-align: middle;\n",
       "    }\n",
       "\n",
       "    .dataframe tbody tr th {\n",
       "        vertical-align: top;\n",
       "    }\n",
       "\n",
       "    .dataframe thead th {\n",
       "        text-align: right;\n",
       "    }\n",
       "</style>\n",
       "<table border=\"1\" class=\"dataframe\">\n",
       "  <thead>\n",
       "    <tr style=\"text-align: right;\">\n",
       "      <th></th>\n",
       "      <th>RM</th>\n",
       "      <th>target</th>\n",
       "    </tr>\n",
       "  </thead>\n",
       "  <tbody>\n",
       "    <tr>\n",
       "      <th>0</th>\n",
       "      <td>6.575</td>\n",
       "      <td>24.0</td>\n",
       "    </tr>\n",
       "    <tr>\n",
       "      <th>1</th>\n",
       "      <td>6.421</td>\n",
       "      <td>21.6</td>\n",
       "    </tr>\n",
       "    <tr>\n",
       "      <th>2</th>\n",
       "      <td>7.185</td>\n",
       "      <td>34.7</td>\n",
       "    </tr>\n",
       "    <tr>\n",
       "      <th>3</th>\n",
       "      <td>6.998</td>\n",
       "      <td>33.4</td>\n",
       "    </tr>\n",
       "    <tr>\n",
       "      <th>4</th>\n",
       "      <td>7.147</td>\n",
       "      <td>36.2</td>\n",
       "    </tr>\n",
       "    <tr>\n",
       "      <th>5</th>\n",
       "      <td>6.430</td>\n",
       "      <td>28.7</td>\n",
       "    </tr>\n",
       "    <tr>\n",
       "      <th>6</th>\n",
       "      <td>6.012</td>\n",
       "      <td>22.9</td>\n",
       "    </tr>\n",
       "    <tr>\n",
       "      <th>7</th>\n",
       "      <td>6.172</td>\n",
       "      <td>27.1</td>\n",
       "    </tr>\n",
       "    <tr>\n",
       "      <th>8</th>\n",
       "      <td>5.631</td>\n",
       "      <td>16.5</td>\n",
       "    </tr>\n",
       "    <tr>\n",
       "      <th>9</th>\n",
       "      <td>6.004</td>\n",
       "      <td>18.9</td>\n",
       "    </tr>\n",
       "    <tr>\n",
       "      <th>10</th>\n",
       "      <td>6.377</td>\n",
       "      <td>15.0</td>\n",
       "    </tr>\n",
       "  </tbody>\n",
       "</table>\n",
       "</div>"
      ],
      "text/plain": [
       "       RM  target\n",
       "0   6.575    24.0\n",
       "1   6.421    21.6\n",
       "2   7.185    34.7\n",
       "3   6.998    33.4\n",
       "4   7.147    36.2\n",
       "5   6.430    28.7\n",
       "6   6.012    22.9\n",
       "7   6.172    27.1\n",
       "8   5.631    16.5\n",
       "9   6.004    18.9\n",
       "10  6.377    15.0"
      ]
     },
     "execution_count": 51,
     "metadata": {},
     "output_type": "execute_result"
    }
   ],
   "source": [
    "# Notación con loc (locate). \n",
    "# df.loc[filas, columnas]\n",
    "df.loc[0:10, ['RM','target']]"
   ]
  },
  {
   "cell_type": "markdown",
   "id": "0c169cd5",
   "metadata": {
    "slideshow": {
     "slide_type": "slide"
    }
   },
   "source": [
    "# Pandas: filtrado"
   ]
  },
  {
   "cell_type": "code",
   "execution_count": 4,
   "id": "dcfd0de8",
   "metadata": {
    "slideshow": {
     "slide_type": "fragment"
    }
   },
   "outputs": [
    {
     "data": {
      "text/html": [
       "<div>\n",
       "<style scoped>\n",
       "    .dataframe tbody tr th:only-of-type {\n",
       "        vertical-align: middle;\n",
       "    }\n",
       "\n",
       "    .dataframe tbody tr th {\n",
       "        vertical-align: top;\n",
       "    }\n",
       "\n",
       "    .dataframe thead th {\n",
       "        text-align: right;\n",
       "    }\n",
       "</style>\n",
       "<table border=\"1\" class=\"dataframe\">\n",
       "  <thead>\n",
       "    <tr style=\"text-align: right;\">\n",
       "      <th></th>\n",
       "      <th>Month</th>\n",
       "      <th>Starting Balance</th>\n",
       "      <th>Repayment</th>\n",
       "      <th>Interest Paid</th>\n",
       "      <th>Principal Paid</th>\n",
       "      <th>New Balance</th>\n",
       "      <th>Mortgage Name</th>\n",
       "      <th>Interest Rate</th>\n",
       "    </tr>\n",
       "  </thead>\n",
       "  <tbody>\n",
       "    <tr>\n",
       "      <th>0</th>\n",
       "      <td>1</td>\n",
       "      <td>400000.00</td>\n",
       "      <td>1686.42</td>\n",
       "      <td>1000.00</td>\n",
       "      <td>686.42</td>\n",
       "      <td>399313.58</td>\n",
       "      <td>30 Year</td>\n",
       "      <td>0.03</td>\n",
       "    </tr>\n",
       "    <tr>\n",
       "      <th>1</th>\n",
       "      <td>2</td>\n",
       "      <td>399313.58</td>\n",
       "      <td>1686.42</td>\n",
       "      <td>998.28</td>\n",
       "      <td>688.14</td>\n",
       "      <td>398625.44</td>\n",
       "      <td>30 Year</td>\n",
       "      <td>0.03</td>\n",
       "    </tr>\n",
       "    <tr>\n",
       "      <th>2</th>\n",
       "      <td>3</td>\n",
       "      <td>398625.44</td>\n",
       "      <td>1686.42</td>\n",
       "      <td>996.56</td>\n",
       "      <td>689.86</td>\n",
       "      <td>397935.58</td>\n",
       "      <td>30 Year</td>\n",
       "      <td>0.03</td>\n",
       "    </tr>\n",
       "    <tr>\n",
       "      <th>3</th>\n",
       "      <td>4</td>\n",
       "      <td>397935.58</td>\n",
       "      <td>1686.42</td>\n",
       "      <td>994.83</td>\n",
       "      <td>691.59</td>\n",
       "      <td>397243.99</td>\n",
       "      <td>30 Year</td>\n",
       "      <td>0.03</td>\n",
       "    </tr>\n",
       "    <tr>\n",
       "      <th>4</th>\n",
       "      <td>5</td>\n",
       "      <td>397243.99</td>\n",
       "      <td>1686.42</td>\n",
       "      <td>993.10</td>\n",
       "      <td>693.32</td>\n",
       "      <td>396550.67</td>\n",
       "      <td>30 Year</td>\n",
       "      <td>0.03</td>\n",
       "    </tr>\n",
       "    <tr>\n",
       "      <th>...</th>\n",
       "      <td>...</td>\n",
       "      <td>...</td>\n",
       "      <td>...</td>\n",
       "      <td>...</td>\n",
       "      <td>...</td>\n",
       "      <td>...</td>\n",
       "      <td>...</td>\n",
       "      <td>...</td>\n",
       "    </tr>\n",
       "    <tr>\n",
       "      <th>1075</th>\n",
       "      <td>176</td>\n",
       "      <td>15619.91</td>\n",
       "      <td>3163.17</td>\n",
       "      <td>65.08</td>\n",
       "      <td>3098.09</td>\n",
       "      <td>12521.82</td>\n",
       "      <td>15 Year</td>\n",
       "      <td>0.05</td>\n",
       "    </tr>\n",
       "    <tr>\n",
       "      <th>1076</th>\n",
       "      <td>177</td>\n",
       "      <td>12521.82</td>\n",
       "      <td>3163.17</td>\n",
       "      <td>52.17</td>\n",
       "      <td>3111.00</td>\n",
       "      <td>9410.82</td>\n",
       "      <td>15 Year</td>\n",
       "      <td>0.05</td>\n",
       "    </tr>\n",
       "    <tr>\n",
       "      <th>1077</th>\n",
       "      <td>178</td>\n",
       "      <td>9410.82</td>\n",
       "      <td>3163.17</td>\n",
       "      <td>39.21</td>\n",
       "      <td>3123.96</td>\n",
       "      <td>6286.86</td>\n",
       "      <td>15 Year</td>\n",
       "      <td>0.05</td>\n",
       "    </tr>\n",
       "    <tr>\n",
       "      <th>1078</th>\n",
       "      <td>179</td>\n",
       "      <td>6286.86</td>\n",
       "      <td>3163.17</td>\n",
       "      <td>26.19</td>\n",
       "      <td>3136.98</td>\n",
       "      <td>3149.88</td>\n",
       "      <td>15 Year</td>\n",
       "      <td>0.05</td>\n",
       "    </tr>\n",
       "    <tr>\n",
       "      <th>1079</th>\n",
       "      <td>180</td>\n",
       "      <td>3149.88</td>\n",
       "      <td>3163.17</td>\n",
       "      <td>13.12</td>\n",
       "      <td>3150.05</td>\n",
       "      <td>-0.17</td>\n",
       "      <td>15 Year</td>\n",
       "      <td>0.05</td>\n",
       "    </tr>\n",
       "  </tbody>\n",
       "</table>\n",
       "<p>1080 rows × 8 columns</p>\n",
       "</div>"
      ],
      "text/plain": [
       "      Month  Starting Balance  Repayment  Interest Paid  Principal Paid  \\\n",
       "0         1         400000.00    1686.42        1000.00          686.42   \n",
       "1         2         399313.58    1686.42         998.28          688.14   \n",
       "2         3         398625.44    1686.42         996.56          689.86   \n",
       "3         4         397935.58    1686.42         994.83          691.59   \n",
       "4         5         397243.99    1686.42         993.10          693.32   \n",
       "...     ...               ...        ...            ...             ...   \n",
       "1075    176          15619.91    3163.17          65.08         3098.09   \n",
       "1076    177          12521.82    3163.17          52.17         3111.00   \n",
       "1077    178           9410.82    3163.17          39.21         3123.96   \n",
       "1078    179           6286.86    3163.17          26.19         3136.98   \n",
       "1079    180           3149.88    3163.17          13.12         3150.05   \n",
       "\n",
       "      New Balance Mortgage Name  Interest Rate  \n",
       "0       399313.58       30 Year           0.03  \n",
       "1       398625.44       30 Year           0.03  \n",
       "2       397935.58       30 Year           0.03  \n",
       "3       397243.99       30 Year           0.03  \n",
       "4       396550.67       30 Year           0.03  \n",
       "...           ...           ...            ...  \n",
       "1075     12521.82       15 Year           0.05  \n",
       "1076      9410.82       15 Year           0.05  \n",
       "1077      6286.86       15 Year           0.05  \n",
       "1078      3149.88       15 Year           0.05  \n",
       "1079        -0.17       15 Year           0.05  \n",
       "\n",
       "[1080 rows x 8 columns]"
      ]
     },
     "execution_count": 4,
     "metadata": {},
     "output_type": "execute_result"
    }
   ],
   "source": [
    "import pandas as pd\n",
    "filename = \"data/mortgages.csv\"\n",
    "df = pd.read_csv(filename) # La función read_csv usa la coma \",\" como separador por omisión\n",
    "df"
   ]
  },
  {
   "cell_type": "code",
   "execution_count": 5,
   "id": "35025e49",
   "metadata": {
    "slideshow": {
     "slide_type": "fragment"
    }
   },
   "outputs": [
    {
     "data": {
      "text/plain": [
       "30 Year    720\n",
       "15 Year    360\n",
       "Name: Mortgage Name, dtype: int64"
      ]
     },
     "execution_count": 5,
     "metadata": {},
     "output_type": "execute_result"
    }
   ],
   "source": [
    "# Comencemos primero mirando los valores contenidos en la columna Nombre de la hipoteca\n",
    "# Además, te animo a buscar qué hace el método value_counts usando la función de ayuda de Python\n",
    "df['Mortgage Name'].value_counts()"
   ]
  },
  {
   "cell_type": "code",
   "execution_count": 7,
   "id": "04c7908a",
   "metadata": {},
   "outputs": [
    {
     "data": {
      "text/plain": [
       "0    True\n",
       "1    True\n",
       "2    True\n",
       "3    True\n",
       "4    True\n",
       "Name: Mortgage Name, dtype: bool"
      ]
     },
     "execution_count": 7,
     "metadata": {},
     "output_type": "execute_result"
    }
   ],
   "source": [
    "# Observa que el filtro produce una serie de pandas de valores verdaderos y falsos.\n",
    "# df['Mortgage Name']==\"30 Year\" Lo que se obtiene acá es una serie repleta de valores True y False.\n",
    "# Los True representan aquellos registros con contenido \"30 Year\" y los False aquellos\n",
    "# con contenido distinto a \"30 Year\"\n",
    "mortgage_filter = df['Mortgage Name']=='30 Year'\n",
    "mortgage_filter.head()"
   ]
  },
  {
   "cell_type": "code",
   "execution_count": 17,
   "id": "7ecfa215",
   "metadata": {
    "slideshow": {
     "slide_type": "fragment"
    }
   },
   "outputs": [
    {
     "data": {
      "text/html": [
       "<div>\n",
       "<style scoped>\n",
       "    .dataframe tbody tr th:only-of-type {\n",
       "        vertical-align: middle;\n",
       "    }\n",
       "\n",
       "    .dataframe tbody tr th {\n",
       "        vertical-align: top;\n",
       "    }\n",
       "\n",
       "    .dataframe thead th {\n",
       "        text-align: right;\n",
       "    }\n",
       "</style>\n",
       "<table border=\"1\" class=\"dataframe\">\n",
       "  <thead>\n",
       "    <tr style=\"text-align: right;\">\n",
       "      <th></th>\n",
       "      <th>Month</th>\n",
       "      <th>Starting Balance</th>\n",
       "      <th>Repayment</th>\n",
       "      <th>Interest Paid</th>\n",
       "      <th>Principal Paid</th>\n",
       "      <th>New Balance</th>\n",
       "      <th>Mortgage Name</th>\n",
       "      <th>Interest Rate</th>\n",
       "    </tr>\n",
       "  </thead>\n",
       "  <tbody>\n",
       "    <tr>\n",
       "      <th>0</th>\n",
       "      <td>1</td>\n",
       "      <td>400000.00</td>\n",
       "      <td>1686.42</td>\n",
       "      <td>1000.00</td>\n",
       "      <td>686.42</td>\n",
       "      <td>399313.58</td>\n",
       "      <td>30 Year</td>\n",
       "      <td>0.03</td>\n",
       "    </tr>\n",
       "    <tr>\n",
       "      <th>1</th>\n",
       "      <td>2</td>\n",
       "      <td>399313.58</td>\n",
       "      <td>1686.42</td>\n",
       "      <td>998.28</td>\n",
       "      <td>688.14</td>\n",
       "      <td>398625.44</td>\n",
       "      <td>30 Year</td>\n",
       "      <td>0.03</td>\n",
       "    </tr>\n",
       "    <tr>\n",
       "      <th>2</th>\n",
       "      <td>3</td>\n",
       "      <td>398625.44</td>\n",
       "      <td>1686.42</td>\n",
       "      <td>996.56</td>\n",
       "      <td>689.86</td>\n",
       "      <td>397935.58</td>\n",
       "      <td>30 Year</td>\n",
       "      <td>0.03</td>\n",
       "    </tr>\n",
       "    <tr>\n",
       "      <th>3</th>\n",
       "      <td>4</td>\n",
       "      <td>397935.58</td>\n",
       "      <td>1686.42</td>\n",
       "      <td>994.83</td>\n",
       "      <td>691.59</td>\n",
       "      <td>397243.99</td>\n",
       "      <td>30 Year</td>\n",
       "      <td>0.03</td>\n",
       "    </tr>\n",
       "    <tr>\n",
       "      <th>4</th>\n",
       "      <td>5</td>\n",
       "      <td>397243.99</td>\n",
       "      <td>1686.42</td>\n",
       "      <td>993.10</td>\n",
       "      <td>693.32</td>\n",
       "      <td>396550.67</td>\n",
       "      <td>30 Year</td>\n",
       "      <td>0.03</td>\n",
       "    </tr>\n",
       "    <tr>\n",
       "      <th>...</th>\n",
       "      <td>...</td>\n",
       "      <td>...</td>\n",
       "      <td>...</td>\n",
       "      <td>...</td>\n",
       "      <td>...</td>\n",
       "      <td>...</td>\n",
       "      <td>...</td>\n",
       "      <td>...</td>\n",
       "    </tr>\n",
       "    <tr>\n",
       "      <th>715</th>\n",
       "      <td>356</td>\n",
       "      <td>10596.54</td>\n",
       "      <td>2147.29</td>\n",
       "      <td>44.15</td>\n",
       "      <td>2103.14</td>\n",
       "      <td>8493.40</td>\n",
       "      <td>30 Year</td>\n",
       "      <td>0.05</td>\n",
       "    </tr>\n",
       "    <tr>\n",
       "      <th>716</th>\n",
       "      <td>357</td>\n",
       "      <td>8493.40</td>\n",
       "      <td>2147.29</td>\n",
       "      <td>35.38</td>\n",
       "      <td>2111.91</td>\n",
       "      <td>6381.49</td>\n",
       "      <td>30 Year</td>\n",
       "      <td>0.05</td>\n",
       "    </tr>\n",
       "    <tr>\n",
       "      <th>717</th>\n",
       "      <td>358</td>\n",
       "      <td>6381.49</td>\n",
       "      <td>2147.29</td>\n",
       "      <td>26.58</td>\n",
       "      <td>2120.71</td>\n",
       "      <td>4260.78</td>\n",
       "      <td>30 Year</td>\n",
       "      <td>0.05</td>\n",
       "    </tr>\n",
       "    <tr>\n",
       "      <th>718</th>\n",
       "      <td>359</td>\n",
       "      <td>4260.78</td>\n",
       "      <td>2147.29</td>\n",
       "      <td>17.75</td>\n",
       "      <td>2129.54</td>\n",
       "      <td>2131.24</td>\n",
       "      <td>30 Year</td>\n",
       "      <td>0.05</td>\n",
       "    </tr>\n",
       "    <tr>\n",
       "      <th>719</th>\n",
       "      <td>360</td>\n",
       "      <td>2131.24</td>\n",
       "      <td>2147.29</td>\n",
       "      <td>8.88</td>\n",
       "      <td>2138.41</td>\n",
       "      <td>-7.17</td>\n",
       "      <td>30 Year</td>\n",
       "      <td>0.05</td>\n",
       "    </tr>\n",
       "  </tbody>\n",
       "</table>\n",
       "<p>720 rows × 8 columns</p>\n",
       "</div>"
      ],
      "text/plain": [
       "     Month  Starting Balance  Repayment  Interest Paid  Principal Paid  \\\n",
       "0        1         400000.00    1686.42        1000.00          686.42   \n",
       "1        2         399313.58    1686.42         998.28          688.14   \n",
       "2        3         398625.44    1686.42         996.56          689.86   \n",
       "3        4         397935.58    1686.42         994.83          691.59   \n",
       "4        5         397243.99    1686.42         993.10          693.32   \n",
       "..     ...               ...        ...            ...             ...   \n",
       "715    356          10596.54    2147.29          44.15         2103.14   \n",
       "716    357           8493.40    2147.29          35.38         2111.91   \n",
       "717    358           6381.49    2147.29          26.58         2120.71   \n",
       "718    359           4260.78    2147.29          17.75         2129.54   \n",
       "719    360           2131.24    2147.29           8.88         2138.41   \n",
       "\n",
       "     New Balance Mortgage Name  Interest Rate  \n",
       "0      399313.58       30 Year           0.03  \n",
       "1      398625.44       30 Year           0.03  \n",
       "2      397935.58       30 Year           0.03  \n",
       "3      397243.99       30 Year           0.03  \n",
       "4      396550.67       30 Year           0.03  \n",
       "..           ...           ...            ...  \n",
       "715      8493.40       30 Year           0.05  \n",
       "716      6381.49       30 Year           0.05  \n",
       "717      4260.78       30 Year           0.05  \n",
       "718      2131.24       30 Year           0.05  \n",
       "719        -7.17       30 Year           0.05  \n",
       "\n",
       "[720 rows x 8 columns]"
      ]
     },
     "execution_count": 17,
     "metadata": {},
     "output_type": "execute_result"
    }
   ],
   "source": [
    "# Método 1 con corchetes\n",
    "# Filtra el marco de datos para obtener un marco de datos de solo '30 Year '\n",
    "df[mortgage_filter]"
   ]
  },
  {
   "cell_type": "code",
   "execution_count": 9,
   "id": "5fbb3c3c",
   "metadata": {},
   "outputs": [
    {
     "data": {
      "text/plain": [
       "30 Year    720\n",
       "Name: Mortgage Name, dtype: int64"
      ]
     },
     "execution_count": 9,
     "metadata": {},
     "output_type": "execute_result"
    }
   ],
   "source": [
    "df[mortgage_filter]['Mortgage Name'].value_counts()"
   ]
  },
  {
   "cell_type": "code",
   "execution_count": 13,
   "id": "c8efa704",
   "metadata": {
    "slideshow": {
     "slide_type": "fragment"
    }
   },
   "outputs": [
    {
     "data": {
      "text/plain": [
       "30 Year    720\n",
       "Name: Mortgage Name, dtype: int64"
      ]
     },
     "execution_count": 13,
     "metadata": {},
     "output_type": "execute_result"
    }
   ],
   "source": [
    "# Aproximación 2 usando loc\n",
    "# Filtre el marco de datos para obtener un marco de datos de hipotecas de solo 30 años\n",
    "df.loc[mortgage_filter, :]['Mortgage Name'].value_counts()"
   ]
  },
  {
   "cell_type": "code",
   "execution_count": 15,
   "id": "0d32a9fe",
   "metadata": {
    "slideshow": {
     "slide_type": "fragment"
    }
   },
   "outputs": [
    {
     "data": {
      "text/plain": [
       "30 Year    720\n",
       "15 Year    360\n",
       "Name: Mortgage Name, dtype: int64"
      ]
     },
     "execution_count": 15,
     "metadata": {},
     "output_type": "execute_result"
    }
   ],
   "source": [
    "# Observa que pareciera que nada ha cambiado.\n",
    "# Esto se debe a que no actualizamos el marco de datos después de aplicar el filtro.\n",
    "# La salida anterior es local; ya no podemos usarla ya que en realidad no cambiamos/actualizamos el marco de datos\n",
    "# Necesitaríamos guardar el código anterior como una variable para usar el marco de datos filtrado en futuras celdas\n",
    "# de código\n",
    "df['Mortgage Name'].value_counts()"
   ]
  },
  {
   "cell_type": "code",
   "execution_count": 18,
   "id": "054d808a",
   "metadata": {
    "slideshow": {
     "slide_type": "fragment"
    }
   },
   "outputs": [
    {
     "data": {
      "text/plain": [
       "30 Year    720\n",
       "Name: Mortgage Name, dtype: int64"
      ]
     },
     "execution_count": 18,
     "metadata": {},
     "output_type": "execute_result"
    }
   ],
   "source": [
    "# Filtra el marco de datos para obtener un marco de datos de hipotecas de solo 30 años\n",
    "# Ten en cuenta que estamos sobrescribiendo df aquí para guardar solo los datos de la hipoteca a 30 años\n",
    "# Y ahora, solo hay hipotecas a 30 años en la salida cuando ejecutamos .value_counts()\n",
    "df = df.loc[mortgage_filter, :]\n",
    "df['Mortgage Name'].value_counts()"
   ]
  },
  {
   "cell_type": "code",
   "execution_count": 19,
   "id": "bdd11237",
   "metadata": {
    "slideshow": {
     "slide_type": "fragment"
    }
   },
   "outputs": [
    {
     "data": {
      "text/plain": [
       "0.03    360\n",
       "0.05    360\n",
       "Name: Interest Rate, dtype: int64"
      ]
     },
     "execution_count": 19,
     "metadata": {},
     "output_type": "execute_result"
    }
   ],
   "source": [
    "# Filtro por tasa de interés\n",
    "# Ve si puedes averiguar qué hace el método de recuento de valores utilizando la función de ayuda\n",
    "df['Interest Rate'].value_counts()"
   ]
  },
  {
   "cell_type": "code",
   "execution_count": 20,
   "id": "56c8bcd7",
   "metadata": {
    "slideshow": {
     "slide_type": "fragment"
    }
   },
   "outputs": [
    {
     "data": {
      "text/plain": [
       "0       True\n",
       "1       True\n",
       "2       True\n",
       "3       True\n",
       "4       True\n",
       "       ...  \n",
       "715    False\n",
       "716    False\n",
       "717    False\n",
       "718    False\n",
       "719    False\n",
       "Name: Interest Rate, Length: 720, dtype: bool"
      ]
     },
     "execution_count": 20,
     "metadata": {},
     "output_type": "execute_result"
    }
   ],
   "source": [
    "# Observa que el filtro produce una serie de pandas de valores verdaderos y falsos.\n",
    "df['Interest Rate']==0.03"
   ]
  },
  {
   "cell_type": "code",
   "execution_count": 22,
   "id": "75441860",
   "metadata": {
    "slideshow": {
     "slide_type": "fragment"
    }
   },
   "outputs": [
    {
     "data": {
      "text/plain": [
       "0.03    360\n",
       "Name: Interest Rate, dtype: int64"
      ]
     },
     "execution_count": 22,
     "metadata": {},
     "output_type": "execute_result"
    }
   ],
   "source": [
    "interest_filter = df['Interest Rate']==0.03\n",
    "df = df.loc[interest_filter, ['Interest Rate']]\n",
    "df['Interest Rate'].value_counts()"
   ]
  },
  {
   "cell_type": "code",
   "execution_count": 23,
   "id": "5396df6d",
   "metadata": {},
   "outputs": [
    {
     "name": "stdout",
     "output_type": "stream",
     "text": [
      "<class 'pandas.core.frame.DataFrame'>\n",
      "Int64Index: 360 entries, 0 to 359\n",
      "Data columns (total 1 columns):\n",
      " #   Column         Non-Null Count  Dtype  \n",
      "---  ------         --------------  -----  \n",
      " 0   Interest Rate  360 non-null    float64\n",
      "dtypes: float64(1)\n",
      "memory usage: 5.6 KB\n"
     ]
    }
   ],
   "source": [
    "df.info()"
   ]
  },
  {
   "cell_type": "code",
   "execution_count": 25,
   "id": "6a9e022c",
   "metadata": {
    "slideshow": {
     "slide_type": "fragment"
    }
   },
   "outputs": [
    {
     "data": {
      "text/plain": [
       "0.03    360\n",
       "Name: Interest Rate, dtype: int64"
      ]
     },
     "execution_count": 25,
     "metadata": {},
     "output_type": "execute_result"
    }
   ],
   "source": [
    "filename = \"data/mortgages.csv\"\n",
    "df = pd.read_csv(filename)\n",
    "\n",
    "# Primer filtro\n",
    "mortgage_filter = df['Mortgage Name']=='30 Year' \n",
    "# Segundo filtro\n",
    "interest_filter = df['Interest Rate']==0.03\n",
    "\n",
    "# Aplicamos ambos filtros\n",
    "df = df.loc[mortgage_filter & interest_filter, :] # & (ampersand) y es el and bitwise\n",
    "df['Interest Rate'].value_counts()"
   ]
  },
  {
   "cell_type": "markdown",
   "id": "b72855ac",
   "metadata": {
    "slideshow": {
     "slide_type": "slide"
    }
   },
   "source": [
    "# Pandas: Renombrar y eliminar columnas"
   ]
  },
  {
   "cell_type": "code",
   "execution_count": 29,
   "id": "0bd5e461",
   "metadata": {},
   "outputs": [
    {
     "data": {
      "text/html": [
       "<div>\n",
       "<style scoped>\n",
       "    .dataframe tbody tr th:only-of-type {\n",
       "        vertical-align: middle;\n",
       "    }\n",
       "\n",
       "    .dataframe tbody tr th {\n",
       "        vertical-align: top;\n",
       "    }\n",
       "\n",
       "    .dataframe thead th {\n",
       "        text-align: right;\n",
       "    }\n",
       "</style>\n",
       "<table border=\"1\" class=\"dataframe\">\n",
       "  <thead>\n",
       "    <tr style=\"text-align: right;\">\n",
       "      <th></th>\n",
       "      <th>Month</th>\n",
       "      <th>starting_balance</th>\n",
       "      <th>Repayment</th>\n",
       "      <th>interest_paid</th>\n",
       "      <th>principal_paid</th>\n",
       "      <th>New Balance</th>\n",
       "      <th>Mortgage Name</th>\n",
       "      <th>Interest Rate</th>\n",
       "    </tr>\n",
       "  </thead>\n",
       "  <tbody>\n",
       "    <tr>\n",
       "      <th>0</th>\n",
       "      <td>1</td>\n",
       "      <td>400000.00</td>\n",
       "      <td>1686.42</td>\n",
       "      <td>1000.00</td>\n",
       "      <td>686.42</td>\n",
       "      <td>399313.58</td>\n",
       "      <td>30 Year</td>\n",
       "      <td>0.03</td>\n",
       "    </tr>\n",
       "    <tr>\n",
       "      <th>1</th>\n",
       "      <td>2</td>\n",
       "      <td>399313.58</td>\n",
       "      <td>1686.42</td>\n",
       "      <td>998.28</td>\n",
       "      <td>688.14</td>\n",
       "      <td>398625.44</td>\n",
       "      <td>30 Year</td>\n",
       "      <td>0.03</td>\n",
       "    </tr>\n",
       "    <tr>\n",
       "      <th>2</th>\n",
       "      <td>3</td>\n",
       "      <td>398625.44</td>\n",
       "      <td>1686.42</td>\n",
       "      <td>996.56</td>\n",
       "      <td>689.86</td>\n",
       "      <td>397935.58</td>\n",
       "      <td>30 Year</td>\n",
       "      <td>0.03</td>\n",
       "    </tr>\n",
       "    <tr>\n",
       "      <th>3</th>\n",
       "      <td>4</td>\n",
       "      <td>397935.58</td>\n",
       "      <td>1686.42</td>\n",
       "      <td>994.83</td>\n",
       "      <td>691.59</td>\n",
       "      <td>397243.99</td>\n",
       "      <td>30 Year</td>\n",
       "      <td>0.03</td>\n",
       "    </tr>\n",
       "    <tr>\n",
       "      <th>4</th>\n",
       "      <td>5</td>\n",
       "      <td>397243.99</td>\n",
       "      <td>1686.42</td>\n",
       "      <td>993.10</td>\n",
       "      <td>693.32</td>\n",
       "      <td>396550.67</td>\n",
       "      <td>30 Year</td>\n",
       "      <td>0.03</td>\n",
       "    </tr>\n",
       "  </tbody>\n",
       "</table>\n",
       "</div>"
      ],
      "text/plain": [
       "   Month  starting_balance  Repayment  interest_paid  principal_paid  \\\n",
       "0      1         400000.00    1686.42        1000.00          686.42   \n",
       "1      2         399313.58    1686.42         998.28          688.14   \n",
       "2      3         398625.44    1686.42         996.56          689.86   \n",
       "3      4         397935.58    1686.42         994.83          691.59   \n",
       "4      5         397243.99    1686.42         993.10          693.32   \n",
       "\n",
       "   New Balance Mortgage Name  Interest Rate  \n",
       "0    399313.58       30 Year           0.03  \n",
       "1    398625.44       30 Year           0.03  \n",
       "2    397935.58       30 Year           0.03  \n",
       "3    397243.99       30 Year           0.03  \n",
       "4    396550.67       30 Year           0.03  "
      ]
     },
     "execution_count": 29,
     "metadata": {},
     "output_type": "execute_result"
    }
   ],
   "source": [
    "# Enfoque 1 sustitución de diccionario mediante el método de cambio de nombre\n",
    "df = df.rename(columns={'Starting Balance': 'starting_balance',\n",
    "                        'Interest Paid': 'interest_paid', \n",
    "                        'Principal Paid': 'principal_paid'})\n",
    "# DataFrame after renaming columns\n",
    "df.head()"
   ]
  },
  {
   "cell_type": "code",
   "execution_count": 30,
   "id": "df3f241c",
   "metadata": {
    "slideshow": {
     "slide_type": "fragment"
    }
   },
   "outputs": [
    {
     "data": {
      "text/html": [
       "<div>\n",
       "<style scoped>\n",
       "    .dataframe tbody tr th:only-of-type {\n",
       "        vertical-align: middle;\n",
       "    }\n",
       "\n",
       "    .dataframe tbody tr th {\n",
       "        vertical-align: top;\n",
       "    }\n",
       "\n",
       "    .dataframe thead th {\n",
       "        text-align: right;\n",
       "    }\n",
       "</style>\n",
       "<table border=\"1\" class=\"dataframe\">\n",
       "  <thead>\n",
       "    <tr style=\"text-align: right;\">\n",
       "      <th></th>\n",
       "      <th>month</th>\n",
       "      <th>starting_balance</th>\n",
       "      <th>repayment</th>\n",
       "      <th>interest_paid</th>\n",
       "      <th>principal_paid</th>\n",
       "      <th>new_balance</th>\n",
       "      <th>mortgage_name</th>\n",
       "      <th>interest_rate</th>\n",
       "    </tr>\n",
       "  </thead>\n",
       "  <tbody>\n",
       "    <tr>\n",
       "      <th>0</th>\n",
       "      <td>1</td>\n",
       "      <td>400000.00</td>\n",
       "      <td>1686.42</td>\n",
       "      <td>1000.00</td>\n",
       "      <td>686.42</td>\n",
       "      <td>399313.58</td>\n",
       "      <td>30 Year</td>\n",
       "      <td>0.03</td>\n",
       "    </tr>\n",
       "    <tr>\n",
       "      <th>1</th>\n",
       "      <td>2</td>\n",
       "      <td>399313.58</td>\n",
       "      <td>1686.42</td>\n",
       "      <td>998.28</td>\n",
       "      <td>688.14</td>\n",
       "      <td>398625.44</td>\n",
       "      <td>30 Year</td>\n",
       "      <td>0.03</td>\n",
       "    </tr>\n",
       "    <tr>\n",
       "      <th>2</th>\n",
       "      <td>3</td>\n",
       "      <td>398625.44</td>\n",
       "      <td>1686.42</td>\n",
       "      <td>996.56</td>\n",
       "      <td>689.86</td>\n",
       "      <td>397935.58</td>\n",
       "      <td>30 Year</td>\n",
       "      <td>0.03</td>\n",
       "    </tr>\n",
       "    <tr>\n",
       "      <th>3</th>\n",
       "      <td>4</td>\n",
       "      <td>397935.58</td>\n",
       "      <td>1686.42</td>\n",
       "      <td>994.83</td>\n",
       "      <td>691.59</td>\n",
       "      <td>397243.99</td>\n",
       "      <td>30 Year</td>\n",
       "      <td>0.03</td>\n",
       "    </tr>\n",
       "    <tr>\n",
       "      <th>4</th>\n",
       "      <td>5</td>\n",
       "      <td>397243.99</td>\n",
       "      <td>1686.42</td>\n",
       "      <td>993.10</td>\n",
       "      <td>693.32</td>\n",
       "      <td>396550.67</td>\n",
       "      <td>30 Year</td>\n",
       "      <td>0.03</td>\n",
       "    </tr>\n",
       "  </tbody>\n",
       "</table>\n",
       "</div>"
      ],
      "text/plain": [
       "   month  starting_balance  repayment  interest_paid  principal_paid  \\\n",
       "0      1         400000.00    1686.42        1000.00          686.42   \n",
       "1      2         399313.58    1686.42         998.28          688.14   \n",
       "2      3         398625.44    1686.42         996.56          689.86   \n",
       "3      4         397935.58    1686.42         994.83          691.59   \n",
       "4      5         397243.99    1686.42         993.10          693.32   \n",
       "\n",
       "   new_balance mortgage_name  interest_rate  \n",
       "0    399313.58       30 Year           0.03  \n",
       "1    398625.44       30 Year           0.03  \n",
       "2    397935.58       30 Year           0.03  \n",
       "3    397243.99       30 Year           0.03  \n",
       "4    396550.67       30 Year           0.03  "
      ]
     },
     "execution_count": 30,
     "metadata": {},
     "output_type": "execute_result"
    }
   ],
   "source": [
    "# Enfoque 2\n",
    "# Incluso si quieres cambiar el nombre de una sola columna, debes enumerar el resto de las columnas\n",
    "df.columns = ['month',\n",
    "              'starting_balance',\n",
    "              'repayment',\n",
    "              'interest_paid',\n",
    "              'principal_paid',\n",
    "              'new_balance',\n",
    "              'mortgage_name',\n",
    "              'interest_rate']\n",
    "df.head()"
   ]
  },
  {
   "cell_type": "code",
   "execution_count": 31,
   "id": "51e62643",
   "metadata": {},
   "outputs": [
    {
     "data": {
      "text/html": [
       "<div>\n",
       "<style scoped>\n",
       "    .dataframe tbody tr th:only-of-type {\n",
       "        vertical-align: middle;\n",
       "    }\n",
       "\n",
       "    .dataframe tbody tr th {\n",
       "        vertical-align: top;\n",
       "    }\n",
       "\n",
       "    .dataframe thead th {\n",
       "        text-align: right;\n",
       "    }\n",
       "</style>\n",
       "<table border=\"1\" class=\"dataframe\">\n",
       "  <thead>\n",
       "    <tr style=\"text-align: right;\">\n",
       "      <th></th>\n",
       "      <th>month</th>\n",
       "      <th>starting_balance</th>\n",
       "      <th>repayment</th>\n",
       "      <th>interest_paid</th>\n",
       "      <th>principal_paid</th>\n",
       "      <th>mortgage_name</th>\n",
       "      <th>interest_rate</th>\n",
       "    </tr>\n",
       "  </thead>\n",
       "  <tbody>\n",
       "    <tr>\n",
       "      <th>0</th>\n",
       "      <td>1</td>\n",
       "      <td>400000.00</td>\n",
       "      <td>1686.42</td>\n",
       "      <td>1000.00</td>\n",
       "      <td>686.42</td>\n",
       "      <td>30 Year</td>\n",
       "      <td>0.03</td>\n",
       "    </tr>\n",
       "    <tr>\n",
       "      <th>1</th>\n",
       "      <td>2</td>\n",
       "      <td>399313.58</td>\n",
       "      <td>1686.42</td>\n",
       "      <td>998.28</td>\n",
       "      <td>688.14</td>\n",
       "      <td>30 Year</td>\n",
       "      <td>0.03</td>\n",
       "    </tr>\n",
       "    <tr>\n",
       "      <th>2</th>\n",
       "      <td>3</td>\n",
       "      <td>398625.44</td>\n",
       "      <td>1686.42</td>\n",
       "      <td>996.56</td>\n",
       "      <td>689.86</td>\n",
       "      <td>30 Year</td>\n",
       "      <td>0.03</td>\n",
       "    </tr>\n",
       "    <tr>\n",
       "      <th>3</th>\n",
       "      <td>4</td>\n",
       "      <td>397935.58</td>\n",
       "      <td>1686.42</td>\n",
       "      <td>994.83</td>\n",
       "      <td>691.59</td>\n",
       "      <td>30 Year</td>\n",
       "      <td>0.03</td>\n",
       "    </tr>\n",
       "    <tr>\n",
       "      <th>4</th>\n",
       "      <td>5</td>\n",
       "      <td>397243.99</td>\n",
       "      <td>1686.42</td>\n",
       "      <td>993.10</td>\n",
       "      <td>693.32</td>\n",
       "      <td>30 Year</td>\n",
       "      <td>0.03</td>\n",
       "    </tr>\n",
       "    <tr>\n",
       "      <th>...</th>\n",
       "      <td>...</td>\n",
       "      <td>...</td>\n",
       "      <td>...</td>\n",
       "      <td>...</td>\n",
       "      <td>...</td>\n",
       "      <td>...</td>\n",
       "      <td>...</td>\n",
       "    </tr>\n",
       "    <tr>\n",
       "      <th>355</th>\n",
       "      <td>356</td>\n",
       "      <td>8364.12</td>\n",
       "      <td>1686.42</td>\n",
       "      <td>20.91</td>\n",
       "      <td>1665.51</td>\n",
       "      <td>30 Year</td>\n",
       "      <td>0.03</td>\n",
       "    </tr>\n",
       "    <tr>\n",
       "      <th>356</th>\n",
       "      <td>357</td>\n",
       "      <td>6698.61</td>\n",
       "      <td>1686.42</td>\n",
       "      <td>16.74</td>\n",
       "      <td>1669.68</td>\n",
       "      <td>30 Year</td>\n",
       "      <td>0.03</td>\n",
       "    </tr>\n",
       "    <tr>\n",
       "      <th>357</th>\n",
       "      <td>358</td>\n",
       "      <td>5028.93</td>\n",
       "      <td>1686.42</td>\n",
       "      <td>12.57</td>\n",
       "      <td>1673.85</td>\n",
       "      <td>30 Year</td>\n",
       "      <td>0.03</td>\n",
       "    </tr>\n",
       "    <tr>\n",
       "      <th>358</th>\n",
       "      <td>359</td>\n",
       "      <td>3355.08</td>\n",
       "      <td>1686.42</td>\n",
       "      <td>8.38</td>\n",
       "      <td>1678.04</td>\n",
       "      <td>30 Year</td>\n",
       "      <td>0.03</td>\n",
       "    </tr>\n",
       "    <tr>\n",
       "      <th>359</th>\n",
       "      <td>360</td>\n",
       "      <td>1677.04</td>\n",
       "      <td>1686.42</td>\n",
       "      <td>4.19</td>\n",
       "      <td>1682.23</td>\n",
       "      <td>30 Year</td>\n",
       "      <td>0.03</td>\n",
       "    </tr>\n",
       "  </tbody>\n",
       "</table>\n",
       "<p>360 rows × 7 columns</p>\n",
       "</div>"
      ],
      "text/plain": [
       "     month  starting_balance  repayment  interest_paid  principal_paid  \\\n",
       "0        1         400000.00    1686.42        1000.00          686.42   \n",
       "1        2         399313.58    1686.42         998.28          688.14   \n",
       "2        3         398625.44    1686.42         996.56          689.86   \n",
       "3        4         397935.58    1686.42         994.83          691.59   \n",
       "4        5         397243.99    1686.42         993.10          693.32   \n",
       "..     ...               ...        ...            ...             ...   \n",
       "355    356           8364.12    1686.42          20.91         1665.51   \n",
       "356    357           6698.61    1686.42          16.74         1669.68   \n",
       "357    358           5028.93    1686.42          12.57         1673.85   \n",
       "358    359           3355.08    1686.42           8.38         1678.04   \n",
       "359    360           1677.04    1686.42           4.19         1682.23   \n",
       "\n",
       "    mortgage_name  interest_rate  \n",
       "0         30 Year           0.03  \n",
       "1         30 Year           0.03  \n",
       "2         30 Year           0.03  \n",
       "3         30 Year           0.03  \n",
       "4         30 Year           0.03  \n",
       "..            ...            ...  \n",
       "355       30 Year           0.03  \n",
       "356       30 Year           0.03  \n",
       "357       30 Year           0.03  \n",
       "358       30 Year           0.03  \n",
       "359       30 Year           0.03  \n",
       "\n",
       "[360 rows x 7 columns]"
      ]
     },
     "execution_count": 31,
     "metadata": {},
     "output_type": "execute_result"
    }
   ],
   "source": [
    "df.drop(columns=['new_balance'])"
   ]
  },
  {
   "cell_type": "code",
   "execution_count": 33,
   "id": "e491c546",
   "metadata": {
    "slideshow": {
     "slide_type": "fragment"
    }
   },
   "outputs": [
    {
     "data": {
      "text/html": [
       "<div>\n",
       "<style scoped>\n",
       "    .dataframe tbody tr th:only-of-type {\n",
       "        vertical-align: middle;\n",
       "    }\n",
       "\n",
       "    .dataframe tbody tr th {\n",
       "        vertical-align: top;\n",
       "    }\n",
       "\n",
       "    .dataframe thead th {\n",
       "        text-align: right;\n",
       "    }\n",
       "</style>\n",
       "<table border=\"1\" class=\"dataframe\">\n",
       "  <thead>\n",
       "    <tr style=\"text-align: right;\">\n",
       "      <th></th>\n",
       "      <th>month</th>\n",
       "      <th>starting_balance</th>\n",
       "      <th>repayment</th>\n",
       "      <th>interest_paid</th>\n",
       "      <th>principal_paid</th>\n",
       "      <th>mortgage_name</th>\n",
       "      <th>interest_rate</th>\n",
       "    </tr>\n",
       "  </thead>\n",
       "  <tbody>\n",
       "    <tr>\n",
       "      <th>0</th>\n",
       "      <td>1</td>\n",
       "      <td>400000.00</td>\n",
       "      <td>1686.42</td>\n",
       "      <td>1000.00</td>\n",
       "      <td>686.42</td>\n",
       "      <td>30 Year</td>\n",
       "      <td>0.03</td>\n",
       "    </tr>\n",
       "    <tr>\n",
       "      <th>1</th>\n",
       "      <td>2</td>\n",
       "      <td>399313.58</td>\n",
       "      <td>1686.42</td>\n",
       "      <td>998.28</td>\n",
       "      <td>688.14</td>\n",
       "      <td>30 Year</td>\n",
       "      <td>0.03</td>\n",
       "    </tr>\n",
       "    <tr>\n",
       "      <th>2</th>\n",
       "      <td>3</td>\n",
       "      <td>398625.44</td>\n",
       "      <td>1686.42</td>\n",
       "      <td>996.56</td>\n",
       "      <td>689.86</td>\n",
       "      <td>30 Year</td>\n",
       "      <td>0.03</td>\n",
       "    </tr>\n",
       "    <tr>\n",
       "      <th>3</th>\n",
       "      <td>4</td>\n",
       "      <td>397935.58</td>\n",
       "      <td>1686.42</td>\n",
       "      <td>994.83</td>\n",
       "      <td>691.59</td>\n",
       "      <td>30 Year</td>\n",
       "      <td>0.03</td>\n",
       "    </tr>\n",
       "    <tr>\n",
       "      <th>4</th>\n",
       "      <td>5</td>\n",
       "      <td>397243.99</td>\n",
       "      <td>1686.42</td>\n",
       "      <td>993.10</td>\n",
       "      <td>693.32</td>\n",
       "      <td>30 Year</td>\n",
       "      <td>0.03</td>\n",
       "    </tr>\n",
       "  </tbody>\n",
       "</table>\n",
       "</div>"
      ],
      "text/plain": [
       "   month  starting_balance  repayment  interest_paid  principal_paid  \\\n",
       "0      1         400000.00    1686.42        1000.00          686.42   \n",
       "1      2         399313.58    1686.42         998.28          688.14   \n",
       "2      3         398625.44    1686.42         996.56          689.86   \n",
       "3      4         397935.58    1686.42         994.83          691.59   \n",
       "4      5         397243.99    1686.42         993.10          693.32   \n",
       "\n",
       "  mortgage_name  interest_rate  \n",
       "0       30 Year           0.03  \n",
       "1       30 Year           0.03  \n",
       "2       30 Year           0.03  \n",
       "3       30 Year           0.03  \n",
       "4       30 Year           0.03  "
      ]
     },
     "execution_count": 33,
     "metadata": {},
     "output_type": "execute_result"
    }
   ],
   "source": [
    "# También es posible eliminar ciertas columnas de tu dataframe\n",
    "# Enfoque 1\n",
    "df = df.drop(columns=['new_balance'])\n",
    "df.head()"
   ]
  },
  {
   "cell_type": "code",
   "execution_count": 34,
   "id": "35e0ce4f",
   "metadata": {
    "slideshow": {
     "slide_type": "fragment"
    }
   },
   "outputs": [
    {
     "data": {
      "text/html": [
       "<div>\n",
       "<style scoped>\n",
       "    .dataframe tbody tr th:only-of-type {\n",
       "        vertical-align: middle;\n",
       "    }\n",
       "\n",
       "    .dataframe tbody tr th {\n",
       "        vertical-align: top;\n",
       "    }\n",
       "\n",
       "    .dataframe thead th {\n",
       "        text-align: right;\n",
       "    }\n",
       "</style>\n",
       "<table border=\"1\" class=\"dataframe\">\n",
       "  <thead>\n",
       "    <tr style=\"text-align: right;\">\n",
       "      <th></th>\n",
       "      <th>month</th>\n",
       "      <th>repayment</th>\n",
       "      <th>interest_paid</th>\n",
       "      <th>principal_paid</th>\n",
       "      <th>mortgage_name</th>\n",
       "      <th>interest_rate</th>\n",
       "    </tr>\n",
       "  </thead>\n",
       "  <tbody>\n",
       "    <tr>\n",
       "      <th>0</th>\n",
       "      <td>1</td>\n",
       "      <td>1686.42</td>\n",
       "      <td>1000.00</td>\n",
       "      <td>686.42</td>\n",
       "      <td>30 Year</td>\n",
       "      <td>0.03</td>\n",
       "    </tr>\n",
       "    <tr>\n",
       "      <th>1</th>\n",
       "      <td>2</td>\n",
       "      <td>1686.42</td>\n",
       "      <td>998.28</td>\n",
       "      <td>688.14</td>\n",
       "      <td>30 Year</td>\n",
       "      <td>0.03</td>\n",
       "    </tr>\n",
       "    <tr>\n",
       "      <th>2</th>\n",
       "      <td>3</td>\n",
       "      <td>1686.42</td>\n",
       "      <td>996.56</td>\n",
       "      <td>689.86</td>\n",
       "      <td>30 Year</td>\n",
       "      <td>0.03</td>\n",
       "    </tr>\n",
       "    <tr>\n",
       "      <th>3</th>\n",
       "      <td>4</td>\n",
       "      <td>1686.42</td>\n",
       "      <td>994.83</td>\n",
       "      <td>691.59</td>\n",
       "      <td>30 Year</td>\n",
       "      <td>0.03</td>\n",
       "    </tr>\n",
       "    <tr>\n",
       "      <th>4</th>\n",
       "      <td>5</td>\n",
       "      <td>1686.42</td>\n",
       "      <td>993.10</td>\n",
       "      <td>693.32</td>\n",
       "      <td>30 Year</td>\n",
       "      <td>0.03</td>\n",
       "    </tr>\n",
       "  </tbody>\n",
       "</table>\n",
       "</div>"
      ],
      "text/plain": [
       "   month  repayment  interest_paid  principal_paid mortgage_name  \\\n",
       "0      1    1686.42        1000.00          686.42       30 Year   \n",
       "1      2    1686.42         998.28          688.14       30 Year   \n",
       "2      3    1686.42         996.56          689.86       30 Year   \n",
       "3      4    1686.42         994.83          691.59       30 Year   \n",
       "4      5    1686.42         993.10          693.32       30 Year   \n",
       "\n",
       "   interest_rate  \n",
       "0           0.03  \n",
       "1           0.03  \n",
       "2           0.03  \n",
       "3           0.03  \n",
       "4           0.03  "
      ]
     },
     "execution_count": 34,
     "metadata": {},
     "output_type": "execute_result"
    }
   ],
   "source": [
    "# Enfoque 2 usa el comando del\n",
    "# Esta opción no es muy recomendada\n",
    "del df['starting_balance']\n",
    "df.head()"
   ]
  },
  {
   "cell_type": "markdown",
   "id": "0f5f1372",
   "metadata": {
    "slideshow": {
     "slide_type": "slide"
    }
   },
   "source": [
    "# Pandas: Identificar datos faltantes"
   ]
  },
  {
   "cell_type": "code",
   "execution_count": 35,
   "id": "06147596",
   "metadata": {
    "slideshow": {
     "slide_type": "fragment"
    }
   },
   "outputs": [
    {
     "data": {
      "text/html": [
       "<div>\n",
       "<style scoped>\n",
       "    .dataframe tbody tr th:only-of-type {\n",
       "        vertical-align: middle;\n",
       "    }\n",
       "\n",
       "    .dataframe tbody tr th {\n",
       "        vertical-align: top;\n",
       "    }\n",
       "\n",
       "    .dataframe thead th {\n",
       "        text-align: right;\n",
       "    }\n",
       "</style>\n",
       "<table border=\"1\" class=\"dataframe\">\n",
       "  <thead>\n",
       "    <tr style=\"text-align: right;\">\n",
       "      <th></th>\n",
       "      <th>x</th>\n",
       "      <th>y</th>\n",
       "    </tr>\n",
       "  </thead>\n",
       "  <tbody>\n",
       "    <tr>\n",
       "      <th>0</th>\n",
       "      <td>0.000000</td>\n",
       "      <td>-51.000000</td>\n",
       "    </tr>\n",
       "    <tr>\n",
       "      <th>1</th>\n",
       "      <td>25.000000</td>\n",
       "      <td>-12.000000</td>\n",
       "    </tr>\n",
       "    <tr>\n",
       "      <th>2</th>\n",
       "      <td>117.583220</td>\n",
       "      <td>134.907414</td>\n",
       "    </tr>\n",
       "    <tr>\n",
       "      <th>3</th>\n",
       "      <td>108.922466</td>\n",
       "      <td>134.085180</td>\n",
       "    </tr>\n",
       "    <tr>\n",
       "      <th>4</th>\n",
       "      <td>69.887445</td>\n",
       "      <td>NaN</td>\n",
       "    </tr>\n",
       "  </tbody>\n",
       "</table>\n",
       "</div>"
      ],
      "text/plain": [
       "            x           y\n",
       "0    0.000000  -51.000000\n",
       "1   25.000000  -12.000000\n",
       "2  117.583220  134.907414\n",
       "3  108.922466  134.085180\n",
       "4   69.887445         NaN"
      ]
     },
     "execution_count": 35,
     "metadata": {},
     "output_type": "execute_result"
    }
   ],
   "source": [
    "filename = 'data/linear.csv'\n",
    "df = pd.read_csv(filename)\n",
    "df.head()"
   ]
  },
  {
   "cell_type": "code",
   "execution_count": 36,
   "id": "d6fcc788",
   "metadata": {
    "slideshow": {
     "slide_type": "fragment"
    }
   },
   "outputs": [
    {
     "name": "stdout",
     "output_type": "stream",
     "text": [
      "<class 'pandas.core.frame.DataFrame'>\n",
      "RangeIndex: 102 entries, 0 to 101\n",
      "Data columns (total 2 columns):\n",
      " #   Column  Non-Null Count  Dtype  \n",
      "---  ------  --------------  -----  \n",
      " 0   x       102 non-null    float64\n",
      " 1   y       94 non-null     float64\n",
      "dtypes: float64(2)\n",
      "memory usage: 1.7 KB\n"
     ]
    }
   ],
   "source": [
    "# Hay datos faltantes en la segunda columna (columna 'y')\n",
    "df.info()"
   ]
  },
  {
   "cell_type": "code",
   "execution_count": 37,
   "id": "08587bbf",
   "metadata": {
    "slideshow": {
     "slide_type": "fragment"
    }
   },
   "outputs": [
    {
     "data": {
      "text/plain": [
       "0    False\n",
       "1    False\n",
       "2    False\n",
       "3    False\n",
       "4     True\n",
       "Name: y, dtype: bool"
      ]
     },
     "execution_count": 37,
     "metadata": {},
     "output_type": "execute_result"
    }
   ],
   "source": [
    "# Observa que tenemos una serie pandas de valores verdaderos y falsos.\n",
    "# .isna es una función que reemplaza cada valor existente con False\n",
    "# y cada valor no existente con True\n",
    "df['y'].isna().head()"
   ]
  },
  {
   "cell_type": "code",
   "execution_count": 38,
   "id": "d0bd44ab",
   "metadata": {
    "slideshow": {
     "slide_type": "fragment"
    }
   },
   "outputs": [
    {
     "data": {
      "text/html": [
       "<div>\n",
       "<style scoped>\n",
       "    .dataframe tbody tr th:only-of-type {\n",
       "        vertical-align: middle;\n",
       "    }\n",
       "\n",
       "    .dataframe tbody tr th {\n",
       "        vertical-align: top;\n",
       "    }\n",
       "\n",
       "    .dataframe thead th {\n",
       "        text-align: right;\n",
       "    }\n",
       "</style>\n",
       "<table border=\"1\" class=\"dataframe\">\n",
       "  <thead>\n",
       "    <tr style=\"text-align: right;\">\n",
       "      <th></th>\n",
       "      <th>x</th>\n",
       "      <th>y</th>\n",
       "    </tr>\n",
       "  </thead>\n",
       "  <tbody>\n",
       "    <tr>\n",
       "      <th>4</th>\n",
       "      <td>69.887445</td>\n",
       "      <td>NaN</td>\n",
       "    </tr>\n",
       "    <tr>\n",
       "      <th>53</th>\n",
       "      <td>93.143070</td>\n",
       "      <td>NaN</td>\n",
       "    </tr>\n",
       "    <tr>\n",
       "      <th>60</th>\n",
       "      <td>95.542388</td>\n",
       "      <td>NaN</td>\n",
       "    </tr>\n",
       "    <tr>\n",
       "      <th>62</th>\n",
       "      <td>120.699573</td>\n",
       "      <td>NaN</td>\n",
       "    </tr>\n",
       "    <tr>\n",
       "      <th>64</th>\n",
       "      <td>82.657622</td>\n",
       "      <td>NaN</td>\n",
       "    </tr>\n",
       "    <tr>\n",
       "      <th>65</th>\n",
       "      <td>105.534175</td>\n",
       "      <td>NaN</td>\n",
       "    </tr>\n",
       "    <tr>\n",
       "      <th>92</th>\n",
       "      <td>37.546425</td>\n",
       "      <td>NaN</td>\n",
       "    </tr>\n",
       "    <tr>\n",
       "      <th>94</th>\n",
       "      <td>35.914205</td>\n",
       "      <td>NaN</td>\n",
       "    </tr>\n",
       "  </tbody>\n",
       "</table>\n",
       "</div>"
      ],
      "text/plain": [
       "             x   y\n",
       "4    69.887445 NaN\n",
       "53   93.143070 NaN\n",
       "60   95.542388 NaN\n",
       "62  120.699573 NaN\n",
       "64   82.657622 NaN\n",
       "65  105.534175 NaN\n",
       "92   37.546425 NaN\n",
       "94   35.914205 NaN"
      ]
     },
     "execution_count": 38,
     "metadata": {},
     "output_type": "execute_result"
    }
   ],
   "source": [
    "y_missing = df['y'].isna() # Acá crearemos un filtro para valores NaN\n",
    "# Mira las filas que contienen NaN para y\n",
    "df.loc[y_missing,:]"
   ]
  },
  {
   "cell_type": "code",
   "execution_count": 39,
   "id": "bbd10d5f",
   "metadata": {},
   "outputs": [
    {
     "data": {
      "text/plain": [
       "0     True\n",
       "1     True\n",
       "2     True\n",
       "3     True\n",
       "4    False\n",
       "Name: y, dtype: bool"
      ]
     },
     "execution_count": 39,
     "metadata": {},
     "output_type": "execute_result"
    }
   ],
   "source": [
    "# Para obtener todos los valores NO NULOS en y, podemos utilizar la negación del filtro\n",
    "~y_missing.head()"
   ]
  },
  {
   "cell_type": "code",
   "execution_count": 40,
   "id": "38109269",
   "metadata": {
    "slideshow": {
     "slide_type": "fragment"
    }
   },
   "outputs": [
    {
     "data": {
      "text/html": [
       "<div>\n",
       "<style scoped>\n",
       "    .dataframe tbody tr th:only-of-type {\n",
       "        vertical-align: middle;\n",
       "    }\n",
       "\n",
       "    .dataframe tbody tr th {\n",
       "        vertical-align: top;\n",
       "    }\n",
       "\n",
       "    .dataframe thead th {\n",
       "        text-align: right;\n",
       "    }\n",
       "</style>\n",
       "<table border=\"1\" class=\"dataframe\">\n",
       "  <thead>\n",
       "    <tr style=\"text-align: right;\">\n",
       "      <th></th>\n",
       "      <th>x</th>\n",
       "      <th>y</th>\n",
       "    </tr>\n",
       "  </thead>\n",
       "  <tbody>\n",
       "    <tr>\n",
       "      <th>0</th>\n",
       "      <td>0.000000</td>\n",
       "      <td>-51.000000</td>\n",
       "    </tr>\n",
       "    <tr>\n",
       "      <th>1</th>\n",
       "      <td>25.000000</td>\n",
       "      <td>-12.000000</td>\n",
       "    </tr>\n",
       "    <tr>\n",
       "      <th>2</th>\n",
       "      <td>117.583220</td>\n",
       "      <td>134.907414</td>\n",
       "    </tr>\n",
       "    <tr>\n",
       "      <th>3</th>\n",
       "      <td>108.922466</td>\n",
       "      <td>134.085180</td>\n",
       "    </tr>\n",
       "    <tr>\n",
       "      <th>5</th>\n",
       "      <td>96.839983</td>\n",
       "      <td>114.530638</td>\n",
       "    </tr>\n",
       "  </tbody>\n",
       "</table>\n",
       "</div>"
      ],
      "text/plain": [
       "            x           y\n",
       "0    0.000000  -51.000000\n",
       "1   25.000000  -12.000000\n",
       "2  117.583220  134.907414\n",
       "3  108.922466  134.085180\n",
       "5   96.839983  114.530638"
      ]
     },
     "execution_count": 40,
     "metadata": {},
     "output_type": "execute_result"
    }
   ],
   "source": [
    "# Ten en cuenta que podemos usar el operador not (~) para negar el filtro\n",
    "# cada fila que no tiene nan se devuelve\n",
    "df.loc[~y_missing,:].head()"
   ]
  },
  {
   "cell_type": "code",
   "execution_count": 41,
   "id": "9d91b628",
   "metadata": {
    "slideshow": {
     "slide_type": "fragment"
    }
   },
   "outputs": [
    {
     "data": {
      "text/plain": [
       "8"
      ]
     },
     "execution_count": 41,
     "metadata": {},
     "output_type": "execute_result"
    }
   ],
   "source": [
    "# El código cuenta el número de valores perdidos\n",
    "# sum() funciona porque los booleanos son un subtipo de enteros\n",
    "df['y'].isna().sum()"
   ]
  },
  {
   "cell_type": "code",
   "execution_count": 42,
   "id": "a8158857",
   "metadata": {
    "slideshow": {
     "slide_type": "fragment"
    }
   },
   "outputs": [
    {
     "data": {
      "text/plain": [
       "2"
      ]
     },
     "execution_count": 42,
     "metadata": {},
     "output_type": "execute_result"
    }
   ],
   "source": [
    "# el código anterior funciona de manera muy similar al código siguiente\n",
    "True + False + False + True"
   ]
  },
  {
   "cell_type": "code",
   "execution_count": 43,
   "id": "9007d047",
   "metadata": {
    "slideshow": {
     "slide_type": "fragment"
    }
   },
   "outputs": [
    {
     "data": {
      "text/html": [
       "<div>\n",
       "<style scoped>\n",
       "    .dataframe tbody tr th:only-of-type {\n",
       "        vertical-align: middle;\n",
       "    }\n",
       "\n",
       "    .dataframe tbody tr th {\n",
       "        vertical-align: top;\n",
       "    }\n",
       "\n",
       "    .dataframe thead th {\n",
       "        text-align: right;\n",
       "    }\n",
       "</style>\n",
       "<table border=\"1\" class=\"dataframe\">\n",
       "  <thead>\n",
       "    <tr style=\"text-align: right;\">\n",
       "      <th></th>\n",
       "      <th>x</th>\n",
       "      <th>y</th>\n",
       "    </tr>\n",
       "  </thead>\n",
       "  <tbody>\n",
       "    <tr>\n",
       "      <th>0</th>\n",
       "      <td>0.000000</td>\n",
       "      <td>-51.000000</td>\n",
       "    </tr>\n",
       "    <tr>\n",
       "      <th>1</th>\n",
       "      <td>25.000000</td>\n",
       "      <td>-12.000000</td>\n",
       "    </tr>\n",
       "    <tr>\n",
       "      <th>2</th>\n",
       "      <td>117.583220</td>\n",
       "      <td>134.907414</td>\n",
       "    </tr>\n",
       "    <tr>\n",
       "      <th>3</th>\n",
       "      <td>108.922466</td>\n",
       "      <td>134.085180</td>\n",
       "    </tr>\n",
       "    <tr>\n",
       "      <th>5</th>\n",
       "      <td>96.839983</td>\n",
       "      <td>114.530638</td>\n",
       "    </tr>\n",
       "    <tr>\n",
       "      <th>6</th>\n",
       "      <td>51.775940</td>\n",
       "      <td>31.376437</td>\n",
       "    </tr>\n",
       "    <tr>\n",
       "      <th>7</th>\n",
       "      <td>35.016737</td>\n",
       "      <td>8.764634</td>\n",
       "    </tr>\n",
       "    <tr>\n",
       "      <th>8</th>\n",
       "      <td>79.457646</td>\n",
       "      <td>73.285341</td>\n",
       "    </tr>\n",
       "    <tr>\n",
       "      <th>9</th>\n",
       "      <td>45.344909</td>\n",
       "      <td>18.859865</td>\n",
       "    </tr>\n",
       "    <tr>\n",
       "      <th>10</th>\n",
       "      <td>77.767132</td>\n",
       "      <td>72.946609</td>\n",
       "    </tr>\n",
       "  </tbody>\n",
       "</table>\n",
       "</div>"
      ],
      "text/plain": [
       "             x           y\n",
       "0     0.000000  -51.000000\n",
       "1    25.000000  -12.000000\n",
       "2   117.583220  134.907414\n",
       "3   108.922466  134.085180\n",
       "5    96.839983  114.530638\n",
       "6    51.775940   31.376437\n",
       "7    35.016737    8.764634\n",
       "8    79.457646   73.285341\n",
       "9    45.344909   18.859865\n",
       "10   77.767132   72.946609"
      ]
     },
     "execution_count": 43,
     "metadata": {},
     "output_type": "execute_result"
    }
   ],
   "source": [
    "# Puedes eliminar filas enteras si contienen nans 'any' o 'all'\n",
    "# ten en cuenta que no hay una fila con el índice 4\n",
    "df.loc[0:10,:].dropna(how = 'any')\n",
    "#‘any’ : If any NA values are present, drop that row or column.\n",
    "#‘all’ : If all values are NA, drop that row or column."
   ]
  },
  {
   "cell_type": "code",
   "execution_count": 52,
   "id": "6e053c4e",
   "metadata": {
    "slideshow": {
     "slide_type": "fragment"
    }
   },
   "outputs": [
    {
     "data": {
      "text/plain": [
       "0     -51.000000\n",
       "1     -12.000000\n",
       "2     134.907414\n",
       "3     134.085180\n",
       "4            NaN\n",
       "5     114.530638\n",
       "6      31.376437\n",
       "7       8.764634\n",
       "8      73.285341\n",
       "9      18.859865\n",
       "10     72.946609\n",
       "Name: y, dtype: float64"
      ]
     },
     "execution_count": 52,
     "metadata": {},
     "output_type": "execute_result"
    }
   ],
   "source": [
    "import pandas as pd\n",
    "filename = 'data/linear.csv'\n",
    "df = pd.read_csv(filename)\n",
    "df.head()\n",
    "# Mirando dónde se encuentran los datos faltantes\n",
    "df.loc[0:10, 'y']"
   ]
  },
  {
   "cell_type": "code",
   "execution_count": 53,
   "id": "21cfefc7",
   "metadata": {
    "slideshow": {
     "slide_type": "fragment"
    }
   },
   "outputs": [
    {
     "data": {
      "text/plain": [
       "0     -51.000000\n",
       "1     -12.000000\n",
       "2     134.907414\n",
       "3     134.085180\n",
       "4     124.307909\n",
       "5     114.530638\n",
       "6      31.376437\n",
       "7       8.764634\n",
       "8      73.285341\n",
       "9      18.859865\n",
       "10     72.946609\n",
       "Name: y, dtype: float64"
      ]
     },
     "execution_count": 53,
     "metadata": {},
     "output_type": "execute_result"
    }
   ],
   "source": [
    "# Opción1: Completar el nan con un cero puede ser una mala idea\n",
    "# df.loc[0:10, 'y'].fillna(0)\n",
    "# Opción 2: valor back fill (relleno hacia atrás)\n",
    "# df.loc[0:10, 'y'].fillna(method='bfill')\n",
    "# Opción 3: valor forward fill (relleno hacia adelante)\n",
    "# df.loc[0:10, 'y'].fillna(method='ffill')\n",
    "# Opción 4: interpolación lineal (relleno de valores)\n",
    "df.loc[0:10, 'y'].interpolate(method = 'linear')"
   ]
  },
  {
   "cell_type": "markdown",
   "id": "95de0158",
   "metadata": {
    "slideshow": {
     "slide_type": "slide"
    }
   },
   "source": [
    "# Pandas: Conversión a otros tipos de datos"
   ]
  },
  {
   "cell_type": "code",
   "execution_count": 54,
   "id": "45cf341e",
   "metadata": {
    "slideshow": {
     "slide_type": "fragment"
    }
   },
   "outputs": [
    {
     "data": {
      "text/plain": [
       "array([[  0.        , -51.        ],\n",
       "       [ 25.        , -12.        ],\n",
       "       [117.5832198 , 134.9074137 ],\n",
       "       [108.9224662 , 134.0851795 ],\n",
       "       [ 69.88744536,          nan],\n",
       "       [ 96.83998269, 114.5306376 ],\n",
       "       [ 51.77594025,  31.37643731],\n",
       "       [ 35.01673734,   8.76463417],\n",
       "       [ 79.45764646,  73.28534128],\n",
       "       [ 45.3449093 ,  18.85986466],\n",
       "       [ 77.76713229,  72.9466086 ],\n",
       "       [ 55.85663802,  28.63728633],\n",
       "       [ 51.8290553 ,  27.18413784],\n",
       "       [ 36.07902502,  15.46895475],\n",
       "       [ 80.63255196,  77.25552457],\n",
       "       [124.4126644 , 147.817536  ],\n",
       "       [ 38.88238694,  29.62914801],\n",
       "       [ 85.24501874,  92.31571653],\n",
       "       [105.4849878 , 111.063745  ],\n",
       "       [ 36.82741469,   2.79748519],\n",
       "       [ 98.61682009,  98.22796195],\n",
       "       [102.1309415 , 117.0827211 ],\n",
       "       [101.9740862 , 111.1555591 ],\n",
       "       [122.5816416 , 147.0235042 ],\n",
       "       [ 96.36839009,  99.62870641],\n",
       "       [ 64.89044698,  47.94620302],\n",
       "       [ 81.87156504,  80.51588907],\n",
       "       [ 83.46634106,  76.65159462],\n",
       "       [129.9988213 , 155.5832066 ],\n",
       "       [129.5934245 , 155.830527  ],\n",
       "       [ 71.30088195,  52.64410294],\n",
       "       [ 89.63463319, 100.3291952 ],\n",
       "       [ 82.74502445,  67.03050817],\n",
       "       [ 84.29777124,  80.8896434 ],\n",
       "       [ 93.6549342 ,  96.20409384],\n",
       "       [ 37.33160529,  -6.2362947 ],\n",
       "       [ 52.16604202,  23.5571594 ],\n",
       "       [104.833943  , 107.7810191 ],\n",
       "       [106.4639932 , 112.883657  ],\n",
       "       [ 79.51558318,  72.00317212],\n",
       "       [ 41.4999434 ,  20.25934009],\n",
       "       [113.6214443 , 131.04384   ],\n",
       "       [ 90.20451127,  94.77986788],\n",
       "       [ 52.56692661,  28.21059566],\n",
       "       [ 40.50463433,  14.17040121],\n",
       "       [ 43.45292157,  23.19979105],\n",
       "       [122.1252001 , 147.1272496 ],\n",
       "       [ 55.16828222,  46.89089049],\n",
       "       [ 96.44691123, 105.7562824 ],\n",
       "       [119.2731974 , 126.4660848 ],\n",
       "       [ 52.19022426,  42.06951797],\n",
       "       [114.8983489 , 138.6278072 ],\n",
       "       [126.0412086 , 139.406306  ],\n",
       "       [ 93.14307012,          nan],\n",
       "       [131.1618641 , 163.3539583 ],\n",
       "       [ 55.35872543,  38.22375858],\n",
       "       [ 94.59612783, 105.0461097 ],\n",
       "       [ 75.91878744,  68.54098922],\n",
       "       [ 96.9481879 , 100.2372769 ],\n",
       "       [ 40.11139299,  15.2017754 ],\n",
       "       [ 95.54238786,          nan],\n",
       "       [ 66.46740141,  60.2143421 ],\n",
       "       [120.6995729 ,          nan],\n",
       "       [104.2402942 , 113.9349495 ],\n",
       "       [ 82.65762179,          nan],\n",
       "       [105.5341749 ,          nan],\n",
       "       [ 87.34855969,  85.16272742],\n",
       "       [ 69.40200784,  53.37775696],\n",
       "       [127.3248623 , 160.4954569 ],\n",
       "       [ 64.43689333,  43.39435848],\n",
       "       [ 66.26465895,  58.1736831 ],\n",
       "       [ 90.30720045,  81.64306345],\n",
       "       [ 89.4048535 ,  87.64350868],\n",
       "       [114.4503884 , 135.3976986 ],\n",
       "       [134.4322939 , 159.0736094 ],\n",
       "       [131.7902232 , 161.3630997 ],\n",
       "       [ 99.56304732,  91.64481237],\n",
       "       [132.7401928 , 166.1645443 ],\n",
       "       [ 70.99088679,  54.86400482],\n",
       "       [ 87.9094701 ,  78.97916469],\n",
       "       [123.5807212 , 141.1303998 ],\n",
       "       [107.6435614 , 119.0882793 ],\n",
       "       [116.3612443 , 136.2293706 ],\n",
       "       [ 62.73766606,  35.03959082],\n",
       "       [112.0489047 , 130.8072421 ],\n",
       "       [119.861603  , 136.2239313 ],\n",
       "       [ 59.14093284,  43.34977918],\n",
       "       [ 95.30589341, 106.1847674 ],\n",
       "       [103.0198215 , 121.2744298 ],\n",
       "       [109.2183446 , 115.1818431 ],\n",
       "       [117.360594  , 137.4299149 ],\n",
       "       [ 39.5196786 ,  16.02640021],\n",
       "       [ 37.54642469,          nan],\n",
       "       [129.9626909 , 141.0131341 ],\n",
       "       [ 35.91420463,          nan],\n",
       "       [ 43.85421968,  13.45049208],\n",
       "       [ 72.88414185,  61.50699688],\n",
       "       [120.7408594 , 133.9222973 ],\n",
       "       [100.1797881 , 126.8271164 ],\n",
       "       [ 59.33376537,  50.25779685],\n",
       "       [120.1577567 , 144.7546765 ],\n",
       "       [115.5391524 , 120.6973091 ]])"
      ]
     },
     "execution_count": 54,
     "metadata": {},
     "output_type": "execute_result"
    }
   ],
   "source": [
    "# Transformando un dataframe a arreglo numpy\n",
    "df.to_numpy()\n",
    "# Approach 2\n",
    "#df.values"
   ]
  },
  {
   "cell_type": "code",
   "execution_count": 55,
   "id": "95e11d06",
   "metadata": {
    "slideshow": {
     "slide_type": "fragment"
    }
   },
   "outputs": [
    {
     "data": {
      "text/plain": [
       "{'x': {0: 0.0,\n",
       "  1: 25.0,\n",
       "  2: 117.5832198,\n",
       "  3: 108.9224662,\n",
       "  4: 69.88744536,\n",
       "  5: 96.83998269,\n",
       "  6: 51.77594025,\n",
       "  7: 35.01673734,\n",
       "  8: 79.45764646,\n",
       "  9: 45.3449093,\n",
       "  10: 77.76713229,\n",
       "  11: 55.85663802,\n",
       "  12: 51.8290553,\n",
       "  13: 36.07902502,\n",
       "  14: 80.63255196,\n",
       "  15: 124.4126644,\n",
       "  16: 38.88238694,\n",
       "  17: 85.24501874,\n",
       "  18: 105.4849878,\n",
       "  19: 36.82741469,\n",
       "  20: 98.61682009,\n",
       "  21: 102.1309415,\n",
       "  22: 101.9740862,\n",
       "  23: 122.5816416,\n",
       "  24: 96.36839009,\n",
       "  25: 64.89044698,\n",
       "  26: 81.87156504,\n",
       "  27: 83.46634106,\n",
       "  28: 129.9988213,\n",
       "  29: 129.5934245,\n",
       "  30: 71.30088195,\n",
       "  31: 89.63463319,\n",
       "  32: 82.74502445,\n",
       "  33: 84.29777124,\n",
       "  34: 93.6549342,\n",
       "  35: 37.33160529,\n",
       "  36: 52.16604202,\n",
       "  37: 104.833943,\n",
       "  38: 106.4639932,\n",
       "  39: 79.51558318,\n",
       "  40: 41.4999434,\n",
       "  41: 113.6214443,\n",
       "  42: 90.20451127,\n",
       "  43: 52.56692661,\n",
       "  44: 40.50463433,\n",
       "  45: 43.45292157,\n",
       "  46: 122.1252001,\n",
       "  47: 55.16828222,\n",
       "  48: 96.44691123,\n",
       "  49: 119.2731974,\n",
       "  50: 52.19022426,\n",
       "  51: 114.8983489,\n",
       "  52: 126.0412086,\n",
       "  53: 93.14307012,\n",
       "  54: 131.1618641,\n",
       "  55: 55.35872543,\n",
       "  56: 94.59612783,\n",
       "  57: 75.91878744,\n",
       "  58: 96.9481879,\n",
       "  59: 40.11139299,\n",
       "  60: 95.54238786,\n",
       "  61: 66.46740141,\n",
       "  62: 120.6995729,\n",
       "  63: 104.2402942,\n",
       "  64: 82.65762179,\n",
       "  65: 105.5341749,\n",
       "  66: 87.34855969,\n",
       "  67: 69.40200784,\n",
       "  68: 127.3248623,\n",
       "  69: 64.43689333,\n",
       "  70: 66.26465895,\n",
       "  71: 90.30720045,\n",
       "  72: 89.4048535,\n",
       "  73: 114.4503884,\n",
       "  74: 134.4322939,\n",
       "  75: 131.7902232,\n",
       "  76: 99.56304732,\n",
       "  77: 132.7401928,\n",
       "  78: 70.99088679,\n",
       "  79: 87.9094701,\n",
       "  80: 123.5807212,\n",
       "  81: 107.6435614,\n",
       "  82: 116.3612443,\n",
       "  83: 62.73766606,\n",
       "  84: 112.0489047,\n",
       "  85: 119.861603,\n",
       "  86: 59.14093284,\n",
       "  87: 95.30589341,\n",
       "  88: 103.0198215,\n",
       "  89: 109.2183446,\n",
       "  90: 117.360594,\n",
       "  91: 39.5196786,\n",
       "  92: 37.54642469,\n",
       "  93: 129.9626909,\n",
       "  94: 35.91420463,\n",
       "  95: 43.85421968,\n",
       "  96: 72.88414185,\n",
       "  97: 120.7408594,\n",
       "  98: 100.1797881,\n",
       "  99: 59.33376537,\n",
       "  100: 120.1577567,\n",
       "  101: 115.5391524},\n",
       " 'y': {0: -51.0,\n",
       "  1: -12.0,\n",
       "  2: 134.9074137,\n",
       "  3: 134.0851795,\n",
       "  4: nan,\n",
       "  5: 114.5306376,\n",
       "  6: 31.37643731,\n",
       "  7: 8.764634165,\n",
       "  8: 73.28534128,\n",
       "  9: 18.85986466,\n",
       "  10: 72.9466086,\n",
       "  11: 28.63728633,\n",
       "  12: 27.18413784,\n",
       "  13: 15.46895475,\n",
       "  14: 77.25552457,\n",
       "  15: 147.817536,\n",
       "  16: 29.62914801,\n",
       "  17: 92.31571653,\n",
       "  18: 111.063745,\n",
       "  19: 2.797485194,\n",
       "  20: 98.22796195,\n",
       "  21: 117.0827211,\n",
       "  22: 111.1555591,\n",
       "  23: 147.0235042,\n",
       "  24: 99.62870641,\n",
       "  25: 47.94620302,\n",
       "  26: 80.51588907,\n",
       "  27: 76.65159462,\n",
       "  28: 155.5832066,\n",
       "  29: 155.830527,\n",
       "  30: 52.64410294,\n",
       "  31: 100.3291952,\n",
       "  32: 67.03050817,\n",
       "  33: 80.8896434,\n",
       "  34: 96.20409384,\n",
       "  35: -6.236294705,\n",
       "  36: 23.5571594,\n",
       "  37: 107.7810191,\n",
       "  38: 112.883657,\n",
       "  39: 72.00317212,\n",
       "  40: 20.25934009,\n",
       "  41: 131.04384,\n",
       "  42: 94.77986788,\n",
       "  43: 28.21059566,\n",
       "  44: 14.17040121,\n",
       "  45: 23.19979105,\n",
       "  46: 147.1272496,\n",
       "  47: 46.89089049,\n",
       "  48: 105.7562824,\n",
       "  49: 126.4660848,\n",
       "  50: 42.06951797,\n",
       "  51: 138.6278072,\n",
       "  52: 139.406306,\n",
       "  53: nan,\n",
       "  54: 163.3539583,\n",
       "  55: 38.22375858,\n",
       "  56: 105.0461097,\n",
       "  57: 68.54098922,\n",
       "  58: 100.2372769,\n",
       "  59: 15.2017754,\n",
       "  60: nan,\n",
       "  61: 60.2143421,\n",
       "  62: nan,\n",
       "  63: 113.9349495,\n",
       "  64: nan,\n",
       "  65: nan,\n",
       "  66: 85.16272742,\n",
       "  67: 53.37775696,\n",
       "  68: 160.4954569,\n",
       "  69: 43.39435848,\n",
       "  70: 58.1736831,\n",
       "  71: 81.64306345,\n",
       "  72: 87.64350868,\n",
       "  73: 135.3976986,\n",
       "  74: 159.0736094,\n",
       "  75: 161.3630997,\n",
       "  76: 91.64481237,\n",
       "  77: 166.1645443,\n",
       "  78: 54.86400482,\n",
       "  79: 78.97916469,\n",
       "  80: 141.1303998,\n",
       "  81: 119.0882793,\n",
       "  82: 136.2293706,\n",
       "  83: 35.03959082,\n",
       "  84: 130.8072421,\n",
       "  85: 136.2239313,\n",
       "  86: 43.34977918,\n",
       "  87: 106.1847674,\n",
       "  88: 121.2744298,\n",
       "  89: 115.1818431,\n",
       "  90: 137.4299149,\n",
       "  91: 16.02640021,\n",
       "  92: nan,\n",
       "  93: 141.0131341,\n",
       "  94: nan,\n",
       "  95: 13.45049208,\n",
       "  96: 61.50699688,\n",
       "  97: 133.9222973,\n",
       "  98: 126.8271164,\n",
       "  99: 50.25779685,\n",
       "  100: 144.7546765,\n",
       "  101: 120.6973091}}"
      ]
     },
     "execution_count": 55,
     "metadata": {},
     "output_type": "execute_result"
    }
   ],
   "source": [
    "# Puedes suprimir la salida en un Colab o Jupyter Notebook usando un ;\n",
    "df.to_dict()"
   ]
  },
  {
   "cell_type": "markdown",
   "id": "68895582",
   "metadata": {
    "slideshow": {
     "slide_type": "slide"
    }
   },
   "source": [
    "# Pandas: Exportar datos"
   ]
  },
  {
   "cell_type": "code",
   "execution_count": 64,
   "id": "f05b4b0d",
   "metadata": {
    "slideshow": {
     "slide_type": "fragment"
    }
   },
   "outputs": [
    {
     "data": {
      "text/html": [
       "<div>\n",
       "<style scoped>\n",
       "    .dataframe tbody tr th:only-of-type {\n",
       "        vertical-align: middle;\n",
       "    }\n",
       "\n",
       "    .dataframe tbody tr th {\n",
       "        vertical-align: top;\n",
       "    }\n",
       "\n",
       "    .dataframe thead th {\n",
       "        text-align: right;\n",
       "    }\n",
       "</style>\n",
       "<table border=\"1\" class=\"dataframe\">\n",
       "  <thead>\n",
       "    <tr style=\"text-align: right;\">\n",
       "      <th></th>\n",
       "      <th>Month</th>\n",
       "      <th>Starting Balance</th>\n",
       "      <th>Repayment</th>\n",
       "      <th>Interest Paid</th>\n",
       "      <th>Principal Paid</th>\n",
       "      <th>New Balance</th>\n",
       "      <th>Mortgage Name</th>\n",
       "      <th>Interest Rate</th>\n",
       "    </tr>\n",
       "  </thead>\n",
       "  <tbody>\n",
       "    <tr>\n",
       "      <th>0</th>\n",
       "      <td>1</td>\n",
       "      <td>400000.00</td>\n",
       "      <td>1686.42</td>\n",
       "      <td>1000.00</td>\n",
       "      <td>686.42</td>\n",
       "      <td>399313.58</td>\n",
       "      <td>30 Year</td>\n",
       "      <td>0.03</td>\n",
       "    </tr>\n",
       "    <tr>\n",
       "      <th>1</th>\n",
       "      <td>2</td>\n",
       "      <td>399313.58</td>\n",
       "      <td>1686.42</td>\n",
       "      <td>998.28</td>\n",
       "      <td>688.14</td>\n",
       "      <td>398625.44</td>\n",
       "      <td>30 Year</td>\n",
       "      <td>0.03</td>\n",
       "    </tr>\n",
       "    <tr>\n",
       "      <th>2</th>\n",
       "      <td>3</td>\n",
       "      <td>398625.44</td>\n",
       "      <td>1686.42</td>\n",
       "      <td>996.56</td>\n",
       "      <td>689.86</td>\n",
       "      <td>397935.58</td>\n",
       "      <td>30 Year</td>\n",
       "      <td>0.03</td>\n",
       "    </tr>\n",
       "    <tr>\n",
       "      <th>3</th>\n",
       "      <td>4</td>\n",
       "      <td>397935.58</td>\n",
       "      <td>1686.42</td>\n",
       "      <td>994.83</td>\n",
       "      <td>691.59</td>\n",
       "      <td>397243.99</td>\n",
       "      <td>30 Year</td>\n",
       "      <td>0.03</td>\n",
       "    </tr>\n",
       "    <tr>\n",
       "      <th>4</th>\n",
       "      <td>5</td>\n",
       "      <td>397243.99</td>\n",
       "      <td>1686.42</td>\n",
       "      <td>993.10</td>\n",
       "      <td>693.32</td>\n",
       "      <td>396550.67</td>\n",
       "      <td>30 Year</td>\n",
       "      <td>0.03</td>\n",
       "    </tr>\n",
       "  </tbody>\n",
       "</table>\n",
       "</div>"
      ],
      "text/plain": [
       "   Month  Starting Balance  Repayment  Interest Paid  Principal Paid  \\\n",
       "0      1         400000.00    1686.42        1000.00          686.42   \n",
       "1      2         399313.58    1686.42         998.28          688.14   \n",
       "2      3         398625.44    1686.42         996.56          689.86   \n",
       "3      4         397935.58    1686.42         994.83          691.59   \n",
       "4      5         397243.99    1686.42         993.10          693.32   \n",
       "\n",
       "   New Balance Mortgage Name  Interest Rate  \n",
       "0    399313.58       30 Year           0.03  \n",
       "1    398625.44       30 Year           0.03  \n",
       "2    397935.58       30 Year           0.03  \n",
       "3    397243.99       30 Year           0.03  \n",
       "4    396550.67       30 Year           0.03  "
      ]
     },
     "execution_count": 64,
     "metadata": {},
     "output_type": "execute_result"
    }
   ],
   "source": [
    "filename = \"data/mortgages.csv\"\n",
    "df = pd.read_csv(filename)\n",
    "df.head()"
   ]
  },
  {
   "cell_type": "code",
   "execution_count": 57,
   "id": "1d540b01",
   "metadata": {
    "slideshow": {
     "slide_type": "fragment"
    }
   },
   "outputs": [
    {
     "data": {
      "text/html": [
       "<div>\n",
       "<style scoped>\n",
       "    .dataframe tbody tr th:only-of-type {\n",
       "        vertical-align: middle;\n",
       "    }\n",
       "\n",
       "    .dataframe tbody tr th {\n",
       "        vertical-align: top;\n",
       "    }\n",
       "\n",
       "    .dataframe thead th {\n",
       "        text-align: right;\n",
       "    }\n",
       "</style>\n",
       "<table border=\"1\" class=\"dataframe\">\n",
       "  <thead>\n",
       "    <tr style=\"text-align: right;\">\n",
       "      <th></th>\n",
       "      <th>Month</th>\n",
       "      <th>Starting Balance</th>\n",
       "      <th>Repayment</th>\n",
       "      <th>Interest Paid</th>\n",
       "      <th>Principal Paid</th>\n",
       "      <th>New Balance</th>\n",
       "      <th>Mortgage Name</th>\n",
       "      <th>Interest Rate</th>\n",
       "    </tr>\n",
       "  </thead>\n",
       "  <tbody>\n",
       "    <tr>\n",
       "      <th>0</th>\n",
       "      <td>1</td>\n",
       "      <td>400000.00</td>\n",
       "      <td>1686.42</td>\n",
       "      <td>1000.00</td>\n",
       "      <td>686.42</td>\n",
       "      <td>399313.58</td>\n",
       "      <td>30 Year</td>\n",
       "      <td>0.03</td>\n",
       "    </tr>\n",
       "    <tr>\n",
       "      <th>1</th>\n",
       "      <td>2</td>\n",
       "      <td>399313.58</td>\n",
       "      <td>1686.42</td>\n",
       "      <td>998.28</td>\n",
       "      <td>688.14</td>\n",
       "      <td>398625.44</td>\n",
       "      <td>30 Year</td>\n",
       "      <td>0.03</td>\n",
       "    </tr>\n",
       "    <tr>\n",
       "      <th>2</th>\n",
       "      <td>3</td>\n",
       "      <td>398625.44</td>\n",
       "      <td>1686.42</td>\n",
       "      <td>996.56</td>\n",
       "      <td>689.86</td>\n",
       "      <td>397935.58</td>\n",
       "      <td>30 Year</td>\n",
       "      <td>0.03</td>\n",
       "    </tr>\n",
       "    <tr>\n",
       "      <th>3</th>\n",
       "      <td>4</td>\n",
       "      <td>397935.58</td>\n",
       "      <td>1686.42</td>\n",
       "      <td>994.83</td>\n",
       "      <td>691.59</td>\n",
       "      <td>397243.99</td>\n",
       "      <td>30 Year</td>\n",
       "      <td>0.03</td>\n",
       "    </tr>\n",
       "    <tr>\n",
       "      <th>4</th>\n",
       "      <td>5</td>\n",
       "      <td>397243.99</td>\n",
       "      <td>1686.42</td>\n",
       "      <td>993.10</td>\n",
       "      <td>693.32</td>\n",
       "      <td>396550.67</td>\n",
       "      <td>30 Year</td>\n",
       "      <td>0.03</td>\n",
       "    </tr>\n",
       "    <tr>\n",
       "      <th>...</th>\n",
       "      <td>...</td>\n",
       "      <td>...</td>\n",
       "      <td>...</td>\n",
       "      <td>...</td>\n",
       "      <td>...</td>\n",
       "      <td>...</td>\n",
       "      <td>...</td>\n",
       "      <td>...</td>\n",
       "    </tr>\n",
       "    <tr>\n",
       "      <th>355</th>\n",
       "      <td>356</td>\n",
       "      <td>8364.12</td>\n",
       "      <td>1686.42</td>\n",
       "      <td>20.91</td>\n",
       "      <td>1665.51</td>\n",
       "      <td>6698.61</td>\n",
       "      <td>30 Year</td>\n",
       "      <td>0.03</td>\n",
       "    </tr>\n",
       "    <tr>\n",
       "      <th>356</th>\n",
       "      <td>357</td>\n",
       "      <td>6698.61</td>\n",
       "      <td>1686.42</td>\n",
       "      <td>16.74</td>\n",
       "      <td>1669.68</td>\n",
       "      <td>5028.93</td>\n",
       "      <td>30 Year</td>\n",
       "      <td>0.03</td>\n",
       "    </tr>\n",
       "    <tr>\n",
       "      <th>357</th>\n",
       "      <td>358</td>\n",
       "      <td>5028.93</td>\n",
       "      <td>1686.42</td>\n",
       "      <td>12.57</td>\n",
       "      <td>1673.85</td>\n",
       "      <td>3355.08</td>\n",
       "      <td>30 Year</td>\n",
       "      <td>0.03</td>\n",
       "    </tr>\n",
       "    <tr>\n",
       "      <th>358</th>\n",
       "      <td>359</td>\n",
       "      <td>3355.08</td>\n",
       "      <td>1686.42</td>\n",
       "      <td>8.38</td>\n",
       "      <td>1678.04</td>\n",
       "      <td>1677.04</td>\n",
       "      <td>30 Year</td>\n",
       "      <td>0.03</td>\n",
       "    </tr>\n",
       "    <tr>\n",
       "      <th>359</th>\n",
       "      <td>360</td>\n",
       "      <td>1677.04</td>\n",
       "      <td>1686.42</td>\n",
       "      <td>4.19</td>\n",
       "      <td>1682.23</td>\n",
       "      <td>-5.19</td>\n",
       "      <td>30 Year</td>\n",
       "      <td>0.03</td>\n",
       "    </tr>\n",
       "  </tbody>\n",
       "</table>\n",
       "<p>360 rows × 8 columns</p>\n",
       "</div>"
      ],
      "text/plain": [
       "     Month  Starting Balance  Repayment  Interest Paid  Principal Paid  \\\n",
       "0        1         400000.00    1686.42        1000.00          686.42   \n",
       "1        2         399313.58    1686.42         998.28          688.14   \n",
       "2        3         398625.44    1686.42         996.56          689.86   \n",
       "3        4         397935.58    1686.42         994.83          691.59   \n",
       "4        5         397243.99    1686.42         993.10          693.32   \n",
       "..     ...               ...        ...            ...             ...   \n",
       "355    356           8364.12    1686.42          20.91         1665.51   \n",
       "356    357           6698.61    1686.42          16.74         1669.68   \n",
       "357    358           5028.93    1686.42          12.57         1673.85   \n",
       "358    359           3355.08    1686.42           8.38         1678.04   \n",
       "359    360           1677.04    1686.42           4.19         1682.23   \n",
       "\n",
       "     New Balance Mortgage Name  Interest Rate  \n",
       "0      399313.58       30 Year           0.03  \n",
       "1      398625.44       30 Year           0.03  \n",
       "2      397935.58       30 Year           0.03  \n",
       "3      397243.99       30 Year           0.03  \n",
       "4      396550.67       30 Year           0.03  \n",
       "..           ...           ...            ...  \n",
       "355      6698.61       30 Year           0.03  \n",
       "356      5028.93       30 Year           0.03  \n",
       "357      3355.08       30 Year           0.03  \n",
       "358      1677.04       30 Year           0.03  \n",
       "359        -5.19       30 Year           0.03  \n",
       "\n",
       "[360 rows x 8 columns]"
      ]
     },
     "execution_count": 57,
     "metadata": {},
     "output_type": "execute_result"
    }
   ],
   "source": [
    "# Filtros/procesado de datos\n",
    "mortgage_filter = df['Mortgage Name']=='30 Year'\n",
    "interest_filter = df['Interest Rate']==0.03\n",
    "df = df.loc[mortgage_filter & interest_filter, :]\n",
    "df"
   ]
  },
  {
   "cell_type": "code",
   "execution_count": 58,
   "id": "0926d023",
   "metadata": {
    "slideshow": {
     "slide_type": "fragment"
    }
   },
   "outputs": [],
   "source": [
    "# Exportar DataFrame a un archivo csv\n",
    "df.to_csv(path_or_buf='data/processed/oneMortgage.csv',index = False)\n",
    "# Exportar DataFrame a un archivo de Excel\n",
    "df.to_excel(excel_writer='data/processed/oneMortgage.xlsx',index=False)\n",
    "# Archivos pueden ser descargados desde Google Drive/Colab"
   ]
  },
  {
   "cell_type": "markdown",
   "id": "57c4a043",
   "metadata": {
    "slideshow": {
     "slide_type": "slide"
    }
   },
   "source": [
    "# Pandas: función apply\n",
    "```.apply()``` permite aplicar una función a todos los elementos de un DataFrame pandas. "
   ]
  },
  {
   "cell_type": "code",
   "execution_count": 86,
   "id": "63023b17",
   "metadata": {},
   "outputs": [
    {
     "data": {
      "text/html": [
       "<div>\n",
       "<style scoped>\n",
       "    .dataframe tbody tr th:only-of-type {\n",
       "        vertical-align: middle;\n",
       "    }\n",
       "\n",
       "    .dataframe tbody tr th {\n",
       "        vertical-align: top;\n",
       "    }\n",
       "\n",
       "    .dataframe thead th {\n",
       "        text-align: right;\n",
       "    }\n",
       "</style>\n",
       "<table border=\"1\" class=\"dataframe\">\n",
       "  <thead>\n",
       "    <tr style=\"text-align: right;\">\n",
       "      <th></th>\n",
       "      <th>A</th>\n",
       "      <th>B</th>\n",
       "    </tr>\n",
       "  </thead>\n",
       "  <tbody>\n",
       "    <tr>\n",
       "      <th>0</th>\n",
       "      <td>1</td>\n",
       "      <td>2</td>\n",
       "    </tr>\n",
       "    <tr>\n",
       "      <th>1</th>\n",
       "      <td>3</td>\n",
       "      <td>4</td>\n",
       "    </tr>\n",
       "    <tr>\n",
       "      <th>2</th>\n",
       "      <td>5</td>\n",
       "      <td>6</td>\n",
       "    </tr>\n",
       "  </tbody>\n",
       "</table>\n",
       "</div>"
      ],
      "text/plain": [
       "   A  B\n",
       "0  1  2\n",
       "1  3  4\n",
       "2  5  6"
      ]
     },
     "execution_count": 86,
     "metadata": {},
     "output_type": "execute_result"
    }
   ],
   "source": [
    "# Ej. Queremos calcular el cuadrado (elevado a  2) de todos \n",
    "# los elementos del siguiente DataFrame\n",
    "df = pd.DataFrame([[1, 2],[3, 4], [5, 6]], columns=['A', 'B'])\n",
    "df"
   ]
  },
  {
   "cell_type": "code",
   "execution_count": 60,
   "id": "cc8222d2",
   "metadata": {},
   "outputs": [
    {
     "name": "stdout",
     "output_type": "stream",
     "text": [
      "El resultado es 3\n",
      "Resultado de operaciones matemáticas: (3, -1, 2, 0.5)\n"
     ]
    }
   ],
   "source": [
    "# Inciso de funciones. Una función es un conjunto de instrucciones encapsuladas que pueden\n",
    "# ser llamadas en cualquier momento (como una caja negra)\n",
    "def suma(a, b):\n",
    "    return a + b\n",
    "\n",
    "x = suma(1, 2)\n",
    "print(\"El resultado es\", x)\n",
    "\n",
    "\n",
    "def op_mat(a, b):\n",
    "    x1 = a + b\n",
    "    x2 = a - b\n",
    "    x3 = a * b\n",
    "    x4 = a/b\n",
    "    return x1, x2, x3, x4\n",
    "\n",
    "print(\"Resultado de operaciones matemáticas:\",op_mat(1, 2))"
   ]
  },
  {
   "cell_type": "code",
   "execution_count": 85,
   "id": "4c7b9c25",
   "metadata": {},
   "outputs": [
    {
     "data": {
      "text/plain": [
       "16"
      ]
     },
     "execution_count": 85,
     "metadata": {},
     "output_type": "execute_result"
    }
   ],
   "source": [
    "# Creamos la función pow2 que calcula el cuadrado de un número\n",
    "def pow2(n): # Función que retorna n elevado a 2\n",
    "    return n**2\n",
    "\n",
    "# Ejemplo de uso\n",
    "pow2(4) # Resultado 16"
   ]
  },
  {
   "cell_type": "code",
   "execution_count": 87,
   "id": "ebdd2aff",
   "metadata": {},
   "outputs": [
    {
     "data": {
      "text/plain": [
       "0     1\n",
       "1     9\n",
       "2    25\n",
       "Name: A, dtype: int64"
      ]
     },
     "execution_count": 87,
     "metadata": {},
     "output_type": "execute_result"
    }
   ],
   "source": [
    "# Aplicaremos esta función pow2 a todos los elementos de\n",
    "# nuestro dataframe. Para ello, entregamos la función\n",
    "# pow2 como entrada a .apply\n",
    "df['A'].apply(pow2)"
   ]
  },
  {
   "cell_type": "markdown",
   "id": "56c8e50a",
   "metadata": {
    "slideshow": {
     "slide_type": "slide"
    }
   },
   "source": [
    "# Pandas: métodos agregados\n",
    "\n",
    "- Se aplican a todos los datos de un DataFrame/Serie"
   ]
  },
  {
   "cell_type": "code",
   "execution_count": 66,
   "id": "174feb56",
   "metadata": {
    "slideshow": {
     "slide_type": "fragment"
    }
   },
   "outputs": [
    {
     "data": {
      "text/plain": [
       "846711.09"
      ]
     },
     "execution_count": 66,
     "metadata": {},
     "output_type": "execute_result"
    }
   ],
   "source": [
    "filename = \"data/mortgages.csv\"\n",
    "df = pd.read_csv(filename)\n",
    "\n",
    "# sumar los valores en una columna\n",
    "# monto total de intereses pagados durante el transcurso del préstamo\n",
    "df['Interest Paid'].sum()"
   ]
  },
  {
   "cell_type": "code",
   "execution_count": 67,
   "id": "3f75c320",
   "metadata": {
    "slideshow": {
     "slide_type": "fragment"
    }
   },
   "outputs": [
    {
     "data": {
      "text/plain": [
       "Month                                                          162540\n",
       "Starting Balance                                         251904176.79\n",
       "Repayment                                                   2446725.6\n",
       "Interest Paid                                               846711.09\n",
       "Principal Paid                                             1600014.51\n",
       "New Balance                                              250304162.28\n",
       "Mortgage Name       30 Year30 Year30 Year30 Year30 Year30 Year30 Y...\n",
       "Interest Rate                                                    43.2\n",
       "dtype: object"
      ]
     },
     "execution_count": 67,
     "metadata": {},
     "output_type": "execute_result"
    }
   ],
   "source": [
    "# sumar todos los valores en todas las columnas\n",
    "df.sum()"
   ]
  },
  {
   "cell_type": "markdown",
   "id": "d2d6f8b9",
   "metadata": {
    "slideshow": {
     "slide_type": "slide"
    }
   },
   "source": [
    "# Pandas: Group by"
   ]
  },
  {
   "cell_type": "code",
   "execution_count": 68,
   "id": "4cf9ff54",
   "metadata": {
    "slideshow": {
     "slide_type": "fragment"
    }
   },
   "outputs": [
    {
     "data": {
      "text/html": [
       "<div>\n",
       "<style scoped>\n",
       "    .dataframe tbody tr th:only-of-type {\n",
       "        vertical-align: middle;\n",
       "    }\n",
       "\n",
       "    .dataframe tbody tr th {\n",
       "        vertical-align: top;\n",
       "    }\n",
       "\n",
       "    .dataframe thead th {\n",
       "        text-align: right;\n",
       "    }\n",
       "</style>\n",
       "<table border=\"1\" class=\"dataframe\">\n",
       "  <thead>\n",
       "    <tr style=\"text-align: right;\">\n",
       "      <th></th>\n",
       "      <th>key</th>\n",
       "      <th>data</th>\n",
       "    </tr>\n",
       "  </thead>\n",
       "  <tbody>\n",
       "    <tr>\n",
       "      <th>0</th>\n",
       "      <td>Seattle</td>\n",
       "      <td>1</td>\n",
       "    </tr>\n",
       "    <tr>\n",
       "      <th>1</th>\n",
       "      <td>Kirkland</td>\n",
       "      <td>2</td>\n",
       "    </tr>\n",
       "    <tr>\n",
       "      <th>2</th>\n",
       "      <td>Redmond</td>\n",
       "      <td>3</td>\n",
       "    </tr>\n",
       "    <tr>\n",
       "      <th>3</th>\n",
       "      <td>Seattle</td>\n",
       "      <td>4</td>\n",
       "    </tr>\n",
       "    <tr>\n",
       "      <th>4</th>\n",
       "      <td>Kirkland</td>\n",
       "      <td>5</td>\n",
       "    </tr>\n",
       "    <tr>\n",
       "      <th>5</th>\n",
       "      <td>Redmond</td>\n",
       "      <td>6</td>\n",
       "    </tr>\n",
       "  </tbody>\n",
       "</table>\n",
       "</div>"
      ],
      "text/plain": [
       "        key  data\n",
       "0   Seattle     1\n",
       "1  Kirkland     2\n",
       "2   Redmond     3\n",
       "3   Seattle     4\n",
       "4  Kirkland     5\n",
       "5   Redmond     6"
      ]
     },
     "execution_count": 68,
     "metadata": {},
     "output_type": "execute_result"
    }
   ],
   "source": [
    "import pandas as pd\n",
    "df_cities = pd.DataFrame(data = [['Seattle', 1],\n",
    "                          ['Kirkland', 2],\n",
    "                          ['Redmond', 3],\n",
    "                          ['Seattle', 4],\n",
    "                          ['Kirkland', 5],\n",
    "                          ['Redmond', 6]], columns = ['key', 'data'])\n",
    "df_cities"
   ]
  },
  {
   "cell_type": "code",
   "execution_count": 70,
   "id": "db182880",
   "metadata": {},
   "outputs": [
    {
     "data": {
      "text/plain": [
       "Seattle     2\n",
       "Kirkland    2\n",
       "Redmond     2\n",
       "Name: key, dtype: int64"
      ]
     },
     "execution_count": 70,
     "metadata": {},
     "output_type": "execute_result"
    }
   ],
   "source": [
    "df_cities['key'].value_counts()"
   ]
  },
  {
   "cell_type": "code",
   "execution_count": 71,
   "id": "516475b9",
   "metadata": {},
   "outputs": [
    {
     "name": "stdout",
     "output_type": "stream",
     "text": [
      "<class 'pandas.core.frame.DataFrame'>\n",
      "RangeIndex: 6 entries, 0 to 5\n",
      "Data columns (total 2 columns):\n",
      " #   Column  Non-Null Count  Dtype \n",
      "---  ------  --------------  ----- \n",
      " 0   key     6 non-null      object\n",
      " 1   data    6 non-null      int64 \n",
      "dtypes: int64(1), object(1)\n",
      "memory usage: 224.0+ bytes\n"
     ]
    }
   ],
   "source": [
    "df_cities.info()"
   ]
  },
  {
   "cell_type": "code",
   "execution_count": 72,
   "id": "29e2a300",
   "metadata": {
    "slideshow": {
     "slide_type": "fragment"
    }
   },
   "outputs": [
    {
     "data": {
      "text/html": [
       "<div>\n",
       "<style scoped>\n",
       "    .dataframe tbody tr th:only-of-type {\n",
       "        vertical-align: middle;\n",
       "    }\n",
       "\n",
       "    .dataframe tbody tr th {\n",
       "        vertical-align: top;\n",
       "    }\n",
       "\n",
       "    .dataframe thead th {\n",
       "        text-align: right;\n",
       "    }\n",
       "</style>\n",
       "<table border=\"1\" class=\"dataframe\">\n",
       "  <thead>\n",
       "    <tr style=\"text-align: right;\">\n",
       "      <th></th>\n",
       "      <th>data</th>\n",
       "    </tr>\n",
       "    <tr>\n",
       "      <th>key</th>\n",
       "      <th></th>\n",
       "    </tr>\n",
       "  </thead>\n",
       "  <tbody>\n",
       "    <tr>\n",
       "      <th>Kirkland</th>\n",
       "      <td>7</td>\n",
       "    </tr>\n",
       "    <tr>\n",
       "      <th>Redmond</th>\n",
       "      <td>9</td>\n",
       "    </tr>\n",
       "    <tr>\n",
       "      <th>Seattle</th>\n",
       "      <td>5</td>\n",
       "    </tr>\n",
       "  </tbody>\n",
       "</table>\n",
       "</div>"
      ],
      "text/plain": [
       "          data\n",
       "key           \n",
       "Kirkland     7\n",
       "Redmond      9\n",
       "Seattle      5"
      ]
     },
     "execution_count": 72,
     "metadata": {},
     "output_type": "execute_result"
    }
   ],
   "source": [
    "# Sumamos todos los valores agrupados por llave 'key'\n",
    "df_cities.groupby(['key']).sum()"
   ]
  },
  {
   "cell_type": "code",
   "execution_count": 73,
   "id": "17ffaf54",
   "metadata": {
    "slideshow": {
     "slide_type": "fragment"
    }
   },
   "outputs": [
    {
     "data": {
      "text/html": [
       "<div>\n",
       "<style scoped>\n",
       "    .dataframe tbody tr th:only-of-type {\n",
       "        vertical-align: middle;\n",
       "    }\n",
       "\n",
       "    .dataframe tbody tr th {\n",
       "        vertical-align: top;\n",
       "    }\n",
       "\n",
       "    .dataframe thead th {\n",
       "        text-align: right;\n",
       "    }\n",
       "</style>\n",
       "<table border=\"1\" class=\"dataframe\">\n",
       "  <thead>\n",
       "    <tr style=\"text-align: right;\">\n",
       "      <th></th>\n",
       "      <th>Month</th>\n",
       "      <th>Starting Balance</th>\n",
       "      <th>Repayment</th>\n",
       "      <th>Interest Paid</th>\n",
       "      <th>Principal Paid</th>\n",
       "      <th>New Balance</th>\n",
       "      <th>Mortgage Name</th>\n",
       "      <th>Interest Rate</th>\n",
       "    </tr>\n",
       "  </thead>\n",
       "  <tbody>\n",
       "    <tr>\n",
       "      <th>0</th>\n",
       "      <td>1</td>\n",
       "      <td>400000.00</td>\n",
       "      <td>1686.42</td>\n",
       "      <td>1000.00</td>\n",
       "      <td>686.42</td>\n",
       "      <td>399313.58</td>\n",
       "      <td>30 Year</td>\n",
       "      <td>0.03</td>\n",
       "    </tr>\n",
       "    <tr>\n",
       "      <th>1</th>\n",
       "      <td>2</td>\n",
       "      <td>399313.58</td>\n",
       "      <td>1686.42</td>\n",
       "      <td>998.28</td>\n",
       "      <td>688.14</td>\n",
       "      <td>398625.44</td>\n",
       "      <td>30 Year</td>\n",
       "      <td>0.03</td>\n",
       "    </tr>\n",
       "    <tr>\n",
       "      <th>2</th>\n",
       "      <td>3</td>\n",
       "      <td>398625.44</td>\n",
       "      <td>1686.42</td>\n",
       "      <td>996.56</td>\n",
       "      <td>689.86</td>\n",
       "      <td>397935.58</td>\n",
       "      <td>30 Year</td>\n",
       "      <td>0.03</td>\n",
       "    </tr>\n",
       "    <tr>\n",
       "      <th>3</th>\n",
       "      <td>4</td>\n",
       "      <td>397935.58</td>\n",
       "      <td>1686.42</td>\n",
       "      <td>994.83</td>\n",
       "      <td>691.59</td>\n",
       "      <td>397243.99</td>\n",
       "      <td>30 Year</td>\n",
       "      <td>0.03</td>\n",
       "    </tr>\n",
       "    <tr>\n",
       "      <th>4</th>\n",
       "      <td>5</td>\n",
       "      <td>397243.99</td>\n",
       "      <td>1686.42</td>\n",
       "      <td>993.10</td>\n",
       "      <td>693.32</td>\n",
       "      <td>396550.67</td>\n",
       "      <td>30 Year</td>\n",
       "      <td>0.03</td>\n",
       "    </tr>\n",
       "  </tbody>\n",
       "</table>\n",
       "</div>"
      ],
      "text/plain": [
       "   Month  Starting Balance  Repayment  Interest Paid  Principal Paid  \\\n",
       "0      1         400000.00    1686.42        1000.00          686.42   \n",
       "1      2         399313.58    1686.42         998.28          688.14   \n",
       "2      3         398625.44    1686.42         996.56          689.86   \n",
       "3      4         397935.58    1686.42         994.83          691.59   \n",
       "4      5         397243.99    1686.42         993.10          693.32   \n",
       "\n",
       "   New Balance Mortgage Name  Interest Rate  \n",
       "0    399313.58       30 Year           0.03  \n",
       "1    398625.44       30 Year           0.03  \n",
       "2    397935.58       30 Year           0.03  \n",
       "3    397243.99       30 Year           0.03  \n",
       "4    396550.67       30 Year           0.03  "
      ]
     },
     "execution_count": 73,
     "metadata": {},
     "output_type": "execute_result"
    }
   ],
   "source": [
    "import pandas as pd\n",
    "filename = \"data/mortgages.csv\"\n",
    "df = pd.read_csv(filename)\n",
    "df.head()"
   ]
  },
  {
   "cell_type": "code",
   "execution_count": 79,
   "id": "cf8de546",
   "metadata": {},
   "outputs": [
    {
     "data": {
      "text/html": [
       "<div>\n",
       "<style scoped>\n",
       "    .dataframe tbody tr th:only-of-type {\n",
       "        vertical-align: middle;\n",
       "    }\n",
       "\n",
       "    .dataframe tbody tr th {\n",
       "        vertical-align: top;\n",
       "    }\n",
       "\n",
       "    .dataframe thead th {\n",
       "        text-align: right;\n",
       "    }\n",
       "</style>\n",
       "<table border=\"1\" class=\"dataframe\">\n",
       "  <thead>\n",
       "    <tr style=\"text-align: right;\">\n",
       "      <th></th>\n",
       "      <th></th>\n",
       "      <th>Interest Paid</th>\n",
       "      <th>Repayment</th>\n",
       "    </tr>\n",
       "    <tr>\n",
       "      <th>Mortgage Name</th>\n",
       "      <th>Interest Rate</th>\n",
       "      <th></th>\n",
       "      <th></th>\n",
       "    </tr>\n",
       "  </thead>\n",
       "  <tbody>\n",
       "    <tr>\n",
       "      <th rowspan=\"2\" valign=\"top\">15 Year</th>\n",
       "      <th>0.03</th>\n",
       "      <td>97217.42</td>\n",
       "      <td>497219.4</td>\n",
       "    </tr>\n",
       "    <tr>\n",
       "      <th>0.05</th>\n",
       "      <td>169370.43</td>\n",
       "      <td>569370.6</td>\n",
       "    </tr>\n",
       "    <tr>\n",
       "      <th rowspan=\"2\" valign=\"top\">30 Year</th>\n",
       "      <th>0.03</th>\n",
       "      <td>207106.01</td>\n",
       "      <td>607111.2</td>\n",
       "    </tr>\n",
       "    <tr>\n",
       "      <th>0.05</th>\n",
       "      <td>373017.23</td>\n",
       "      <td>773024.4</td>\n",
       "    </tr>\n",
       "  </tbody>\n",
       "</table>\n",
       "</div>"
      ],
      "text/plain": [
       "                             Interest Paid  Repayment\n",
       "Mortgage Name Interest Rate                          \n",
       "15 Year       0.03                97217.42   497219.4\n",
       "              0.05               169370.43   569370.6\n",
       "30 Year       0.03               207106.01   607111.2\n",
       "              0.05               373017.23   773024.4"
      ]
     },
     "execution_count": 79,
     "metadata": {},
     "output_type": "execute_result"
    }
   ],
   "source": [
    "df.groupby(['Mortgage Name', 'Interest Rate'])[['Interest Paid', 'Repayment']].sum()"
   ]
  },
  {
   "cell_type": "code",
   "execution_count": 84,
   "id": "91e4c48a",
   "metadata": {},
   "outputs": [
    {
     "data": {
      "text/plain": [
       "array([   0,    1,    2, ..., 1077, 1078, 1079])"
      ]
     },
     "execution_count": 84,
     "metadata": {},
     "output_type": "execute_result"
    }
   ],
   "source": [
    "import numpy as np\n",
    "np.arange(df.shape[0])"
   ]
  },
  {
   "cell_type": "markdown",
   "id": "25883398",
   "metadata": {
    "slideshow": {
     "slide_type": "slide"
    }
   },
   "source": [
    "# Actividad 2"
   ]
  },
  {
   "cell_type": "markdown",
   "id": "ea127ca0",
   "metadata": {
    "slideshow": {
     "slide_type": "fragment"
    }
   },
   "source": [
    "El fichero [titanic.csv](https://aprendeconalf.es/docencia/python/ejercicios/soluciones/pandas/titanic.csv) contiene información sobre los pasajeros del Titanic. Escribir un programa con los siguientes requisitos:\n",
    "\n",
    "1. Generar un DataFrame con los datos del fichero.\n",
    "2. Mostrar por pantalla las dimensiones del DataFrame, el número de datos que contiene, los nombres de sus columnas y filas, los tipos de datos de las columnas, las 10 primeras filas y las 10 últimas filas\n",
    "3. Mostrar por pantalla los datos del pasajero con identificador 148.\n",
    "4. Mostrar por pantalla las filas pares del DataFrame.\n",
    "5. Mostrar por pantalla los nombres de las personas que iban en primera clase ordenadas alfabéticamente.\n",
    "6. Mostrar por pantalla el porcentaje de personas que sobrevivieron y murieron.\n",
    "7. Mostrar por pantalla el porcentaje de personas que sobrevivieron en cada clase.\n",
    "8. Eliminar del DataFrame los pasajeros con edad desconocida.\n",
    "9. Mostrar por pantalla la edad media de las mujeres que viajaban en cada clase.\n",
    "10. Añadir una nueva columna booleana para ver si el pasajero era menor de edad o no.\n",
    "11. Mostrar por pantalla el porcentaje de menores y mayores de edad que sobrevivieron en cada clase.\n",
    "\n",
    "(Fuente: https://aprendeconalf.es/docencia/python/ejercicios/pandas/)"
   ]
  }
 ],
 "metadata": {
  "celltoolbar": "Slideshow",
  "kernelspec": {
   "display_name": "Python 3 (ipykernel)",
   "language": "python",
   "name": "python3"
  },
  "language_info": {
   "codemirror_mode": {
    "name": "ipython",
    "version": 3
   },
   "file_extension": ".py",
   "mimetype": "text/x-python",
   "name": "python",
   "nbconvert_exporter": "python",
   "pygments_lexer": "ipython3",
   "version": "3.8.13"
  }
 },
 "nbformat": 4,
 "nbformat_minor": 5
}
