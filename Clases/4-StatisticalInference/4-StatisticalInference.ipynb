{
 "cells": [
  {
   "cell_type": "code",
   "execution_count": null,
   "id": "c944f8fd",
   "metadata": {},
   "outputs": [],
   "source": []
  },
  {
   "cell_type": "markdown",
   "id": "ed8fa137",
   "metadata": {
    "slideshow": {
     "slide_type": "slide"
    }
   },
   "source": [
    "</div>\n",
    "<br/>\n",
    "<img src=\"images/new_logo.png\" alt=\"\" width=\"230px\" align=\"left\"/>\n",
    "<img src=\"images/new_logo.png\" alt=\"\" width=\"230px\" align=\"right\"/>\n",
    "<div align=\"center\">\n",
    "<h2>Bootcamp Data Science - Módulo 1</h2><br/>\n",
    "<h1>Inferencia Estadística</h1>\n",
    "<br/><br/>\n",
    "    <b>Instructor Principal:</b> Jesús Ortiz jortiz@codingdojo.cl <br/>\n",
    "    <b>Instructor Asistente:</b> Marco Fernandini mfernandini@codingdojo.la <br/><br/>\n",
    "    <b>Coding Dojo</b>\n",
    "</div>"
   ]
  },
  {
   "cell_type": "markdown",
   "id": "dfa1f9f3",
   "metadata": {
    "slideshow": {
     "slide_type": "slide"
    }
   },
   "source": [
    "# Tipos de errores"
   ]
  },
  {
   "cell_type": "markdown",
   "id": "e85578e0",
   "metadata": {
    "slideshow": {
     "slide_type": "fragment"
    }
   },
   "source": [
    "Para determinar el correcto funcionamiento de un algoritmo de clasificación, podemos preguntarnos\n",
    "\n",
    "- *¿Cuántas veces acertamos la clasificación de una clase y cuántas veces no?*\n",
    "\n",
    "Los errores que puede cometer nuestro clasificador son de dos tipos:"
   ]
  },
  {
   "cell_type": "markdown",
   "id": "5a547fe7",
   "metadata": {
    "slideshow": {
     "slide_type": "fragment"
    }
   },
   "source": [
    "## Errores de Tipo 1: Falso Positivo"
   ]
  },
  {
   "cell_type": "markdown",
   "id": "5d354bab",
   "metadata": {
    "slideshow": {
     "slide_type": "fragment"
    }
   },
   "source": [
    "Clasificamos un elemento como *perteneciente* (positivo) a la clase **incorrectamente** (falso)"
   ]
  },
  {
   "cell_type": "markdown",
   "id": "15a0d804",
   "metadata": {
    "slideshow": {
     "slide_type": "fragment"
    }
   },
   "source": [
    "<img src=\"images/un5.jpeg\" alt=\"\" width=\"300px\" align=\"center\"/>"
   ]
  },
  {
   "cell_type": "markdown",
   "id": "36600148",
   "metadata": {
    "slideshow": {
     "slide_type": "fragment"
    }
   },
   "source": [
    "## Errores de Tipo 2: Falso Negativo"
   ]
  },
  {
   "cell_type": "markdown",
   "id": "d33526dd",
   "metadata": {
    "slideshow": {
     "slide_type": "fragment"
    }
   },
   "source": [
    "Clasificamos un elemento como *no perteneciente* (negativo) a la clase **incorrectamente** (falso)"
   ]
  },
  {
   "cell_type": "markdown",
   "id": "a2a3e93f",
   "metadata": {
    "slideshow": {
     "slide_type": "fragment"
    }
   },
   "source": [
    "<img src=\"images/noUn5.jpeg\" alt=\"\" width=\"300px\" align=\"center\"/>"
   ]
  },
  {
   "cell_type": "markdown",
   "id": "3fbee85d",
   "metadata": {
    "slideshow": {
     "slide_type": "slide"
    }
   },
   "source": [
    "# Matriz de confusión"
   ]
  },
  {
   "cell_type": "markdown",
   "id": "87367930",
   "metadata": {
    "slideshow": {
     "slide_type": "fragment"
    }
   },
   "source": [
    "Permite contar la cantidad de veces que instancias de la clase A son clasificadas como clase B"
   ]
  },
  {
   "cell_type": "markdown",
   "id": "68bc819a",
   "metadata": {
    "slideshow": {
     "slide_type": "fragment"
    }
   },
   "source": [
    "<img src=\"images/matrizConfusion.png\" alt=\"\" width=\"700px\" align=\"center\"/>\n",
    "Fuente: \"Hands-on Machine Learning with Scikit-Learn, Keras & Tensorflow\", O'Reilly"
   ]
  },
  {
   "cell_type": "markdown",
   "id": "27566d2a",
   "metadata": {
    "slideshow": {
     "slide_type": "fragment"
    }
   },
   "source": [
    "## Ejemplo"
   ]
  },
  {
   "cell_type": "code",
   "execution_count": 3,
   "id": "0c4a4059",
   "metadata": {
    "slideshow": {
     "slide_type": "fragment"
    }
   },
   "outputs": [
    {
     "data": {
      "text/html": [
       "<div>\n",
       "<style scoped>\n",
       "    .dataframe tbody tr th:only-of-type {\n",
       "        vertical-align: middle;\n",
       "    }\n",
       "\n",
       "    .dataframe tbody tr th {\n",
       "        vertical-align: top;\n",
       "    }\n",
       "\n",
       "    .dataframe thead th {\n",
       "        text-align: right;\n",
       "    }\n",
       "</style>\n",
       "<table border=\"1\" class=\"dataframe\">\n",
       "  <thead>\n",
       "    <tr style=\"text-align: right;\">\n",
       "      <th></th>\n",
       "      <th>PassengerId</th>\n",
       "      <th>Survived</th>\n",
       "      <th>Pclass</th>\n",
       "      <th>Name</th>\n",
       "      <th>Sex</th>\n",
       "      <th>Age</th>\n",
       "      <th>SibSp</th>\n",
       "      <th>Parch</th>\n",
       "      <th>Ticket</th>\n",
       "      <th>Fare</th>\n",
       "      <th>Cabin</th>\n",
       "      <th>Embarked</th>\n",
       "    </tr>\n",
       "  </thead>\n",
       "  <tbody>\n",
       "    <tr>\n",
       "      <th>0</th>\n",
       "      <td>1</td>\n",
       "      <td>0</td>\n",
       "      <td>3</td>\n",
       "      <td>Braund, Mr. Owen Harris</td>\n",
       "      <td>male</td>\n",
       "      <td>22.0</td>\n",
       "      <td>1</td>\n",
       "      <td>0</td>\n",
       "      <td>A/5 21171</td>\n",
       "      <td>7.2500</td>\n",
       "      <td>NaN</td>\n",
       "      <td>S</td>\n",
       "    </tr>\n",
       "    <tr>\n",
       "      <th>1</th>\n",
       "      <td>2</td>\n",
       "      <td>1</td>\n",
       "      <td>1</td>\n",
       "      <td>Cumings, Mrs. John Bradley (Florence Briggs Th...</td>\n",
       "      <td>female</td>\n",
       "      <td>38.0</td>\n",
       "      <td>1</td>\n",
       "      <td>0</td>\n",
       "      <td>PC 17599</td>\n",
       "      <td>71.2833</td>\n",
       "      <td>C85</td>\n",
       "      <td>C</td>\n",
       "    </tr>\n",
       "    <tr>\n",
       "      <th>2</th>\n",
       "      <td>3</td>\n",
       "      <td>1</td>\n",
       "      <td>3</td>\n",
       "      <td>Heikkinen, Miss. Laina</td>\n",
       "      <td>female</td>\n",
       "      <td>26.0</td>\n",
       "      <td>0</td>\n",
       "      <td>0</td>\n",
       "      <td>STON/O2. 3101282</td>\n",
       "      <td>7.9250</td>\n",
       "      <td>NaN</td>\n",
       "      <td>S</td>\n",
       "    </tr>\n",
       "    <tr>\n",
       "      <th>3</th>\n",
       "      <td>4</td>\n",
       "      <td>1</td>\n",
       "      <td>1</td>\n",
       "      <td>Futrelle, Mrs. Jacques Heath (Lily May Peel)</td>\n",
       "      <td>female</td>\n",
       "      <td>35.0</td>\n",
       "      <td>1</td>\n",
       "      <td>0</td>\n",
       "      <td>113803</td>\n",
       "      <td>53.1000</td>\n",
       "      <td>C123</td>\n",
       "      <td>S</td>\n",
       "    </tr>\n",
       "    <tr>\n",
       "      <th>4</th>\n",
       "      <td>5</td>\n",
       "      <td>0</td>\n",
       "      <td>3</td>\n",
       "      <td>Allen, Mr. William Henry</td>\n",
       "      <td>male</td>\n",
       "      <td>35.0</td>\n",
       "      <td>0</td>\n",
       "      <td>0</td>\n",
       "      <td>373450</td>\n",
       "      <td>8.0500</td>\n",
       "      <td>NaN</td>\n",
       "      <td>S</td>\n",
       "    </tr>\n",
       "  </tbody>\n",
       "</table>\n",
       "</div>"
      ],
      "text/plain": [
       "   PassengerId  Survived  Pclass  \\\n",
       "0            1         0       3   \n",
       "1            2         1       1   \n",
       "2            3         1       3   \n",
       "3            4         1       1   \n",
       "4            5         0       3   \n",
       "\n",
       "                                                Name     Sex   Age  SibSp  \\\n",
       "0                            Braund, Mr. Owen Harris    male  22.0      1   \n",
       "1  Cumings, Mrs. John Bradley (Florence Briggs Th...  female  38.0      1   \n",
       "2                             Heikkinen, Miss. Laina  female  26.0      0   \n",
       "3       Futrelle, Mrs. Jacques Heath (Lily May Peel)  female  35.0      1   \n",
       "4                           Allen, Mr. William Henry    male  35.0      0   \n",
       "\n",
       "   Parch            Ticket     Fare Cabin Embarked  \n",
       "0      0         A/5 21171   7.2500   NaN        S  \n",
       "1      0          PC 17599  71.2833   C85        C  \n",
       "2      0  STON/O2. 3101282   7.9250   NaN        S  \n",
       "3      0            113803  53.1000  C123        S  \n",
       "4      0            373450   8.0500   NaN        S  "
      ]
     },
     "execution_count": 3,
     "metadata": {},
     "output_type": "execute_result"
    }
   ],
   "source": [
    "import matplotlib.pyplot as plt\n",
    "import seaborn as sns\n",
    "import pandas as pd\n",
    "import numpy as np\n",
    "# Primera vez que se importa la biblioteca de aprendizaje automático scikit-learn\n",
    "# No te preocupes si esto parece mucho código\n",
    "from sklearn import metrics\n",
    "from sklearn.linear_model import LogisticRegression\n",
    "from sklearn.model_selection import train_test_split\n",
    "from sklearn.preprocessing import StandardScaler\n",
    "\n",
    "# Ten en cuenta que es probable que el nombre del archivo sea diferente en tu computadora (especialmente más adelante en el curso)\n",
    "filename = 'data/titanic.csv'\n",
    "df = pd.read_csv(filename)\n",
    "df.head()"
   ]
  },
  {
   "cell_type": "code",
   "execution_count": 4,
   "id": "304ce698",
   "metadata": {
    "scrolled": true,
    "slideshow": {
     "slide_type": "fragment"
    }
   },
   "outputs": [
    {
     "name": "stdout",
     "output_type": "stream",
     "text": [
      "[1 1 1 0 1 0 0 0 0 0 0 1 1 0 0 1 0 1 1 0 0 1 1 0 0 1 1 0 1 0 0 0 0 1 0 0 1\n",
      " 0 0 1 0 0 0 1 0 1 0 0 0 0 0 1 0 1 1 1 1 0 0 0 0 0 1 0 1 1 1 0 1 1 0 0 1 1\n",
      " 1 1 1 0 0 0 0 0 0 1 1 0 0 0 1 0 1 0 1 0 1 0 1 1 0 0 1 1 1 0 1 1 1 0 1 0 0\n",
      " 0 0 0 0 0 0 0 1 1 0 1 0 0 0 1 1 0 0 1 1 0 1 0 1 0 1 1 0 0 1 0 1 1 0 0 0 1\n",
      " 1 0 1 0 0 0 0 0 0 0 0 0 0 0 0 1 0 1 0 0 1 0 1 1 1 0 0 0 1 1 0]\n",
      "[0, 0, 1, 0, 1, 0, 0, 0, 0, 0, 0, 1, 1, 0, 0, 1, 0, 1, 1, 0, 0, 1, 1, 0, 0, 1, 1, 0, 1, 0, 0, 0, 0, 1, 0, 0, 1, 1, 0, 1, 0, 1, 1, 0, 0, 1, 1, 0, 0, 0, 0, 1, 0, 1, 0, 0, 1, 0, 1, 0, 0, 0, 0, 0, 1, 0, 1, 0, 0, 1, 0, 1, 1, 1, 1, 1, 1, 0, 0, 0, 1, 1, 0, 1, 1, 0, 0, 0, 1, 0, 1, 0, 1, 0, 1, 0, 1, 0, 0, 0, 1, 1, 1, 0, 1, 1, 1, 0, 1, 0, 0, 0, 0, 0, 0, 0, 1, 0, 1, 1, 0, 1, 0, 0, 0, 1, 1, 0, 0, 1, 1, 1, 0, 1, 1, 0, 1, 1, 0, 0, 1, 0, 1, 1, 0, 0, 0, 0, 0, 0, 0, 1, 0, 1, 1, 0, 0, 1, 0, 0, 0, 0, 0, 0, 0, 1, 0, 0, 0, 1, 1, 0, 1, 1, 0, 0, 1, 1, 0]\n"
     ]
    }
   ],
   "source": [
    "# Transforma la columna Sexo en una forma que no sea de texto\n",
    "# Elijo cuatro funciones, podrías haber elegido otras\n",
    "feature_cols = ['Pclass', 'Parch', 'Age', 'Sex']\n",
    "# Convierta la columna Sexo en algo que pueda alimentar a un modelo\n",
    "# Tiene\n",
    "df['Sex'] = df.Sex.map({'male': 0, \n",
    "                        'female': 1})\n",
    "# Eliminar filas donde la edad es nan del conjunto de datos\n",
    "df = df.loc[~df['Age'].isnull(), :]\n",
    "# Crear matriz de características y vector objetivo\n",
    "X = df.loc[:, feature_cols]\n",
    "y = df['Survived']\n",
    "# Divida los datos en conjuntos de prueba y entrenamiento\n",
    "X_train, X_test, y_train, y_test = train_test_split(X,\n",
    "                                                    y,\n",
    "                                                    random_state = 0)\n",
    "# Estandarizar datos\n",
    "scaler = StandardScaler()\n",
    "# Ajusta solo en el conjunto de entrenamiento\n",
    "scaler.fit(X_train)\n",
    "# Aplicar transformación tanto al conjunto de entrenamiento como al conjunto de prueba\n",
    "X_train = scaler.transform(X_train)\n",
    "X_test = scaler.transform(X_test)\n",
    "# Crea una instancia de un modelo\n",
    "logreg = LogisticRegression()\n",
    "# Entrena el modelo con los datos\n",
    "logreg.fit(X_train, y_train);\n",
    "# predicciones de clase (no probabilidades predichas)\n",
    "predictions = logreg.predict(X_test)\n",
    "print(predictions)\n",
    "print(y_test.tolist())"
   ]
  },
  {
   "cell_type": "code",
   "execution_count": 5,
   "id": "d2d2761c",
   "metadata": {
    "slideshow": {
     "slide_type": "fragment"
    }
   },
   "outputs": [
    {
     "name": "stdout",
     "output_type": "stream",
     "text": [
      "Total de elementos: 179\n",
      "[[87 16]\n",
      " [17 59]]\n",
      "[87 16 17 59]\n",
      "87 16 17 59\n"
     ]
    }
   ],
   "source": [
    "# valores reales: y_test.values\n",
    "# predicciones: predicciones del modelo\n",
    "print(\"Total de elementos:\", len(y_test.values))\n",
    "cm = metrics.confusion_matrix(y_test.values, predictions)\n",
    "print(cm)\n",
    "print(cm.ravel())\n",
    "tn, fp, fn, tp = cm.ravel()\n",
    "print(tn, fp, fn, tp)"
   ]
  },
  {
   "cell_type": "code",
   "execution_count": null,
   "id": "1ca0a0b2",
   "metadata": {},
   "outputs": [],
   "source": [
    "# Mostrando gráficamente la matriz de confusión\n",
    "import seaborn as sns\n",
    "\n",
    "f = sns.heatmap(cm, annot=True)"
   ]
  },
  {
   "cell_type": "code",
   "execution_count": null,
   "id": "74348039",
   "metadata": {},
   "outputs": [],
   "source": [
    "# También es posible graficar la matriz de confusión a partir del clasificador\n",
    "# Los parámetros de entrada son: el clasificador, las características de entrada \n",
    "# y tu columna objetivo\n",
    "metrics.plot_confusion_matrix(logreg, X_test, y_test.values)"
   ]
  },
  {
   "cell_type": "markdown",
   "id": "b0b3cde3",
   "metadata": {
    "slideshow": {
     "slide_type": "slide"
    }
   },
   "source": [
    "# Accuracy (exactitud)"
   ]
  },
  {
   "cell_type": "markdown",
   "id": "8ce9abb3",
   "metadata": {
    "slideshow": {
     "slide_type": "fragment"
    }
   },
   "source": [
    "- Fracción de casos correctamente clasificados sobre casos totales (¿Cuántas veces acerté?)\n",
    "\n",
    "$$ \\text{accuracy} = \\frac{TP + TN}{TP + TN + FP + FN} $$\n",
    "\n",
    "- En nuestra matriz de confusión anterior, sería\n",
    "\n",
    "$$\\text{accuracy} = \\frac{87 + 59}{87 + 16 + 17 + 59} = 0.8156 = 81.56\\%$$"
   ]
  },
  {
   "cell_type": "code",
   "execution_count": null,
   "id": "0699245f",
   "metadata": {
    "slideshow": {
     "slide_type": "fragment"
    }
   },
   "outputs": [],
   "source": [
    "score = logreg.score(X_test, y_test) # Esta línea, para este modelo, calcula el accuracy\n",
    "print(\"Score obtenido por Regresor\", score)\n",
    "manual_score = (tp + tn)/(tp + tn + fp + fn)\n",
    "print(\"Score obtenido manualmente\", manual_score)"
   ]
  },
  {
   "cell_type": "code",
   "execution_count": 10,
   "id": "b44863cb",
   "metadata": {
    "scrolled": true
   },
   "outputs": [
    {
     "name": "stdout",
     "output_type": "stream",
     "text": [
      "[0, 0, 0, 0, 0, 0, 0, 0, 0, 0, 0, 0, 0, 0, 0, 0, 0, 0, 0, 0]\n",
      "[0, 0, 0, 0, 0, 0, 1, 0, 0, 0, 1, 0, 0, 0, 0, 0, 0, 0, 0, 1]\n",
      "85.0\n"
     ]
    }
   ],
   "source": [
    "# Ej. Modelo de clasificación de 5s\n",
    "import numpy as np\n",
    "datos = [1,2,1,3,4,2,5,3,4,6,5,4,2,7,9,8,9,6,4,5]\n",
    "valores_reales = [0,0,0,0,0,0,1,0,0,0,1,0,0,0,0,0,0,0,0,1]\n",
    "\n",
    "# Creando el modelo \"Nada es 5\"\n",
    "# Emularemos las predicciones de este modelo que clasifica todo como\n",
    "# \"No 5\" en la siguiente variable\n",
    "predicciones = [0,0,0,0,0,0,0,0,0,0,0,0,0,0,0,0,0,0,0,0] # Crea una lista de 0s\n",
    "print(predicciones)\n",
    "print(valores_reales)\n",
    "# Nuestro modelo clasifica todo como NO 5\n",
    "tn=17 # 17 son los números que no eran 5, por lo tanto nuestro modelo los clasifico bien\n",
    "tp=0 # Como no clasificamos ningún 5, los TP son\n",
    "fn=3 # Los 5s que clasificamos incorrectamente, están acá\n",
    "fp=0 # No hicimos ninguna clasificación FP.\n",
    "\n",
    "accuracy = (tn+tp)/(tn+tp+fn+fp)\n",
    "print(accuracy*100)"
   ]
  },
  {
   "cell_type": "code",
   "execution_count": 9,
   "id": "495597f0",
   "metadata": {
    "scrolled": true
   },
   "outputs": [
    {
     "name": "stdout",
     "output_type": "stream",
     "text": [
      "[1. 1. 1. 1. 1. 1. 1. 1. 1. 1. 1. 1. 1. 1. 1. 1. 1. 1. 1. 1.]\n",
      "[0, 0, 0, 0, 0, 1, 1, 1, 1, 1, 1, 1, 1, 0, 1, 1, 1, 1, 1, 1]\n",
      "70.0\n"
     ]
    }
   ],
   "source": [
    "# Ej. Modelo de clasificación de 5s\n",
    "import numpy as np\n",
    "datos = [1,2,1,3,4,2,5,5,5,5,5,5,5,5,8,5,5,5,5,5]\n",
    "valores_reales = [0,0,0,0,0,1,1,1,1,1,1,1,1,0,1,1,1,1,1,1]\n",
    "\n",
    "# Este sería el modelo contrario, clasifica \"Todo como 5\"\n",
    "predicciones = np.ones(20) # Crea una lista de 0s\n",
    "print(predicciones)\n",
    "print(valores_reales)\n",
    "# Nuestro modelo clasifica todo como NO 5\n",
    "tn=0 # 17 son los números que no eran 5, por lo tanto nuestro modelo los clasifico bien\n",
    "tp=14 # Como no clasificamos ningún 5, los TP son\n",
    "fn=0 # Los 5s que clasificamos incorrectamente, están acá\n",
    "fp=6 # No hicimos ninguna claisificación FP.\n",
    "\n",
    "accuracy = (tn+tp)/(tn+tp+fn+fp)\n",
    "print(accuracy*100)"
   ]
  },
  {
   "cell_type": "markdown",
   "id": "9be57ac9",
   "metadata": {
    "slideshow": {
     "slide_type": "fragment"
    }
   },
   "source": [
    "El accuracy es una excelente medida, pero que se basa en un supuesto:Los datos positivos y negativos deben ser **COMPARABLES** en cantidad, lo cual no siempre ocurre."
   ]
  },
  {
   "cell_type": "markdown",
   "id": "afe576dc",
   "metadata": {
    "slideshow": {
     "slide_type": "slide"
    }
   },
   "source": [
    "# Sensitivity/Recall/True Positive Rate (sensibilidad)"
   ]
  },
  {
   "cell_type": "markdown",
   "id": "8644a24c",
   "metadata": {
    "slideshow": {
     "slide_type": "fragment"
    }
   },
   "source": [
    "- Fracción de casos **pertenecientes** a una clase correctamente clasificados (¿Cuántas veces acerté al clasificar la clase X?)\n",
    "\n",
    "$$ \\text{sensitivity} = \\frac{TP}{TP + FN} = \\frac{\\text{Positivos correctamente clasificados}}{\\text{Positivos reales totales}} $$"
   ]
  },
  {
   "cell_type": "code",
   "execution_count": 11,
   "id": "bbfc685d",
   "metadata": {},
   "outputs": [
    {
     "name": "stdout",
     "output_type": "stream",
     "text": [
      "0.0\n"
     ]
    }
   ],
   "source": [
    "# Ahora, calculemos la sensibilidad de nuestro modelo de\n",
    "# No 5s\n",
    "sensitivity = tp/(tp+fn)\n",
    "print(sensitivity*100)"
   ]
  },
  {
   "cell_type": "markdown",
   "id": "e6bc68a7",
   "metadata": {
    "slideshow": {
     "slide_type": "slide"
    }
   },
   "source": [
    "# Specificity/Selectivity/True Negative Rate (especificidad)"
   ]
  },
  {
   "cell_type": "markdown",
   "id": "e95c044e",
   "metadata": {
    "slideshow": {
     "slide_type": "fragment"
    }
   },
   "source": [
    "- Fracción de casos **no pertenecientes** a una clase correctamente clasificados (¿Cuántas veces acerté al clasificar casos fuera de la clase X?)\n",
    "\n",
    "$$ \\text{specificity} = \\frac{TN}{TN + FP} $$"
   ]
  },
  {
   "cell_type": "code",
   "execution_count": 12,
   "id": "14b805f2",
   "metadata": {},
   "outputs": [
    {
     "name": "stdout",
     "output_type": "stream",
     "text": [
      "100.0\n"
     ]
    }
   ],
   "source": [
    "# Calculemos ahora la especificidad de nuestro modelo\n",
    "# No 5s\n",
    "specificity = (tn)/(tn + fp)\n",
    "print(specificity*100)"
   ]
  },
  {
   "cell_type": "markdown",
   "id": "aa9a9783",
   "metadata": {
    "slideshow": {
     "slide_type": "slide"
    }
   },
   "source": [
    "# Precision/Positive predictions (precisión)"
   ]
  },
  {
   "cell_type": "markdown",
   "id": "8434b159",
   "metadata": {
    "slideshow": {
     "slide_type": "fragment"
    }
   },
   "source": [
    "- Fracción de casos clasificados como **positivos** que fueron correctamente clasificados (¿Cuántos casos clasificados como X fueron acertados?)\n",
    "\n",
    "$$ \\text{precision} = \\frac{TP}{TP + FP} = \\frac{\\text{Casos correctamente clasificados}}{\\text{Casos totales clasificados como Positivos}} $$"
   ]
  },
  {
   "cell_type": "code",
   "execution_count": null,
   "id": "888b0c7e",
   "metadata": {},
   "outputs": [],
   "source": [
    "# Calculemos la precision de nuestro modelo\n",
    "# No 5s\n",
    "precision = tp/(tp+fp)\n",
    "print(precision*100)"
   ]
  },
  {
   "cell_type": "code",
   "execution_count": null,
   "id": "1bcd99fb",
   "metadata": {
    "slideshow": {
     "slide_type": "slide"
    }
   },
   "outputs": [],
   "source": [
    "# Calcular sensibilidad, especificidad y precision\n",
    "sensitivity = tp / (tp + fn)\n",
    "specificity = tn / (tn + fp)\n",
    "#precision = tp / (tp + fp)\n",
    "print('Sensitivity: {:.3f}'.format(sensitivity))\n",
    "print('Specificity: {:.3f}'.format(specificity))\n",
    "#print('Precision: {:.3f}'.format(precision))"
   ]
  },
  {
   "cell_type": "markdown",
   "id": "f10454cc",
   "metadata": {
    "slideshow": {
     "slide_type": "slide"
    }
   },
   "source": [
    "# Muestreo"
   ]
  },
  {
   "cell_type": "markdown",
   "id": "081826a4",
   "metadata": {
    "slideshow": {
     "slide_type": "fragment"
    }
   },
   "source": [
    "Selección de un subconjunto de instancias (muestra) a partir de un conjunto de datos"
   ]
  },
  {
   "cell_type": "markdown",
   "id": "aabbc631",
   "metadata": {
    "slideshow": {
     "slide_type": "fragment"
    }
   },
   "source": [
    "## Muestreo con reemplazo"
   ]
  },
  {
   "cell_type": "markdown",
   "id": "9c7940dc",
   "metadata": {
    "slideshow": {
     "slide_type": "fragment"
    }
   },
   "source": [
    "<img src=\"images/sampleWithReplacement.png\" alt=\"\" width=\"250px\" align=\"center\"/>"
   ]
  },
  {
   "cell_type": "markdown",
   "id": "e1114460",
   "metadata": {
    "slideshow": {
     "slide_type": "fragment"
    }
   },
   "source": [
    "## Muestreo sin reemplazo"
   ]
  },
  {
   "cell_type": "markdown",
   "id": "90c0665a",
   "metadata": {
    "slideshow": {
     "slide_type": "fragment"
    }
   },
   "source": [
    "<img src=\"images/sampleWithoutReplacement.png\" alt=\"\" width=\"250px\" align=\"center\"/>"
   ]
  },
  {
   "cell_type": "code",
   "execution_count": null,
   "id": "ec36fd9c",
   "metadata": {
    "slideshow": {
     "slide_type": "fragment"
    }
   },
   "outputs": [],
   "source": [
    "# NumPy es bueno para ayudar a generar números aleatorios\n",
    "import numpy as np\n",
    "import pandas as pd\n",
    "from sklearn.datasets import load_boston\n",
    "\n",
    "data = load_boston()\n",
    "df = pd.DataFrame(data.data, columns=data.feature_names)\n",
    "df['target'] = data.target\n",
    "df.head()"
   ]
  },
  {
   "cell_type": "code",
   "execution_count": null,
   "id": "392b919a",
   "metadata": {
    "slideshow": {
     "slide_type": "fragment"
    }
   },
   "outputs": [],
   "source": [
    "# Código para muestreo con reemplazo\n",
    "np.random.seed(0)\n",
    "for _ in range(1, 15):\n",
    "    samples = np.random.choice(a=15, size=15, replace=True) # Escojo 15 índices\n",
    "    print(samples, ',Num Samples: ' + str(len(samples)) + ',numberUnique: ' + str(len(set(samples))) )\n",
    "bootstrappedDF = df.loc[samples, :]\n",
    "bootstrappedDF"
   ]
  },
  {
   "cell_type": "code",
   "execution_count": null,
   "id": "3bf0bace",
   "metadata": {},
   "outputs": [],
   "source": [
    "# Muestreo sin reemplazo\n",
    "np.random.seed(0)\n",
    "for _ in range(1, 15):\n",
    "    samples = np.random.choice(a=15, size=15, replace=False)\n",
    "    print(samples, ',Num Samples: ' + str(len(samples)) + ',numberUnique: ' + str(len(set(samples))) )\n",
    "bootstrappedDF = df.loc[samples, :]\n",
    "bootstrappedDF"
   ]
  },
  {
   "cell_type": "code",
   "execution_count": null,
   "id": "2a0a3261",
   "metadata": {
    "slideshow": {
     "slide_type": "skip"
    }
   },
   "outputs": [],
   "source": [
    "from IPython.core.display import HTML\n",
    "HTML(\"\"\"\n",
    "<style>\n",
    ".output_png {\n",
    "    display: table-cell;\n",
    "    text-align: center;\n",
    "    vertical-align: middle;\n",
    "}\n",
    "</style>\n",
    "\"\"\")\n",
    "#codigo extra, para que imagenes de matplotlib\n",
    "#estén centradas en las diapositivas, ejecutar antes de lanzar los ejemplos."
   ]
  }
 ],
 "metadata": {
  "celltoolbar": "Slideshow",
  "kernelspec": {
   "display_name": "Python 3 (ipykernel)",
   "language": "python",
   "name": "python3"
  },
  "language_info": {
   "codemirror_mode": {
    "name": "ipython",
    "version": 3
   },
   "file_extension": ".py",
   "mimetype": "text/x-python",
   "name": "python",
   "nbconvert_exporter": "python",
   "pygments_lexer": "ipython3",
   "version": "3.11.4"
  },
  "varInspector": {
   "cols": {
    "lenName": 16,
    "lenType": 16,
    "lenVar": 40
   },
   "kernels_config": {
    "python": {
     "delete_cmd_postfix": "",
     "delete_cmd_prefix": "del ",
     "library": "var_list.py",
     "varRefreshCmd": "print(var_dic_list())"
    },
    "r": {
     "delete_cmd_postfix": ") ",
     "delete_cmd_prefix": "rm(",
     "library": "var_list.r",
     "varRefreshCmd": "cat(var_dic_list()) "
    }
   },
   "types_to_exclude": [
    "module",
    "function",
    "builtin_function_or_method",
    "instance",
    "_Feature"
   ],
   "window_display": false
  }
 },
 "nbformat": 4,
 "nbformat_minor": 5
}
